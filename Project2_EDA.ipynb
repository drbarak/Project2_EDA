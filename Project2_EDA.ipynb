{
  "nbformat": 4,
  "nbformat_minor": 0,
  "metadata": {
    "colab": {
      "name": "Project2_EDA.ipynb",
      "provenance": [],
      "collapsed_sections": [],
      "authorship_tag": "ABX9TyOlwVfDUdi9u9/zD+8DJpse",
      "include_colab_link": true
    },
    "kernelspec": {
      "display_name": "Python 3",
      "name": "python3"
    }
  },
  "cells": [
    {
      "cell_type": "markdown",
      "metadata": {
        "id": "view-in-github",
        "colab_type": "text"
      },
      "source": [
        "<a href=\"https://colab.research.google.com/github/drbarak/Project2_EDA/blob/main/Project2_EDA.ipynb\" target=\"_parent\"><img src=\"https://colab.research.google.com/assets/colab-badge.svg\" alt=\"Open In Colab\"/></a>"
      ]
    },
    {
      "cell_type": "markdown",
      "metadata": {
        "id": "EDAB2XTfV4bg"
      },
      "source": [
        "# Read CSV\r\n",
        "\r\n",
        "Source: https://www.kaggle.com/sakshigoyal7/credit-card-customers"
      ]
    },
    {
      "cell_type": "code",
      "metadata": {
        "id": "DbYV1ImZq95n"
      },
      "source": [
        "import pandas as pd\r\n",
        "import matplotlib.pyplot as plt\r\n",
        "import seaborn as sns\r\n",
        "import numpy as np\r\n",
        "from pandas_profiling import ProfileReport\r\n",
        "from IPython.display import display\r\n",
        "p = print\r\n",
        "d = display"
      ],
      "execution_count": 346,
      "outputs": []
    },
    {
      "cell_type": "code",
      "metadata": {
        "colab": {
          "base_uri": "https://localhost:8080/"
        },
        "id": "vzGCfWpDqkuR",
        "outputId": "c68ecf7a-aff6-47d3-ae31-a8d2866e6883"
      },
      "source": [
        "try:\r\n",
        "  df = pd.read_csv('BankChurners.csv')\r\n",
        "except:\r\n",
        "  from google.colab import files\r\n",
        "  uploaded = files.upload()\r\n",
        "  df = pd.read_csv('BankChurners.csv')\r\n",
        "  \r\n",
        "df.columns"
      ],
      "execution_count": 347,
      "outputs": [
        {
          "output_type": "execute_result",
          "data": {
            "text/plain": [
              "Index(['CLIENTNUM', 'Attrition_Flag', 'Customer_Age', 'Gender',\n",
              "       'Dependent_count', 'Education_Level', 'Marital_Status',\n",
              "       'Income_Category', 'Card_Category', 'Months_on_book',\n",
              "       'Total_Relationship_Count', 'Months_Inactive_12_mon',\n",
              "       'Contacts_Count_12_mon', 'Credit_Limit', 'Total_Revolving_Bal',\n",
              "       'Avg_Open_To_Buy', 'Total_Amt_Chng_Q4_Q1', 'Total_Trans_Amt',\n",
              "       'Total_Trans_Ct', 'Total_Ct_Chng_Q4_Q1', 'Avg_Utilization_Ratio',\n",
              "       'Naive_Bayes_Classifier_Attrition_Flag_Card_Category_Contacts_Count_12_mon_Dependent_count_Education_Level_Months_Inactive_12_mon_1',\n",
              "       'Naive_Bayes_Classifier_Attrition_Flag_Card_Category_Contacts_Count_12_mon_Dependent_count_Education_Level_Months_Inactive_12_mon_2'],\n",
              "      dtype='object')"
            ]
          },
          "metadata": {
            "tags": []
          },
          "execution_count": 347
        }
      ]
    },
    {
      "cell_type": "markdown",
      "metadata": {
        "id": "B9bW3FhoWc3D"
      },
      "source": [
        "## Drop last 2 columns"
      ]
    },
    {
      "cell_type": "code",
      "metadata": {
        "colab": {
          "base_uri": "https://localhost:8080/"
        },
        "id": "QSElBpWzqrkE",
        "outputId": "d62f7920-0042-4c1c-8bf6-5bf92ebd282f"
      },
      "source": [
        "df.drop(df.columns[-2:], axis=1, inplace=True)\r\n",
        "df.columns"
      ],
      "execution_count": 348,
      "outputs": [
        {
          "output_type": "execute_result",
          "data": {
            "text/plain": [
              "Index(['CLIENTNUM', 'Attrition_Flag', 'Customer_Age', 'Gender',\n",
              "       'Dependent_count', 'Education_Level', 'Marital_Status',\n",
              "       'Income_Category', 'Card_Category', 'Months_on_book',\n",
              "       'Total_Relationship_Count', 'Months_Inactive_12_mon',\n",
              "       'Contacts_Count_12_mon', 'Credit_Limit', 'Total_Revolving_Bal',\n",
              "       'Avg_Open_To_Buy', 'Total_Amt_Chng_Q4_Q1', 'Total_Trans_Amt',\n",
              "       'Total_Trans_Ct', 'Total_Ct_Chng_Q4_Q1', 'Avg_Utilization_Ratio'],\n",
              "      dtype='object')"
            ]
          },
          "metadata": {
            "tags": []
          },
          "execution_count": 348
        }
      ]
    },
    {
      "cell_type": "code",
      "metadata": {
        "id": "no8tqKI2rRZ0"
      },
      "source": [
        "df.rename(columns={'CLIENTNUM': 'Client_num'}, inplace=True)"
      ],
      "execution_count": 349,
      "outputs": []
    },
    {
      "cell_type": "markdown",
      "metadata": {
        "id": "EXl5DhwNWCgt"
      },
      "source": [
        "## change all columns to all lowercase"
      ]
    },
    {
      "cell_type": "code",
      "metadata": {
        "id": "ZB2Sc1jjV-QX"
      },
      "source": [
        "df.columns = df.columns.str.lower()"
      ],
      "execution_count": 350,
      "outputs": []
    },
    {
      "cell_type": "code",
      "metadata": {
        "colab": {
          "base_uri": "https://localhost:8080/"
        },
        "id": "mFEFqsgirVoB",
        "outputId": "f979be58-77fa-4614-d5a4-768582dabf4e"
      },
      "source": [
        "df.info()"
      ],
      "execution_count": 351,
      "outputs": [
        {
          "output_type": "stream",
          "text": [
            "<class 'pandas.core.frame.DataFrame'>\n",
            "RangeIndex: 10127 entries, 0 to 10126\n",
            "Data columns (total 21 columns):\n",
            " #   Column                    Non-Null Count  Dtype  \n",
            "---  ------                    --------------  -----  \n",
            " 0   client_num                10127 non-null  int64  \n",
            " 1   attrition_flag            10127 non-null  object \n",
            " 2   customer_age              10127 non-null  int64  \n",
            " 3   gender                    10127 non-null  object \n",
            " 4   dependent_count           10127 non-null  int64  \n",
            " 5   education_level           10127 non-null  object \n",
            " 6   marital_status            10127 non-null  object \n",
            " 7   income_category           10127 non-null  object \n",
            " 8   card_category             10127 non-null  object \n",
            " 9   months_on_book            10127 non-null  int64  \n",
            " 10  total_relationship_count  10127 non-null  int64  \n",
            " 11  months_inactive_12_mon    10127 non-null  int64  \n",
            " 12  contacts_count_12_mon     10127 non-null  int64  \n",
            " 13  credit_limit              10127 non-null  float64\n",
            " 14  total_revolving_bal       10127 non-null  int64  \n",
            " 15  avg_open_to_buy           10127 non-null  float64\n",
            " 16  total_amt_chng_q4_q1      10127 non-null  float64\n",
            " 17  total_trans_amt           10127 non-null  int64  \n",
            " 18  total_trans_ct            10127 non-null  int64  \n",
            " 19  total_ct_chng_q4_q1       10127 non-null  float64\n",
            " 20  avg_utilization_ratio     10127 non-null  float64\n",
            "dtypes: float64(5), int64(10), object(6)\n",
            "memory usage: 1.6+ MB\n"
          ],
          "name": "stdout"
        }
      ]
    },
    {
      "cell_type": "code",
      "metadata": {
        "colab": {
          "base_uri": "https://localhost:8080/"
        },
        "id": "K1rZ0lwzqaNy",
        "outputId": "b03fc364-e128-4b3d-9100-11969876d7f2"
      },
      "source": [
        "df.client_num.nunique()"
      ],
      "execution_count": 352,
      "outputs": [
        {
          "output_type": "execute_result",
          "data": {
            "text/plain": [
              "10127"
            ]
          },
          "metadata": {
            "tags": []
          },
          "execution_count": 352
        }
      ]
    },
    {
      "cell_type": "markdown",
      "metadata": {
        "id": "cXXgixKiWyX3"
      },
      "source": [
        "## Make client_num index"
      ]
    },
    {
      "cell_type": "code",
      "metadata": {
        "id": "tmaeKaoRsQTV"
      },
      "source": [
        "df.set_index('client_num', inplace=True)"
      ],
      "execution_count": 353,
      "outputs": []
    },
    {
      "cell_type": "code",
      "metadata": {
        "colab": {
          "base_uri": "https://localhost:8080/",
          "height": 335
        },
        "id": "hJ9pf-7HsgHb",
        "outputId": "e87c9570-3e6e-4403-81e2-bd1cbe547e6e"
      },
      "source": [
        "df.head()"
      ],
      "execution_count": 354,
      "outputs": [
        {
          "output_type": "execute_result",
          "data": {
            "text/html": [
              "<div>\n",
              "<style scoped>\n",
              "    .dataframe tbody tr th:only-of-type {\n",
              "        vertical-align: middle;\n",
              "    }\n",
              "\n",
              "    .dataframe tbody tr th {\n",
              "        vertical-align: top;\n",
              "    }\n",
              "\n",
              "    .dataframe thead th {\n",
              "        text-align: right;\n",
              "    }\n",
              "</style>\n",
              "<table border=\"1\" class=\"dataframe\">\n",
              "  <thead>\n",
              "    <tr style=\"text-align: right;\">\n",
              "      <th></th>\n",
              "      <th>attrition_flag</th>\n",
              "      <th>customer_age</th>\n",
              "      <th>gender</th>\n",
              "      <th>dependent_count</th>\n",
              "      <th>education_level</th>\n",
              "      <th>marital_status</th>\n",
              "      <th>income_category</th>\n",
              "      <th>card_category</th>\n",
              "      <th>months_on_book</th>\n",
              "      <th>total_relationship_count</th>\n",
              "      <th>months_inactive_12_mon</th>\n",
              "      <th>contacts_count_12_mon</th>\n",
              "      <th>credit_limit</th>\n",
              "      <th>total_revolving_bal</th>\n",
              "      <th>avg_open_to_buy</th>\n",
              "      <th>total_amt_chng_q4_q1</th>\n",
              "      <th>total_trans_amt</th>\n",
              "      <th>total_trans_ct</th>\n",
              "      <th>total_ct_chng_q4_q1</th>\n",
              "      <th>avg_utilization_ratio</th>\n",
              "    </tr>\n",
              "    <tr>\n",
              "      <th>client_num</th>\n",
              "      <th></th>\n",
              "      <th></th>\n",
              "      <th></th>\n",
              "      <th></th>\n",
              "      <th></th>\n",
              "      <th></th>\n",
              "      <th></th>\n",
              "      <th></th>\n",
              "      <th></th>\n",
              "      <th></th>\n",
              "      <th></th>\n",
              "      <th></th>\n",
              "      <th></th>\n",
              "      <th></th>\n",
              "      <th></th>\n",
              "      <th></th>\n",
              "      <th></th>\n",
              "      <th></th>\n",
              "      <th></th>\n",
              "      <th></th>\n",
              "    </tr>\n",
              "  </thead>\n",
              "  <tbody>\n",
              "    <tr>\n",
              "      <th>768805383</th>\n",
              "      <td>Existing Customer</td>\n",
              "      <td>45</td>\n",
              "      <td>M</td>\n",
              "      <td>3</td>\n",
              "      <td>High School</td>\n",
              "      <td>Married</td>\n",
              "      <td>$60K - $80K</td>\n",
              "      <td>Blue</td>\n",
              "      <td>39</td>\n",
              "      <td>5</td>\n",
              "      <td>1</td>\n",
              "      <td>3</td>\n",
              "      <td>12691.0</td>\n",
              "      <td>777</td>\n",
              "      <td>11914.0</td>\n",
              "      <td>1.335</td>\n",
              "      <td>1144</td>\n",
              "      <td>42</td>\n",
              "      <td>1.625</td>\n",
              "      <td>0.061</td>\n",
              "    </tr>\n",
              "    <tr>\n",
              "      <th>818770008</th>\n",
              "      <td>Existing Customer</td>\n",
              "      <td>49</td>\n",
              "      <td>F</td>\n",
              "      <td>5</td>\n",
              "      <td>Graduate</td>\n",
              "      <td>Single</td>\n",
              "      <td>Less than $40K</td>\n",
              "      <td>Blue</td>\n",
              "      <td>44</td>\n",
              "      <td>6</td>\n",
              "      <td>1</td>\n",
              "      <td>2</td>\n",
              "      <td>8256.0</td>\n",
              "      <td>864</td>\n",
              "      <td>7392.0</td>\n",
              "      <td>1.541</td>\n",
              "      <td>1291</td>\n",
              "      <td>33</td>\n",
              "      <td>3.714</td>\n",
              "      <td>0.105</td>\n",
              "    </tr>\n",
              "    <tr>\n",
              "      <th>713982108</th>\n",
              "      <td>Existing Customer</td>\n",
              "      <td>51</td>\n",
              "      <td>M</td>\n",
              "      <td>3</td>\n",
              "      <td>Graduate</td>\n",
              "      <td>Married</td>\n",
              "      <td>$80K - $120K</td>\n",
              "      <td>Blue</td>\n",
              "      <td>36</td>\n",
              "      <td>4</td>\n",
              "      <td>1</td>\n",
              "      <td>0</td>\n",
              "      <td>3418.0</td>\n",
              "      <td>0</td>\n",
              "      <td>3418.0</td>\n",
              "      <td>2.594</td>\n",
              "      <td>1887</td>\n",
              "      <td>20</td>\n",
              "      <td>2.333</td>\n",
              "      <td>0.000</td>\n",
              "    </tr>\n",
              "    <tr>\n",
              "      <th>769911858</th>\n",
              "      <td>Existing Customer</td>\n",
              "      <td>40</td>\n",
              "      <td>F</td>\n",
              "      <td>4</td>\n",
              "      <td>High School</td>\n",
              "      <td>Unknown</td>\n",
              "      <td>Less than $40K</td>\n",
              "      <td>Blue</td>\n",
              "      <td>34</td>\n",
              "      <td>3</td>\n",
              "      <td>4</td>\n",
              "      <td>1</td>\n",
              "      <td>3313.0</td>\n",
              "      <td>2517</td>\n",
              "      <td>796.0</td>\n",
              "      <td>1.405</td>\n",
              "      <td>1171</td>\n",
              "      <td>20</td>\n",
              "      <td>2.333</td>\n",
              "      <td>0.760</td>\n",
              "    </tr>\n",
              "    <tr>\n",
              "      <th>709106358</th>\n",
              "      <td>Existing Customer</td>\n",
              "      <td>40</td>\n",
              "      <td>M</td>\n",
              "      <td>3</td>\n",
              "      <td>Uneducated</td>\n",
              "      <td>Married</td>\n",
              "      <td>$60K - $80K</td>\n",
              "      <td>Blue</td>\n",
              "      <td>21</td>\n",
              "      <td>5</td>\n",
              "      <td>1</td>\n",
              "      <td>0</td>\n",
              "      <td>4716.0</td>\n",
              "      <td>0</td>\n",
              "      <td>4716.0</td>\n",
              "      <td>2.175</td>\n",
              "      <td>816</td>\n",
              "      <td>28</td>\n",
              "      <td>2.500</td>\n",
              "      <td>0.000</td>\n",
              "    </tr>\n",
              "  </tbody>\n",
              "</table>\n",
              "</div>"
            ],
            "text/plain": [
              "               attrition_flag  ...  avg_utilization_ratio\n",
              "client_num                     ...                       \n",
              "768805383   Existing Customer  ...                  0.061\n",
              "818770008   Existing Customer  ...                  0.105\n",
              "713982108   Existing Customer  ...                  0.000\n",
              "769911858   Existing Customer  ...                  0.760\n",
              "709106358   Existing Customer  ...                  0.000\n",
              "\n",
              "[5 rows x 20 columns]"
            ]
          },
          "metadata": {
            "tags": []
          },
          "execution_count": 354
        }
      ]
    },
    {
      "cell_type": "code",
      "metadata": {
        "colab": {
          "base_uri": "https://localhost:8080/"
        },
        "id": "_nBQIDwvsp9l",
        "outputId": "646965d2-b4f9-4a8d-9636-7cfa5d660dd6"
      },
      "source": [
        "df.education_level.value_counts()"
      ],
      "execution_count": 355,
      "outputs": [
        {
          "output_type": "execute_result",
          "data": {
            "text/plain": [
              "Graduate         3128\n",
              "High School      2013\n",
              "Unknown          1519\n",
              "Uneducated       1487\n",
              "College          1013\n",
              "Post-Graduate     516\n",
              "Doctorate         451\n",
              "Name: education_level, dtype: int64"
            ]
          },
          "metadata": {
            "tags": []
          },
          "execution_count": 355
        }
      ]
    },
    {
      "cell_type": "markdown",
      "metadata": {
        "id": "e3M2G_iUtDcy"
      },
      "source": [
        "# QUESTION: There are 1519 unknown education and 749 marital_status, 1112 income_category. What do we do with it"
      ]
    },
    {
      "cell_type": "markdown",
      "metadata": {
        "id": "iE1_Sk41XJup"
      },
      "source": [
        "## Value_counts for all fields"
      ]
    },
    {
      "cell_type": "code",
      "metadata": {
        "colab": {
          "base_uri": "https://localhost:8080/"
        },
        "id": "0rZrSfFntHUt",
        "outputId": "4a2ca877-96d3-43c8-de1d-77e2a4aaae3b"
      },
      "source": [
        "for c in df.columns:\r\n",
        "  p(df[[c]].value_counts())\r\n",
        "  print()"
      ],
      "execution_count": 356,
      "outputs": [
        {
          "output_type": "stream",
          "text": [
            "attrition_flag   \n",
            "Existing Customer    8500\n",
            "Attrited Customer    1627\n",
            "dtype: int64\n",
            "\n",
            "customer_age\n",
            "44              500\n",
            "49              495\n",
            "46              490\n",
            "45              486\n",
            "47              479\n",
            "43              473\n",
            "48              472\n",
            "50              452\n",
            "42              426\n",
            "51              398\n",
            "53              387\n",
            "41              379\n",
            "52              376\n",
            "40              361\n",
            "39              333\n",
            "54              307\n",
            "38              303\n",
            "55              279\n",
            "56              262\n",
            "37              260\n",
            "57              223\n",
            "36              221\n",
            "35              184\n",
            "58              157\n",
            "59              157\n",
            "34              146\n",
            "60              127\n",
            "33              127\n",
            "32              106\n",
            "65              101\n",
            "62               93\n",
            "61               93\n",
            "31               91\n",
            "26               78\n",
            "30               70\n",
            "63               65\n",
            "29               56\n",
            "64               43\n",
            "27               32\n",
            "28               29\n",
            "67                4\n",
            "66                2\n",
            "68                2\n",
            "70                1\n",
            "73                1\n",
            "dtype: int64\n",
            "\n",
            "gender\n",
            "F         5358\n",
            "M         4769\n",
            "dtype: int64\n",
            "\n",
            "dependent_count\n",
            "3                  2732\n",
            "2                  2655\n",
            "1                  1838\n",
            "4                  1574\n",
            "0                   904\n",
            "5                   424\n",
            "dtype: int64\n",
            "\n",
            "education_level\n",
            "Graduate           3128\n",
            "High School        2013\n",
            "Unknown            1519\n",
            "Uneducated         1487\n",
            "College            1013\n",
            "Post-Graduate       516\n",
            "Doctorate           451\n",
            "dtype: int64\n",
            "\n",
            "marital_status\n",
            "Married           4687\n",
            "Single            3943\n",
            "Unknown            749\n",
            "Divorced           748\n",
            "dtype: int64\n",
            "\n",
            "income_category\n",
            "Less than $40K     3561\n",
            "$40K - $60K        1790\n",
            "$80K - $120K       1535\n",
            "$60K - $80K        1402\n",
            "Unknown            1112\n",
            "$120K +             727\n",
            "dtype: int64\n",
            "\n",
            "card_category\n",
            "Blue             9436\n",
            "Silver            555\n",
            "Gold              116\n",
            "Platinum           20\n",
            "dtype: int64\n",
            "\n",
            "months_on_book\n",
            "36                2463\n",
            "37                 358\n",
            "34                 353\n",
            "38                 347\n",
            "39                 341\n",
            "40                 333\n",
            "31                 318\n",
            "35                 317\n",
            "33                 305\n",
            "30                 300\n",
            "41                 297\n",
            "32                 289\n",
            "28                 275\n",
            "43                 273\n",
            "42                 271\n",
            "29                 241\n",
            "44                 230\n",
            "45                 227\n",
            "27                 206\n",
            "46                 197\n",
            "26                 186\n",
            "47                 171\n",
            "25                 165\n",
            "48                 162\n",
            "24                 160\n",
            "49                 141\n",
            "23                 116\n",
            "22                 105\n",
            "56                 103\n",
            "50                  96\n",
            "21                  83\n",
            "51                  80\n",
            "53                  78\n",
            "20                  74\n",
            "13                  70\n",
            "19                  63\n",
            "52                  62\n",
            "18                  58\n",
            "54                  53\n",
            "55                  42\n",
            "17                  39\n",
            "15                  34\n",
            "16                  29\n",
            "14                  16\n",
            "dtype: int64\n",
            "\n",
            "total_relationship_count\n",
            "3                           2305\n",
            "4                           1912\n",
            "5                           1891\n",
            "6                           1866\n",
            "2                           1243\n",
            "1                            910\n",
            "dtype: int64\n",
            "\n",
            "months_inactive_12_mon\n",
            "3                         3846\n",
            "2                         3282\n",
            "1                         2233\n",
            "4                          435\n",
            "5                          178\n",
            "6                          124\n",
            "0                           29\n",
            "dtype: int64\n",
            "\n",
            "contacts_count_12_mon\n",
            "3                        3380\n",
            "2                        3227\n",
            "1                        1499\n",
            "4                        1392\n",
            "0                         399\n",
            "5                         176\n",
            "6                          54\n",
            "dtype: int64\n",
            "\n",
            "credit_limit\n",
            "34516.0         508\n",
            "1438.3          507\n",
            "15987.0          18\n",
            "9959.0           18\n",
            "23981.0          12\n",
            "               ... \n",
            "10130.0           1\n",
            "10133.0           1\n",
            "10136.0           1\n",
            "10144.0           1\n",
            "6511.0            1\n",
            "Length: 6205, dtype: int64\n",
            "\n",
            "total_revolving_bal\n",
            "0                      2470\n",
            "2517                    508\n",
            "1965                     12\n",
            "1480                     12\n",
            "1664                     11\n",
            "                       ... \n",
            "1712                      1\n",
            "1756                      1\n",
            "1757                      1\n",
            "1768                      1\n",
            "1447                      1\n",
            "Length: 1974, dtype: int64\n",
            "\n",
            "avg_open_to_buy\n",
            "1438.3             324\n",
            "34516.0             98\n",
            "31999.0             26\n",
            "787.0                8\n",
            "713.0                7\n",
            "                  ... \n",
            "9637.0               1\n",
            "9641.0               1\n",
            "9661.0               1\n",
            "9663.0               1\n",
            "3.0                  1\n",
            "Length: 6813, dtype: int64\n",
            "\n",
            "total_amt_chng_q4_q1\n",
            "0.791                   36\n",
            "0.712                   34\n",
            "0.743                   34\n",
            "0.735                   33\n",
            "0.718                   33\n",
            "                        ..\n",
            "1.458                    1\n",
            "1.456                    1\n",
            "1.449                    1\n",
            "1.441                    1\n",
            "3.397                    1\n",
            "Length: 1158, dtype: int64\n",
            "\n",
            "total_trans_amt\n",
            "4253               11\n",
            "4509               11\n",
            "2229               10\n",
            "4518               10\n",
            "4498                9\n",
            "                   ..\n",
            "5425                1\n",
            "5421                1\n",
            "5418                1\n",
            "5413                1\n",
            "510                 1\n",
            "Length: 5033, dtype: int64\n",
            "\n",
            "total_trans_ct\n",
            "81                208\n",
            "75                203\n",
            "71                203\n",
            "69                202\n",
            "82                202\n",
            "                 ... \n",
            "11                  2\n",
            "138                 1\n",
            "132                 1\n",
            "134                 1\n",
            "139                 1\n",
            "Length: 126, dtype: int64\n",
            "\n",
            "total_ct_chng_q4_q1\n",
            "0.667                  171\n",
            "1.000                  166\n",
            "0.500                  161\n",
            "0.750                  156\n",
            "0.600                  113\n",
            "                      ... \n",
            "1.476                    1\n",
            "1.478                    1\n",
            "0.434                    1\n",
            "1.480                    1\n",
            "3.714                    1\n",
            "Length: 830, dtype: int64\n",
            "\n",
            "avg_utilization_ratio\n",
            "0.000                    2470\n",
            "0.073                      44\n",
            "0.057                      33\n",
            "0.048                      32\n",
            "0.060                      30\n",
            "                         ... \n",
            "0.921                       1\n",
            "0.920                       1\n",
            "0.918                       1\n",
            "0.916                       1\n",
            "0.999                       1\n",
            "Length: 964, dtype: int64\n",
            "\n"
          ],
          "name": "stdout"
        }
      ]
    },
    {
      "cell_type": "markdown",
      "metadata": {
        "id": "WRoO8JulyxC2"
      },
      "source": [
        "# Avg_Utilization_Ratio \r\n",
        "It is the ratio of (credit card spent + money withdrawal)/(Total available limit for credit card spends + Total money withdrawal limit)"
      ]
    },
    {
      "cell_type": "markdown",
      "metadata": {
        "id": "bO8_aUhv8h2p"
      },
      "source": [
        "https://leaps.analyttica.com/sample_cases/11"
      ]
    },
    {
      "cell_type": "markdown",
      "metadata": {
        "id": "pEtlyW3L44Vc"
      },
      "source": [
        "total_Relationship_Count\tNum\tTotal no. of products held by the customer"
      ]
    },
    {
      "cell_type": "markdown",
      "metadata": {
        "id": "kBtIu1Ua6QHt"
      },
      "source": [
        "Total_Revolving_Bal\tNum\tTotal Revolving Balance on the Credit Card"
      ]
    },
    {
      "cell_type": "markdown",
      "metadata": {
        "id": "4r4fSXQI8UQi"
      },
      "source": [
        "Looking at the distribution plot of the Months on book there is a weird concentration in 36 months, does any one know a reason for this?"
      ]
    },
    {
      "cell_type": "markdown",
      "metadata": {
        "id": "CFM-npJy8W9p"
      },
      "source": [
        "# Is there a relation between 0 for total_revolving_balance and attrition or months_on_book"
      ]
    },
    {
      "cell_type": "markdown",
      "metadata": {
        "id": "X9exsKrn9Uqk"
      },
      "source": [
        "Is there a relation between non usage of the card to attrition"
      ]
    },
    {
      "cell_type": "markdown",
      "metadata": {
        "id": "pnb2BBwF-jTR"
      },
      "source": [
        "## Change column Attrition_Flag to 'churn' with 1 for yes and 0 for no (stayed with the card company)"
      ]
    },
    {
      "cell_type": "code",
      "metadata": {
        "colab": {
          "base_uri": "https://localhost:8080/"
        },
        "id": "Gc8hUrS9YChD",
        "outputId": "2d011e29-316b-4339-b916-b581a2a91a1f"
      },
      "source": [
        "df.rename(columns={'attrition_flag': 'churn'}, inplace=True)\r\n",
        "df.columns"
      ],
      "execution_count": 357,
      "outputs": [
        {
          "output_type": "execute_result",
          "data": {
            "text/plain": [
              "Index(['churn', 'customer_age', 'gender', 'dependent_count', 'education_level',\n",
              "       'marital_status', 'income_category', 'card_category', 'months_on_book',\n",
              "       'total_relationship_count', 'months_inactive_12_mon',\n",
              "       'contacts_count_12_mon', 'credit_limit', 'total_revolving_bal',\n",
              "       'avg_open_to_buy', 'total_amt_chng_q4_q1', 'total_trans_amt',\n",
              "       'total_trans_ct', 'total_ct_chng_q4_q1', 'avg_utilization_ratio'],\n",
              "      dtype='object')"
            ]
          },
          "metadata": {
            "tags": []
          },
          "execution_count": 357
        }
      ]
    },
    {
      "cell_type": "code",
      "metadata": {
        "colab": {
          "base_uri": "https://localhost:8080/"
        },
        "id": "cYCAoAWbYHxr",
        "outputId": "aa94b1a5-4ce5-4858-aa96-7466d52f5c7c"
      },
      "source": [
        "df.churn = df['churn'].apply(lambda x: 0 if x == 'Existing Customer' else 1)\r\n",
        "df.churn.value_counts()"
      ],
      "execution_count": 358,
      "outputs": [
        {
          "output_type": "execute_result",
          "data": {
            "text/plain": [
              "0    8500\n",
              "1    1627\n",
              "Name: churn, dtype: int64"
            ]
          },
          "metadata": {
            "tags": []
          },
          "execution_count": 358
        }
      ]
    },
    {
      "cell_type": "markdown",
      "metadata": {
        "id": "3Pt2Cx5f9K1f"
      },
      "source": [
        "## Change column Gender to 'female' with 1 for yes and 0 for no"
      ]
    },
    {
      "cell_type": "code",
      "metadata": {
        "colab": {
          "base_uri": "https://localhost:8080/"
        },
        "id": "PSPCrhS9YR52",
        "outputId": "c9b8e1cd-09f6-4121-d2a2-db9a24e28d31"
      },
      "source": [
        "df.rename(columns={'gender': 'female'}, inplace=True)\r\n",
        "df.female = df['female'].apply(lambda x: 1 if x == 'F' else 0)\r\n",
        "df.female.value_counts()"
      ],
      "execution_count": 359,
      "outputs": [
        {
          "output_type": "execute_result",
          "data": {
            "text/plain": [
              "1    5358\n",
              "0    4769\n",
              "Name: female, dtype: int64"
            ]
          },
          "metadata": {
            "tags": []
          },
          "execution_count": 359
        }
      ]
    },
    {
      "cell_type": "markdown",
      "metadata": {
        "id": "WmXhG_u7YfyA"
      },
      "source": [
        "## Change column customer_age to 'age' "
      ]
    },
    {
      "cell_type": "code",
      "metadata": {
        "colab": {
          "base_uri": "https://localhost:8080/"
        },
        "id": "lZ2g8Ag9YcJh",
        "outputId": "86b6dfd8-4b60-4aac-ee1f-b9e6a7874cb3"
      },
      "source": [
        "df.rename(columns={'customer_age': 'age'}, inplace=True)\r\n",
        "df.columns"
      ],
      "execution_count": 360,
      "outputs": [
        {
          "output_type": "execute_result",
          "data": {
            "text/plain": [
              "Index(['churn', 'age', 'female', 'dependent_count', 'education_level',\n",
              "       'marital_status', 'income_category', 'card_category', 'months_on_book',\n",
              "       'total_relationship_count', 'months_inactive_12_mon',\n",
              "       'contacts_count_12_mon', 'credit_limit', 'total_revolving_bal',\n",
              "       'avg_open_to_buy', 'total_amt_chng_q4_q1', 'total_trans_amt',\n",
              "       'total_trans_ct', 'total_ct_chng_q4_q1', 'avg_utilization_ratio'],\n",
              "      dtype='object')"
            ]
          },
          "metadata": {
            "tags": []
          },
          "execution_count": 360
        }
      ]
    },
    {
      "cell_type": "markdown",
      "metadata": {
        "id": "K928SEa5YpXO"
      },
      "source": [
        "## Change column education_level to 'education' and numeric as per table below"
      ]
    },
    {
      "cell_type": "code",
      "metadata": {
        "colab": {
          "base_uri": "https://localhost:8080/"
        },
        "id": "ABs8KwYdYsHL",
        "outputId": "53a8a7af-b3ca-440d-f0d5-7604745d9ac7"
      },
      "source": [
        "eds = ['Unknown', 'Uneducated', 'High School', 'College', 'Graduate', 'Post-Graduate','Doctorate']\r\n",
        "df.rename(columns={'education_level': 'education'}, inplace=True)\r\n",
        "df.education = df['education'].apply(lambda x: eds.index(x))\r\n",
        "df.education.value_counts()"
      ],
      "execution_count": 361,
      "outputs": [
        {
          "output_type": "execute_result",
          "data": {
            "text/plain": [
              "4    3128\n",
              "2    2013\n",
              "0    1519\n",
              "1    1487\n",
              "3    1013\n",
              "5     516\n",
              "6     451\n",
              "Name: education, dtype: int64"
            ]
          },
          "metadata": {
            "tags": []
          },
          "execution_count": 361
        }
      ]
    },
    {
      "cell_type": "markdown",
      "metadata": {
        "id": "tVQiq7smY4b2"
      },
      "source": [
        "\r\n",
        "```\r\n",
        "education_level\r\n",
        "Graduate           3128\r\n",
        "High School        2013\r\n",
        "Unknown            1519\r\n",
        "Uneducated         1487\r\n",
        "College            1013\r\n",
        "Post-Graduate       516\r\n",
        "Doctorate           451\r\n",
        "```\r\n",
        "\r\n",
        "\r\n"
      ]
    },
    {
      "cell_type": "markdown",
      "metadata": {
        "id": "5Dam1hflZgkG"
      },
      "source": [
        "## Change column marital_status to numeric as per table below"
      ]
    },
    {
      "cell_type": "markdown",
      "metadata": {
        "id": "xnymrMgxZl63"
      },
      "source": [
        "\r\n",
        "\r\n",
        "```\r\n",
        "marital_status\r\n",
        "Married           4687\r\n",
        "Single            3943\r\n",
        "Unknown            749\r\n",
        "Divorced           748\r\n",
        "\r\n",
        "marital_status\r\n",
        "Married           2\r\n",
        "Single            1\r\n",
        "Unknown            0\r\n",
        "Divorced           3\r\n",
        "```\r\n",
        "\r\n"
      ]
    },
    {
      "cell_type": "code",
      "metadata": {
        "colab": {
          "base_uri": "https://localhost:8080/"
        },
        "id": "Por7b4ObY6t9",
        "outputId": "95d6848c-4426-40f0-b34c-2a9254e34d77"
      },
      "source": [
        "maritals = ['Unknown', 'Single', 'Married', 'Divorced']\r\n",
        "df.marital_status = df['marital_status'].apply(lambda x: maritals.index(x))\r\n",
        "df.marital_status.value_counts()"
      ],
      "execution_count": 362,
      "outputs": [
        {
          "output_type": "execute_result",
          "data": {
            "text/plain": [
              "2    4687\n",
              "1    3943\n",
              "0     749\n",
              "3     748\n",
              "Name: marital_status, dtype: int64"
            ]
          },
          "metadata": {
            "tags": []
          },
          "execution_count": 362
        }
      ]
    },
    {
      "cell_type": "markdown",
      "metadata": {
        "id": "nsuzGZICaIA2"
      },
      "source": [
        "## Change column income_category to numeric as per table below"
      ]
    },
    {
      "cell_type": "markdown",
      "metadata": {
        "id": "Jchv7nDxaNtD"
      },
      "source": [
        "\r\n",
        "\r\n",
        "```\r\n",
        "income_category\r\n",
        "Less than $40K     3561\r\n",
        "$40K - $60K        1790\r\n",
        "$80K - $120K       1535\r\n",
        "$60K - $80K        1402\r\n",
        "Unknown            1112\r\n",
        "$120K +             727\r\n",
        "```\r\n",
        "\r\n"
      ]
    },
    {
      "cell_type": "code",
      "metadata": {
        "colab": {
          "base_uri": "https://localhost:8080/"
        },
        "id": "YoygVPuNaJdV",
        "outputId": "51a3e2ce-1e37-469d-cefb-56788e648245"
      },
      "source": [
        "incs = ['Unknown','Less than $40K', '$40K - $60K', '$80K - $120K', '$60K - $80K', '$120K +']\r\n",
        "df.income_category = df['income_category'].apply(lambda x: incs.index(x))\r\n",
        "df.income_category.value_counts()"
      ],
      "execution_count": 363,
      "outputs": [
        {
          "output_type": "execute_result",
          "data": {
            "text/plain": [
              "1    3561\n",
              "2    1790\n",
              "3    1535\n",
              "4    1402\n",
              "0    1112\n",
              "5     727\n",
              "Name: income_category, dtype: int64"
            ]
          },
          "metadata": {
            "tags": []
          },
          "execution_count": 363
        }
      ]
    },
    {
      "cell_type": "markdown",
      "metadata": {
        "id": "MpyLe2v_aUsD"
      },
      "source": [
        "## Change card_category to 'card' with numeric as per table below"
      ]
    },
    {
      "cell_type": "markdown",
      "metadata": {
        "id": "KbhT8SWeaYg3"
      },
      "source": [
        "\r\n",
        "\r\n",
        "```\r\n",
        "card_category\r\n",
        "Blue             9436\r\n",
        "Silver            555\r\n",
        "Gold              116\r\n",
        "Platinum           20\r\n",
        "```\r\n",
        "\r\n"
      ]
    },
    {
      "cell_type": "code",
      "metadata": {
        "colab": {
          "base_uri": "https://localhost:8080/"
        },
        "id": "e0tMYPSfac8c",
        "outputId": "8f61727f-6d70-4575-cb7e-5996a462503f"
      },
      "source": [
        "cards = ['', 'Blue', 'Silver', 'Gold', 'Platinum']\r\n",
        "df.rename(columns={'card_category': 'card'}, inplace=True)\r\n",
        "df.card = df['card'].apply(lambda x: cards.index(x))\r\n",
        "\r\n",
        "  # can use map\r\n",
        "#d = {'Blue' : 1, 'Silver' : 2, 'Gold': 3, 'Platinum': 4}\r\n",
        "#df.card = df['card'].map(d)\r\n",
        "\r\n",
        "  # or replace\r\n",
        "#df = df.replace({'card': d})\r\n",
        "\r\n",
        "df.card.value_counts()"
      ],
      "execution_count": 364,
      "outputs": [
        {
          "output_type": "execute_result",
          "data": {
            "text/plain": [
              "1    9436\n",
              "2     555\n",
              "3     116\n",
              "4      20\n",
              "Name: card, dtype: int64"
            ]
          },
          "metadata": {
            "tags": []
          },
          "execution_count": 364
        }
      ]
    },
    {
      "cell_type": "markdown",
      "metadata": {
        "id": "EpAovaeeajBW"
      },
      "source": [
        "## Verify all fields are numeric"
      ]
    },
    {
      "cell_type": "code",
      "metadata": {
        "colab": {
          "base_uri": "https://localhost:8080/"
        },
        "id": "DGGxPCAQakZ6",
        "outputId": "6f8457f7-a4be-41a3-95a3-d90624630019"
      },
      "source": [
        "df.info()"
      ],
      "execution_count": 407,
      "outputs": [
        {
          "output_type": "stream",
          "text": [
            "<class 'pandas.core.frame.DataFrame'>\n",
            "Int64Index: 10127 entries, 768805383 to 714337233\n",
            "Data columns (total 22 columns):\n",
            " #   Column                    Non-Null Count  Dtype   \n",
            "---  ------                    --------------  -----   \n",
            " 0   churn                     10127 non-null  int64   \n",
            " 1   age                       10127 non-null  int64   \n",
            " 2   female                    10127 non-null  int64   \n",
            " 3   dependent_count           10127 non-null  int64   \n",
            " 4   education                 10127 non-null  int64   \n",
            " 5   marital_status            10127 non-null  int64   \n",
            " 6   income_category           10127 non-null  int64   \n",
            " 7   card                      10127 non-null  int64   \n",
            " 8   months_on_book            10127 non-null  int64   \n",
            " 9   total_relationship_count  10127 non-null  int64   \n",
            " 10  months_inactive_12_mon    10127 non-null  int64   \n",
            " 11  contacts_count_12_mon     10127 non-null  int64   \n",
            " 12  credit_limit              10127 non-null  float64 \n",
            " 13  total_revolving_bal       10127 non-null  int64   \n",
            " 14  avg_open_to_buy           10127 non-null  float64 \n",
            " 15  total_amt_chng_q4_q1      10127 non-null  float64 \n",
            " 16  total_trans_amt           10127 non-null  int64   \n",
            " 17  total_trans_ct            10127 non-null  int64   \n",
            " 18  total_ct_chng_q4_q1       10127 non-null  float64 \n",
            " 19  avg_utilization_ratio     10127 non-null  float64 \n",
            " 20  binned                    10127 non-null  category\n",
            " 21  Many_service_calls        10127 non-null  int64   \n",
            "dtypes: category(1), float64(5), int64(16)\n",
            "memory usage: 2.0 MB\n"
          ],
          "name": "stdout"
        }
      ]
    },
    {
      "cell_type": "markdown",
      "metadata": {
        "id": "R_5FpFzBUc71"
      },
      "source": [
        "# Plot pair relations of all columns\r\n",
        "\r\n",
        "When we plot all the pairs, each plot is too small - need to limit it to few pairs"
      ]
    },
    {
      "cell_type": "code",
      "metadata": {
        "id": "UVJJZQHSUttC"
      },
      "source": [
        "#sns.pairplot(data=df, kind='kde', vars=['churn','age'])"
      ],
      "execution_count": 408,
      "outputs": []
    },
    {
      "cell_type": "code",
      "metadata": {
        "colab": {
          "base_uri": "https://localhost:8080/",
          "height": 354
        },
        "id": "ai849b0da49x",
        "outputId": "300e51a2-aa1b-48f0-d892-f7a8ef1eeebc"
      },
      "source": [
        "sns.countplot('churn',hue='education',data=df)"
      ],
      "execution_count": 367,
      "outputs": [
        {
          "output_type": "stream",
          "text": [
            "/usr/local/lib/python3.6/dist-packages/seaborn/_decorators.py:43: FutureWarning: Pass the following variable as a keyword arg: x. From version 0.12, the only valid positional argument will be `data`, and passing other arguments without an explicit keyword will result in an error or misinterpretation.\n",
            "  FutureWarning\n"
          ],
          "name": "stderr"
        },
        {
          "output_type": "execute_result",
          "data": {
            "text/plain": [
              "<matplotlib.axes._subplots.AxesSubplot at 0x7fb709baa9e8>"
            ]
          },
          "metadata": {
            "tags": []
          },
          "execution_count": 367
        },
        {
          "output_type": "display_data",
          "data": {
            "image/png": "[encoded data removed]",
            "text/plain": [
              "<Figure size 432x288 with 1 Axes>"
            ]
          },
          "metadata": {
            "tags": [],
            "needs_background": "light"
          }
        }
      ]
    },
    {
      "cell_type": "code",
      "metadata": {
        "colab": {
          "base_uri": "https://localhost:8080/",
          "height": 747
        },
        "id": "sxzeKDK9CXyJ",
        "outputId": "0e8e6a0a-8919-4a49-cb33-dbe7b11b5ef5"
      },
      "source": [
        "fig = plt.figure(figsize=(20, 10), tight_layout=True)\r\n",
        "sns.heatmap(df.corr())"
      ],
      "execution_count": 368,
      "outputs": [
        {
          "output_type": "execute_result",
          "data": {
            "text/plain": [
              "<matplotlib.axes._subplots.AxesSubplot at 0x7fb709b73b00>"
            ]
          },
          "metadata": {
            "tags": []
          },
          "execution_count": 368
        },
        {
          "output_type": "display_data",
          "data": {
            "image/png": "[encoded data removed]",
            "text/plain": [
              "<Figure size 1440x720 with 2 Axes>"
            ]
          },
          "metadata": {
            "tags": [],
            "needs_background": "light"
          }
        }
      ]
    },
    {
      "cell_type": "markdown",
      "metadata": {
        "id": "fKG1aCS-NK-P"
      },
      "source": [
        "# DEFINITION of the function display_corr()"
      ]
    },
    {
      "cell_type": "code",
      "metadata": {
        "id": "Zw8v2WtDaond"
      },
      "source": [
        "n_colors = 256 # Use 256 colors for the diverging color palette\r\n",
        "color_min, color_max = [-1, 1] # Range of values that will be mapped to the palette, i.e. min and max possible correlation\r\n",
        "palette = sns.diverging_palette(20, 220, n=n_colors) # Create the palette\r\n",
        "\r\n",
        "def value_to_color(val):\r\n",
        "    # step 4 - add colors\r\n",
        "\r\n",
        "    val_position = float((val - color_min)) / (color_max - color_min) # position of value in the input range, relative to the length of the input range\r\n",
        "    ind = int(val_position * (n_colors - 1)) # target index in the color palette\r\n",
        "    return palette[ind]\r\n",
        "\r\n",
        "def heatmap(x, y, size, color):\r\n",
        "    # Step 1\r\n",
        "    n = np.sqrt(len(x))\r\n",
        "    fig = plt.figure(figsize=(max(4, n), max(4, n / 2)))\r\n",
        "    #ax = fig.gca()\r\n",
        "\r\n",
        "    plot_grid = plt.GridSpec(1, 15, hspace=0.2, wspace=0.1) # Setup a 1x15 grid\r\n",
        "    ax = plt.subplot(plot_grid[:,:-1]) # Use the leftmost 14 columns of the grid for the main plot\r\n",
        "\r\n",
        "    # Mapping from column names to integer coordinates\r\n",
        "    x_labels = [v for v in sorted(x.unique())]\r\n",
        "    y_labels = [v for v in sorted(y.unique())]\r\n",
        "\r\n",
        "    x_to_num = {p[1]:p[0] for p in enumerate(x_labels)} \r\n",
        "    y_to_num = {p[1]:p[0] for p in enumerate(y_labels)} \r\n",
        "    \r\n",
        "    size_scale = 500\r\n",
        "    ax.scatter(\r\n",
        "        x=x.map(x_to_num), # Use mapping for x\r\n",
        "        y=y.map(y_to_num), # Use mapping for y\r\n",
        "        s=size * size_scale, # Vector of square sizes, proportional to size parameter\r\n",
        "        c=color.apply(value_to_color), # Vector of square color values, mapped to color palette\r\n",
        "        marker='s' # Use square as scatterplot marker\r\n",
        "    )\r\n",
        "    \r\n",
        "    # Show column labels on the axes\r\n",
        "    ax.set_xticks([x_to_num[v] for v in x_labels])\r\n",
        "    ax.set_xticklabels(x_labels, rotation=45, horizontalalignment='right')\r\n",
        "    ax.set_yticks([y_to_num[v] for v in y_labels])\r\n",
        "    ax.set_yticklabels(y_labels)\r\n",
        "\r\n",
        "    # Step 2\r\n",
        "    ax.grid(False, 'major')\r\n",
        "    ax.grid(True, 'minor')\r\n",
        "    ax.set_xticks([t + 0.5 for t in ax.get_xticks()], minor=True)\r\n",
        "    ax.set_yticks([t + 0.5 for t in ax.get_yticks()], minor=True)\r\n",
        "\r\n",
        "    # Step 3\r\n",
        "    ax.set_xlim([-0.5, max([v for v in x_to_num.values()]) + 0.5]) \r\n",
        "    ax.set_ylim([-0.5, max([v for v in y_to_num.values()]) + 0.5])\r\n",
        "\r\n",
        "    # Step 5\r\n",
        "    # Add color legend on the right side of the plot\r\n",
        "    ax = plt.subplot(plot_grid[:,-1]) # Use the rightmost column of the plot\r\n",
        "\r\n",
        "    col_x = [0]*len(palette) # Fixed x coordinate for the bars\r\n",
        "    bar_y=np.linspace(color_min, color_max, n_colors) # y coordinates for each of the n_colors bars\r\n",
        "\r\n",
        "    bar_height = bar_y[1] - bar_y[0]\r\n",
        "    ax.barh(\r\n",
        "        y=bar_y,\r\n",
        "        width=[5]*len(palette), # Make bars 5 units wide\r\n",
        "        left=col_x, # Make bars start at 0\r\n",
        "        height=bar_height,\r\n",
        "        color=palette,\r\n",
        "        linewidth=0\r\n",
        "    )\r\n",
        "    ax.set_xlim(1, 2) # Bars are going from 0 to 5, so lets crop the plot somewhere in the middle\r\n",
        "    ax.grid(False) # Hide grid\r\n",
        "    ax.set_facecolor('white') # Make background white\r\n",
        "    ax.set_xticks([]) # Remove horizontal ticks\r\n",
        "    ax.set_yticks(np.linspace(min(bar_y), max(bar_y), 3)) # Show vertical ticks for min, middle and max\r\n",
        "    ax.yaxis.tick_right() # Show vertical ticks on the right "
      ],
      "execution_count": 369,
      "outputs": []
    },
    {
      "cell_type": "code",
      "metadata": {
        "id": "GO-4kjj_TJf4"
      },
      "source": [
        "def clear_corr(df, clear, display_table=True):\r\n",
        "  clear_opt = 0\r\n",
        "  clear_opts = ['diagonal', 'upperleft', 'lowerleft', 'upperleftdiagonal', 'lowerleftdiagonal',\r\n",
        "                'upperright', 'lowerright', 'upperrightdiagonal', 'lowerrightdiagonal',\r\n",
        "                'diagonalleft','diagonalright']\r\n",
        "  if clear and clear.lower() in clear_opts:\r\n",
        "    clear_opt = clear_opts.index(clear.lower()) + 1\r\n",
        "\r\n",
        "  #corr = df[df.columns].corr()  # n columns makes n * n correlations values\r\n",
        "  corr = df.corr()\r\n",
        "  if clear_opt:\r\n",
        "    corr = corr[sorted(df.columns, reverse=True)]\r\n",
        "    corr = corr.loc[sorted(df.columns, reverse=False)]\r\n",
        "    n = len(corr.columns)\r\n",
        "    diag = 0 if clear_opt in [1,4,3,8,9,10,11] else 1\r\n",
        "    for i in range(n):\r\n",
        "      if clear_opt in [1, 10]:    # diagonal, diagonalleft\r\n",
        "        corr.iloc[i, i + diag] = 0\r\n",
        "      elif clear_opt in [6,8]:  # upperright, upperrightdiagonal \r\n",
        "        corr.iloc[i, i + diag:n] = 0\r\n",
        "      elif clear_opt in [3,5]:  # lowerleft, lowerleftdiagonal\r\n",
        "        corr.iloc[i, 0:i + diag] = 0\r\n",
        "      elif clear_opt in [2,4]:  # upperleft, upperleftdiagonal\r\n",
        "        corr.iloc[i, 0: n - i - diag] = 0\r\n",
        "      elif clear_opt in [11]:  # diagonalright\r\n",
        "        corr.iloc[i, n - i - 1] = 0\r\n",
        "      elif clear_opt in [7,9]:  # lowerright, lowerrightdiagonal\r\n",
        "        corr.iloc[i, n - i + diag - 1: n] = 0\r\n",
        "  if display_table:\r\n",
        "    display(corr.head())\r\n",
        "  return corr"
      ],
      "execution_count": 370,
      "outputs": []
    },
    {
      "cell_type": "code",
      "metadata": {
        "id": "jWga6L2GOSzp"
      },
      "source": [
        "def display_corr(df, clear=None):\r\n",
        "  corr = clear_corr(df, clear)\r\n",
        "  corr = pd.melt(corr.reset_index(), id_vars='index') # Unpivot the dataframe, so we can get pair of arrays for x and y\r\n",
        "  corr.columns = ['x', 'y', 'value']\r\n",
        "  heatmap(x=corr['x'], y=corr['y'], size=corr['value'].abs(), color=corr.value)  "
      ],
      "execution_count": 371,
      "outputs": []
    },
    {
      "cell_type": "markdown",
      "metadata": {
        "id": "keAkqz73AMrm"
      },
      "source": [
        "# Look at the columns with unknown"
      ]
    },
    {
      "cell_type": "code",
      "metadata": {
        "colab": {
          "base_uri": "https://localhost:8080/",
          "height": 228
        },
        "id": "sljiv9GrAURd",
        "outputId": "5e1554dd-fc51-47d4-ded2-ce43423b99f0"
      },
      "source": [
        "df_partial = df[['churn', 'marital_status', 'income_category', 'education']]\r\n",
        "df_partial.head()"
      ],
      "execution_count": 372,
      "outputs": [
        {
          "output_type": "execute_result",
          "data": {
            "text/html": [
              "<div>\n",
              "<style scoped>\n",
              "    .dataframe tbody tr th:only-of-type {\n",
              "        vertical-align: middle;\n",
              "    }\n",
              "\n",
              "    .dataframe tbody tr th {\n",
              "        vertical-align: top;\n",
              "    }\n",
              "\n",
              "    .dataframe thead th {\n",
              "        text-align: right;\n",
              "    }\n",
              "</style>\n",
              "<table border=\"1\" class=\"dataframe\">\n",
              "  <thead>\n",
              "    <tr style=\"text-align: right;\">\n",
              "      <th></th>\n",
              "      <th>churn</th>\n",
              "      <th>marital_status</th>\n",
              "      <th>income_category</th>\n",
              "      <th>education</th>\n",
              "    </tr>\n",
              "    <tr>\n",
              "      <th>client_num</th>\n",
              "      <th></th>\n",
              "      <th></th>\n",
              "      <th></th>\n",
              "      <th></th>\n",
              "    </tr>\n",
              "  </thead>\n",
              "  <tbody>\n",
              "    <tr>\n",
              "      <th>768805383</th>\n",
              "      <td>0</td>\n",
              "      <td>2</td>\n",
              "      <td>4</td>\n",
              "      <td>2</td>\n",
              "    </tr>\n",
              "    <tr>\n",
              "      <th>818770008</th>\n",
              "      <td>0</td>\n",
              "      <td>1</td>\n",
              "      <td>1</td>\n",
              "      <td>4</td>\n",
              "    </tr>\n",
              "    <tr>\n",
              "      <th>713982108</th>\n",
              "      <td>0</td>\n",
              "      <td>2</td>\n",
              "      <td>3</td>\n",
              "      <td>4</td>\n",
              "    </tr>\n",
              "    <tr>\n",
              "      <th>769911858</th>\n",
              "      <td>0</td>\n",
              "      <td>0</td>\n",
              "      <td>1</td>\n",
              "      <td>2</td>\n",
              "    </tr>\n",
              "    <tr>\n",
              "      <th>709106358</th>\n",
              "      <td>0</td>\n",
              "      <td>2</td>\n",
              "      <td>4</td>\n",
              "      <td>1</td>\n",
              "    </tr>\n",
              "  </tbody>\n",
              "</table>\n",
              "</div>"
            ],
            "text/plain": [
              "            churn  marital_status  income_category  education\n",
              "client_num                                                   \n",
              "768805383       0               2                4          2\n",
              "818770008       0               1                1          4\n",
              "713982108       0               2                3          4\n",
              "769911858       0               0                1          2\n",
              "709106358       0               2                4          1"
            ]
          },
          "metadata": {
            "tags": []
          },
          "execution_count": 372
        }
      ]
    },
    {
      "cell_type": "markdown",
      "metadata": {
        "id": "6wpsROFKEgSO"
      },
      "source": [
        "## correlation with unknown in the db"
      ]
    },
    {
      "cell_type": "code",
      "metadata": {
        "colab": {
          "base_uri": "https://localhost:8080/",
          "height": 475
        },
        "id": "PUFZMqF3A2uu",
        "outputId": "e7b010cc-fc27-4215-cc8c-3d8b38970048"
      },
      "source": [
        "display_corr(df_partial)"
      ],
      "execution_count": 373,
      "outputs": [
        {
          "output_type": "display_data",
          "data": {
            "text/html": [
              "<div>\n",
              "<style scoped>\n",
              "    .dataframe tbody tr th:only-of-type {\n",
              "        vertical-align: middle;\n",
              "    }\n",
              "\n",
              "    .dataframe tbody tr th {\n",
              "        vertical-align: top;\n",
              "    }\n",
              "\n",
              "    .dataframe thead th {\n",
              "        text-align: right;\n",
              "    }\n",
              "</style>\n",
              "<table border=\"1\" class=\"dataframe\">\n",
              "  <thead>\n",
              "    <tr style=\"text-align: right;\">\n",
              "      <th></th>\n",
              "      <th>churn</th>\n",
              "      <th>marital_status</th>\n",
              "      <th>income_category</th>\n",
              "      <th>education</th>\n",
              "    </tr>\n",
              "  </thead>\n",
              "  <tbody>\n",
              "    <tr>\n",
              "      <th>churn</th>\n",
              "      <td>1.000000</td>\n",
              "      <td>-0.018597</td>\n",
              "      <td>-0.019514</td>\n",
              "      <td>0.008796</td>\n",
              "    </tr>\n",
              "    <tr>\n",
              "      <th>marital_status</th>\n",
              "      <td>-0.018597</td>\n",
              "      <td>1.000000</td>\n",
              "      <td>0.010402</td>\n",
              "      <td>0.014875</td>\n",
              "    </tr>\n",
              "    <tr>\n",
              "      <th>income_category</th>\n",
              "      <td>-0.019514</td>\n",
              "      <td>0.010402</td>\n",
              "      <td>1.000000</td>\n",
              "      <td>-0.013326</td>\n",
              "    </tr>\n",
              "    <tr>\n",
              "      <th>education</th>\n",
              "      <td>0.008796</td>\n",
              "      <td>0.014875</td>\n",
              "      <td>-0.013326</td>\n",
              "      <td>1.000000</td>\n",
              "    </tr>\n",
              "  </tbody>\n",
              "</table>\n",
              "</div>"
            ],
            "text/plain": [
              "                    churn  marital_status  income_category  education\n",
              "churn            1.000000       -0.018597        -0.019514   0.008796\n",
              "marital_status  -0.018597        1.000000         0.010402   0.014875\n",
              "income_category -0.019514        0.010402         1.000000  -0.013326\n",
              "education        0.008796        0.014875        -0.013326   1.000000"
            ]
          },
          "metadata": {
            "tags": []
          }
        },
        {
          "output_type": "display_data",
          "data": {
            "image/png": "[encoded data removed]",
            "text/plain": [
              "<Figure size 288x288 with 2 Axes>"
            ]
          },
          "metadata": {
            "tags": [],
            "needs_background": "light"
          }
        }
      ]
    },
    {
      "cell_type": "markdown",
      "metadata": {
        "id": "oID-p8OsEsvf"
      },
      "source": [
        "## Drop the rows with unknown and check correlation again\r\n",
        "\r\n",
        "No change: maybe beuse their value was 0"
      ]
    },
    {
      "cell_type": "code",
      "metadata": {
        "colab": {
          "base_uri": "https://localhost:8080/",
          "height": 511
        },
        "id": "I91xxA8Xa99a",
        "outputId": "b1b2c29d-91c1-4462-940a-00591b761bed"
      },
      "source": [
        "df_temp = df_partial.copy()\r\n",
        "p(df_temp.shape)\r\n",
        "#p(df_temp.education.value_counts())\r\n",
        "df_temp = df_temp[df_temp.education > 0]\r\n",
        "df_temp = df_temp[df_temp.marital_status > 0]\r\n",
        "df_temp = df_temp[df_temp.income_category > 0]\r\n",
        "p(df_temp.shape)\r\n",
        "display_corr(df_partial)"
      ],
      "execution_count": 374,
      "outputs": [
        {
          "output_type": "stream",
          "text": [
            "(10127, 4)\n",
            "(7081, 4)\n"
          ],
          "name": "stdout"
        },
        {
          "output_type": "display_data",
          "data": {
            "text/html": [
              "<div>\n",
              "<style scoped>\n",
              "    .dataframe tbody tr th:only-of-type {\n",
              "        vertical-align: middle;\n",
              "    }\n",
              "\n",
              "    .dataframe tbody tr th {\n",
              "        vertical-align: top;\n",
              "    }\n",
              "\n",
              "    .dataframe thead th {\n",
              "        text-align: right;\n",
              "    }\n",
              "</style>\n",
              "<table border=\"1\" class=\"dataframe\">\n",
              "  <thead>\n",
              "    <tr style=\"text-align: right;\">\n",
              "      <th></th>\n",
              "      <th>churn</th>\n",
              "      <th>marital_status</th>\n",
              "      <th>income_category</th>\n",
              "      <th>education</th>\n",
              "    </tr>\n",
              "  </thead>\n",
              "  <tbody>\n",
              "    <tr>\n",
              "      <th>churn</th>\n",
              "      <td>1.000000</td>\n",
              "      <td>-0.018597</td>\n",
              "      <td>-0.019514</td>\n",
              "      <td>0.008796</td>\n",
              "    </tr>\n",
              "    <tr>\n",
              "      <th>marital_status</th>\n",
              "      <td>-0.018597</td>\n",
              "      <td>1.000000</td>\n",
              "      <td>0.010402</td>\n",
              "      <td>0.014875</td>\n",
              "    </tr>\n",
              "    <tr>\n",
              "      <th>income_category</th>\n",
              "      <td>-0.019514</td>\n",
              "      <td>0.010402</td>\n",
              "      <td>1.000000</td>\n",
              "      <td>-0.013326</td>\n",
              "    </tr>\n",
              "    <tr>\n",
              "      <th>education</th>\n",
              "      <td>0.008796</td>\n",
              "      <td>0.014875</td>\n",
              "      <td>-0.013326</td>\n",
              "      <td>1.000000</td>\n",
              "    </tr>\n",
              "  </tbody>\n",
              "</table>\n",
              "</div>"
            ],
            "text/plain": [
              "                    churn  marital_status  income_category  education\n",
              "churn            1.000000       -0.018597        -0.019514   0.008796\n",
              "marital_status  -0.018597        1.000000         0.010402   0.014875\n",
              "income_category -0.019514        0.010402         1.000000  -0.013326\n",
              "education        0.008796        0.014875        -0.013326   1.000000"
            ]
          },
          "metadata": {
            "tags": []
          }
        },
        {
          "output_type": "display_data",
          "data": {
            "image/png": "[encoded data removed]",
            "text/plain": [
              "<Figure size 288x288 with 2 Axes>"
            ]
          },
          "metadata": {
            "tags": [],
            "needs_background": "light"
          }
        }
      ]
    },
    {
      "cell_type": "markdown",
      "metadata": {
        "id": "bkyBCSvYNZHc"
      },
      "source": [
        "# Profiling - not working in colab - works in Jupyter"
      ]
    },
    {
      "cell_type": "code",
      "metadata": {
        "id": "FVlhfBE0NXrG"
      },
      "source": [
        "from pandas_profiling import ProfileReport\r\n",
        "#profile = ProfileReport(df)"
      ],
      "execution_count": 375,
      "outputs": []
    },
    {
      "cell_type": "code",
      "metadata": {
        "colab": {
          "base_uri": "https://localhost:8080/"
        },
        "id": "LMNlJSIjBM5p",
        "outputId": "164bcf29-7468-4528-dc29-d11434347f25"
      },
      "source": [
        "df[df.months_on_book == 36].count()"
      ],
      "execution_count": 376,
      "outputs": [
        {
          "output_type": "execute_result",
          "data": {
            "text/plain": [
              "churn                       2463\n",
              "age                         2463\n",
              "female                      2463\n",
              "dependent_count             2463\n",
              "education                   2463\n",
              "marital_status              2463\n",
              "income_category             2463\n",
              "card                        2463\n",
              "months_on_book              2463\n",
              "total_relationship_count    2463\n",
              "months_inactive_12_mon      2463\n",
              "contacts_count_12_mon       2463\n",
              "credit_limit                2463\n",
              "total_revolving_bal         2463\n",
              "avg_open_to_buy             2463\n",
              "total_amt_chng_q4_q1        2463\n",
              "total_trans_amt             2463\n",
              "total_trans_ct              2463\n",
              "total_ct_chng_q4_q1         2463\n",
              "avg_utilization_ratio       2463\n",
              "dtype: int64"
            ]
          },
          "metadata": {
            "tags": []
          },
          "execution_count": 376
        }
      ]
    },
    {
      "cell_type": "markdown",
      "metadata": {
        "id": "q18hnMP9MZIz"
      },
      "source": [
        "## To display the profile report we need first to upload it"
      ]
    },
    {
      "cell_type": "code",
      "metadata": {
        "colab": {
          "base_uri": "https://localhost:8080/",
          "height": 54
        },
        "id": "lUm55xQpKvHg",
        "outputId": "74deff5d-edca-4b01-93ee-4d02517f5d07"
      },
      "source": [
        "'''\r\n",
        "import IPython\r\n",
        "try:\r\n",
        "  display(IPython.display.HTML('credit_card_profile.html'))\r\n",
        "except:\r\n",
        "  from google.colab import files\r\n",
        "  uploaded = files.upload()\r\n",
        "  display(IPython.display.HTML('credit_card_profile.html'))\r\n",
        "'''  "
      ],
      "execution_count": 377,
      "outputs": [
        {
          "output_type": "execute_result",
          "data": {
            "application/vnd.google.colaboratory.intrinsic+json": {
              "type": "string"
            },
            "text/plain": [
              "\"\\nimport IPython\\ntry:\\n  display(IPython.display.HTML('credit_card_profile.html'))\\nexcept:\\n  from google.colab import files\\n  uploaded = files.upload()\\n  display(IPython.display.HTML('credit_card_profile.html'))\\n\""
            ]
          },
          "metadata": {
            "tags": []
          },
          "execution_count": 377
        }
      ]
    },
    {
      "cell_type": "markdown",
      "metadata": {
        "id": "Sf8Y3ldEOrra"
      },
      "source": [
        "## From the profile report we see some outliers:\r\n",
        "\r\n",
        "1. a lot of clients at the age around 50\r\n",
        "2. pick of people with 36 months_on_book - maybe that when the carsd expires. We need to check if most that left are at 36 months\r\n",
        "3. Most people did not use the cards - total_revolving = 0. Check if they left the card\r\n",
        "4. Pick at 2500$ for total_revolving\r\n"
      ]
    },
    {
      "cell_type": "markdown",
      "metadata": {
        "id": "lOfRBcCmeMup"
      },
      "source": [
        "# Let's look at the correlation of exist with the other columns and pick thouse with meanningfull correlation (above 0.2 maybe?)"
      ]
    },
    {
      "cell_type": "code",
      "metadata": {
        "colab": {
          "base_uri": "https://localhost:8080/"
        },
        "id": "2VnwVX7Bef3y",
        "outputId": "4848b58c-7490-4648-9a3c-ecfd118d0b31"
      },
      "source": [
        "corr = df.corr()  # n columns makes n * n correlations values\r\n",
        "p(type(corr))\r\n",
        "p()\r\n",
        "p(corr.churn)\r\n",
        "p()\r\n",
        "corr.churn[abs(corr.churn) > 0.2]"
      ],
      "execution_count": 378,
      "outputs": [
        {
          "output_type": "stream",
          "text": [
            "<class 'pandas.core.frame.DataFrame'>\n",
            "\n",
            "churn                       1.000000\n",
            "age                         0.018203\n",
            "female                      0.037272\n",
            "dependent_count             0.018991\n",
            "education                   0.008796\n",
            "marital_status             -0.018597\n",
            "income_category            -0.019514\n",
            "card                        0.002354\n",
            "months_on_book              0.013687\n",
            "total_relationship_count   -0.150005\n",
            "months_inactive_12_mon      0.152449\n",
            "contacts_count_12_mon       0.204491\n",
            "credit_limit               -0.023873\n",
            "total_revolving_bal        -0.263053\n",
            "avg_open_to_buy            -0.000285\n",
            "total_amt_chng_q4_q1       -0.131063\n",
            "total_trans_amt            -0.168598\n",
            "total_trans_ct             -0.371403\n",
            "total_ct_chng_q4_q1        -0.290054\n",
            "avg_utilization_ratio      -0.178410\n",
            "Name: churn, dtype: float64\n",
            "\n"
          ],
          "name": "stdout"
        },
        {
          "output_type": "execute_result",
          "data": {
            "text/plain": [
              "churn                    1.000000\n",
              "contacts_count_12_mon    0.204491\n",
              "total_revolving_bal     -0.263053\n",
              "total_trans_ct          -0.371403\n",
              "total_ct_chng_q4_q1     -0.290054\n",
              "Name: churn, dtype: float64"
            ]
          },
          "metadata": {
            "tags": []
          },
          "execution_count": 378
        }
      ]
    },
    {
      "cell_type": "markdown",
      "metadata": {
        "id": "hDOt7H_1X6f6"
      },
      "source": [
        "## check contacts_count_12_mon"
      ]
    },
    {
      "cell_type": "markdown",
      "metadata": {
        "id": "Zweg74D2rFe3"
      },
      "source": [
        "### CONCLUSION 1: Anybody that contacted 6 times in the last 12 months -> left"
      ]
    },
    {
      "cell_type": "code",
      "metadata": {
        "colab": {
          "base_uri": "https://localhost:8080/",
          "height": 297
        },
        "id": "8Z7u7Yu6pihI",
        "outputId": "67089550-cb65-4f72-ce79-c01592b8a98c"
      },
      "source": [
        "sns.countplot(x='churn',hue='contacts_count_12_mon',data=df)"
      ],
      "execution_count": 379,
      "outputs": [
        {
          "output_type": "execute_result",
          "data": {
            "text/plain": [
              "<matplotlib.axes._subplots.AxesSubplot at 0x7fb709f8efd0>"
            ]
          },
          "metadata": {
            "tags": []
          },
          "execution_count": 379
        },
        {
          "output_type": "display_data",
          "data": {
            "image/png": "[encoded data removed]",
            "text/plain": [
              "<Figure size 432x288 with 1 Axes>"
            ]
          },
          "metadata": {
            "tags": [],
            "needs_background": "light"
          }
        }
      ]
    },
    {
      "cell_type": "code",
      "metadata": {
        "colab": {
          "base_uri": "https://localhost:8080/"
        },
        "id": "SgRhQCUzYuIS",
        "outputId": "6e6568a5-4c02-4f81-afac-2bca3e845dba"
      },
      "source": [
        "df.contacts_count_12_mon.loc[df.churn == 0].value_counts()"
      ],
      "execution_count": 380,
      "outputs": [
        {
          "output_type": "execute_result",
          "data": {
            "text/plain": [
              "2    2824\n",
              "3    2699\n",
              "1    1391\n",
              "4    1077\n",
              "0     392\n",
              "5     117\n",
              "Name: contacts_count_12_mon, dtype: int64"
            ]
          },
          "metadata": {
            "tags": []
          },
          "execution_count": 380
        }
      ]
    },
    {
      "cell_type": "markdown",
      "metadata": {
        "id": "QAxjOqCZ_RBo"
      },
      "source": [
        "## check total_revolving_baland "
      ]
    },
    {
      "cell_type": "markdown",
      "metadata": {
        "id": "udeaUAAJzMrX"
      },
      "source": [
        "### make bins from total_revolving_baland then plot the countplot"
      ]
    },
    {
      "cell_type": "code",
      "metadata": {
        "colab": {
          "base_uri": "https://localhost:8080/",
          "height": 283
        },
        "id": "xgrfXqrTqXvg",
        "outputId": "f3d695bb-b67b-4dd3-a298-75bb22b21166"
      },
      "source": [
        "# make bins from the columns, each one 250$ \r\n",
        "# we see the needed bins from the historam\r\n",
        "df['total_revolving_bal'].plot(kind='hist')"
      ],
      "execution_count": 381,
      "outputs": [
        {
          "output_type": "execute_result",
          "data": {
            "text/plain": [
              "<matplotlib.axes._subplots.AxesSubplot at 0x7fb709c01b00>"
            ]
          },
          "metadata": {
            "tags": []
          },
          "execution_count": 381
        },
        {
          "output_type": "display_data",
          "data": {
            "image/png": "[encoded data removed]",
            "text/plain": [
              "<Figure size 432x288 with 1 Axes>"
            ]
          },
          "metadata": {
            "tags": [],
            "needs_background": "light"
          }
        }
      ]
    },
    {
      "cell_type": "code",
      "metadata": {
        "colab": {
          "base_uri": "https://localhost:8080/"
        },
        "id": "8H7CP8jMz9mX",
        "outputId": "cffe6a76-4d5d-420f-8b67-103dbb935100"
      },
      "source": [
        "def makebins(col, interval):\r\n",
        "  max_ = col.max()\r\n",
        "  nbins = int(max_/interval) + 1 \r\n",
        "  max250 = (nbins)*interval\r\n",
        "  bins = np.linspace(0, max250, nbins + 1)\r\n",
        "  #p(bins)\r\n",
        "  return bins\r\n",
        "bins = makebins(df['total_revolving_bal'], 250)\r\n",
        "df['binned'] = pd.cut(df['total_revolving_bal'], bins, include_lowest=True)\r\n",
        "p(df['binned'])\r\n",
        "df.total_revolving_bal.head()"
      ],
      "execution_count": 382,
      "outputs": [
        {
          "output_type": "stream",
          "text": [
            "client_num\n",
            "768805383     (750.0, 1000.0]\n",
            "818770008     (750.0, 1000.0]\n",
            "713982108     (-0.001, 250.0]\n",
            "769911858    (2500.0, 2750.0]\n",
            "709106358     (-0.001, 250.0]\n",
            "                   ...       \n",
            "772366833    (1750.0, 2000.0]\n",
            "710638233    (2000.0, 2250.0]\n",
            "716506083     (-0.001, 250.0]\n",
            "717406983     (-0.001, 250.0]\n",
            "714337233    (1750.0, 2000.0]\n",
            "Name: binned, Length: 10127, dtype: category\n",
            "Categories (11, interval[float64]): [(-0.001, 250.0] < (250.0, 500.0] < (500.0, 750.0] <\n",
            "                                     (750.0, 1000.0] ... (1750.0, 2000.0] < (2000.0, 2250.0] <\n",
            "                                     (2250.0, 2500.0] < (2500.0, 2750.0]]\n"
          ],
          "name": "stdout"
        },
        {
          "output_type": "execute_result",
          "data": {
            "text/plain": [
              "client_num\n",
              "768805383     777\n",
              "818770008     864\n",
              "713982108       0\n",
              "769911858    2517\n",
              "709106358       0\n",
              "Name: total_revolving_bal, dtype: int64"
            ]
          },
          "metadata": {
            "tags": []
          },
          "execution_count": 382
        }
      ]
    },
    {
      "cell_type": "code",
      "metadata": {
        "colab": {
          "base_uri": "https://localhost:8080/",
          "height": 354
        },
        "id": "sbVAjjXyz_pv",
        "outputId": "56a7b018-6292-4e6e-9aa5-2504930fa99c"
      },
      "source": [
        "sns.countplot('churn',hue='binned',data=df)"
      ],
      "execution_count": 383,
      "outputs": [
        {
          "output_type": "stream",
          "text": [
            "/usr/local/lib/python3.6/dist-packages/seaborn/_decorators.py:43: FutureWarning: Pass the following variable as a keyword arg: x. From version 0.12, the only valid positional argument will be `data`, and passing other arguments without an explicit keyword will result in an error or misinterpretation.\n",
            "  FutureWarning\n"
          ],
          "name": "stderr"
        },
        {
          "output_type": "execute_result",
          "data": {
            "text/plain": [
              "<matplotlib.axes._subplots.AxesSubplot at 0x7fb709ee0a58>"
            ]
          },
          "metadata": {
            "tags": []
          },
          "execution_count": 383
        },
        {
          "output_type": "display_data",
          "data": {
            "image/png": "[encoded data removed]",
            "text/plain": [
              "<Figure size 432x288 with 1 Axes>"
            ]
          },
          "metadata": {
            "tags": [],
            "needs_background": "light"
          }
        }
      ]
    },
    {
      "cell_type": "markdown",
      "metadata": {
        "id": "PpvvRXEI1jnK"
      },
      "source": [
        "### CONCLUSION 2: looks like low usage and usagehigher chances to leave"
      ]
    },
    {
      "cell_type": "markdown",
      "metadata": {
        "id": "gy3TRHm02oNL"
      },
      "source": [
        "## check total_trans_ct"
      ]
    },
    {
      "cell_type": "markdown",
      "metadata": {
        "id": "yD0dKbt01ECQ"
      },
      "source": [
        "### make bins from total_trans_ct then plot the countplot"
      ]
    },
    {
      "cell_type": "code",
      "metadata": {
        "colab": {
          "base_uri": "https://localhost:8080/",
          "height": 283
        },
        "id": "OImERn521ECU",
        "outputId": "5f028b46-52ac-4c20-9bf8-5486ce3282d2"
      },
      "source": [
        "df['total_trans_ct'].plot(kind='hist')"
      ],
      "execution_count": 384,
      "outputs": [
        {
          "output_type": "execute_result",
          "data": {
            "text/plain": [
              "<matplotlib.axes._subplots.AxesSubplot at 0x7fb709787390>"
            ]
          },
          "metadata": {
            "tags": []
          },
          "execution_count": 384
        },
        {
          "output_type": "display_data",
          "data": {
            "image/png": "[encoded data removed]",
            "text/plain": [
              "<Figure size 432x288 with 1 Axes>"
            ]
          },
          "metadata": {
            "tags": [],
            "needs_background": "light"
          }
        }
      ]
    },
    {
      "cell_type": "code",
      "metadata": {
        "colab": {
          "base_uri": "https://localhost:8080/"
        },
        "id": "E7dcfNBC1ECZ",
        "outputId": "6fef094d-4e20-436b-959b-04433ad07aa2"
      },
      "source": [
        "bins = makebins(df['total_trans_ct'], 10)\r\n",
        "df['binned'] = pd.cut(df['total_trans_ct'], bins, include_lowest=True)\r\n",
        "p(df['binned'])\r\n",
        "df.total_trans_ct.head()"
      ],
      "execution_count": 385,
      "outputs": [
        {
          "output_type": "stream",
          "text": [
            "client_num\n",
            "768805383      (40.0, 50.0]\n",
            "818770008      (30.0, 40.0]\n",
            "713982108      (10.0, 20.0]\n",
            "769911858      (10.0, 20.0]\n",
            "709106358      (20.0, 30.0]\n",
            "                  ...      \n",
            "772366833    (110.0, 120.0]\n",
            "710638233      (60.0, 70.0]\n",
            "716506083      (50.0, 60.0]\n",
            "717406983      (60.0, 70.0]\n",
            "714337233      (60.0, 70.0]\n",
            "Name: binned, Length: 10127, dtype: category\n",
            "Categories (14, interval[float64]): [(-0.001, 10.0] < (10.0, 20.0] < (20.0, 30.0] < (30.0, 40.0] < ... <\n",
            "                                     (100.0, 110.0] < (110.0, 120.0] < (120.0, 130.0] <\n",
            "                                     (130.0, 140.0]]\n"
          ],
          "name": "stdout"
        },
        {
          "output_type": "execute_result",
          "data": {
            "text/plain": [
              "client_num\n",
              "768805383    42\n",
              "818770008    33\n",
              "713982108    20\n",
              "769911858    20\n",
              "709106358    28\n",
              "Name: total_trans_ct, dtype: int64"
            ]
          },
          "metadata": {
            "tags": []
          },
          "execution_count": 385
        }
      ]
    },
    {
      "cell_type": "code",
      "metadata": {
        "colab": {
          "base_uri": "https://localhost:8080/",
          "height": 369
        },
        "id": "CrLG8Uy_1ECe",
        "outputId": "e0a3bbb7-ec5a-4bc1-81b3-02ac04464114"
      },
      "source": [
        "sns.countplot('churn',hue='binned',data=df)"
      ],
      "execution_count": 386,
      "outputs": [
        {
          "output_type": "stream",
          "text": [
            "/usr/local/lib/python3.6/dist-packages/seaborn/_decorators.py:43: FutureWarning: Pass the following variable as a keyword arg: x. From version 0.12, the only valid positional argument will be `data`, and passing other arguments without an explicit keyword will result in an error or misinterpretation.\n",
            "  FutureWarning\n"
          ],
          "name": "stderr"
        },
        {
          "output_type": "execute_result",
          "data": {
            "text/plain": [
              "<matplotlib.axes._subplots.AxesSubplot at 0x7fb709cc00b8>"
            ]
          },
          "metadata": {
            "tags": []
          },
          "execution_count": 386
        },
        {
          "output_type": "display_data",
          "data": {
            "image/png": "[encoded data removed]",
            "text/plain": [
              "<Figure size 432x288 with 1 Axes>"
            ]
          },
          "metadata": {
            "tags": [],
            "needs_background": "light"
          }
        }
      ]
    },
    {
      "cell_type": "code",
      "metadata": {
        "colab": {
          "base_uri": "https://localhost:8080/"
        },
        "id": "lUEPXSTqYUo2",
        "outputId": "22264d13-cd19-4d3d-f3cb-c5dc4325056e"
      },
      "source": [
        "df.binned.loc[df.churn == 0].value_counts()"
      ],
      "execution_count": 387,
      "outputs": [
        {
          "output_type": "execute_result",
          "data": {
            "text/plain": [
              "(70.0, 80.0]      1809\n",
              "(60.0, 70.0]      1516\n",
              "(80.0, 90.0]      1405\n",
              "(30.0, 40.0]       833\n",
              "(50.0, 60.0]       715\n",
              "(40.0, 50.0]       614\n",
              "(90.0, 100.0]      465\n",
              "(20.0, 30.0]       456\n",
              "(100.0, 110.0]     262\n",
              "(110.0, 120.0]     239\n",
              "(120.0, 130.0]     138\n",
              "(10.0, 20.0]        38\n",
              "(130.0, 140.0]      10\n",
              "(-0.001, 10.0]       0\n",
              "Name: binned, dtype: int64"
            ]
          },
          "metadata": {
            "tags": []
          },
          "execution_count": 387
        }
      ]
    },
    {
      "cell_type": "markdown",
      "metadata": {
        "id": "SvOvyxf9_02p"
      },
      "source": [
        "### CONCLUSION 3: Anybody with total_trans_ct > 100 DID NOT leave"
      ]
    },
    {
      "cell_type": "markdown",
      "metadata": {
        "id": "hk9UyE0DAMdF"
      },
      "source": [
        "## check total_ct_chng_q4_q1 whose correlation with churn is 0.290054\r\n",
        "This column \"represents how much the customer increased their number of transactions when comparing the 4th quarter agains the 1st.\"\r\n"
      ]
    },
    {
      "cell_type": "code",
      "metadata": {
        "colab": {
          "base_uri": "https://localhost:8080/",
          "height": 283
        },
        "id": "fKHTppiB1ECh",
        "outputId": "c9e9cb34-dea9-4750-adc3-1079b3e8daaf"
      },
      "source": [
        "df['total_ct_chng_q4_q1'].plot(kind='hist')        "
      ],
      "execution_count": 388,
      "outputs": [
        {
          "output_type": "execute_result",
          "data": {
            "text/plain": [
              "<matplotlib.axes._subplots.AxesSubplot at 0x7fb709ab1a20>"
            ]
          },
          "metadata": {
            "tags": []
          },
          "execution_count": 388
        },
        {
          "output_type": "display_data",
          "data": {
            "image/png": "[encoded data removed]",
            "text/plain": [
              "<Figure size 432x288 with 1 Axes>"
            ]
          },
          "metadata": {
            "tags": [],
            "needs_background": "light"
          }
        }
      ]
    },
    {
      "cell_type": "code",
      "metadata": {
        "colab": {
          "base_uri": "https://localhost:8080/"
        },
        "id": "pKnibocJ1ECj",
        "outputId": "5d67a3b2-717e-43b3-934b-4fea03ab3bd1"
      },
      "source": [
        "bins = makebins(df['total_ct_chng_q4_q1'], 0.4)\r\n",
        "df['binned'] = pd.cut(df['total_ct_chng_q4_q1'], bins, include_lowest=True)\r\n",
        "p(df['binned'])\r\n",
        "df.total_ct_chng_q4_q1.head()"
      ],
      "execution_count": 389,
      "outputs": [
        {
          "output_type": "stream",
          "text": [
            "client_num\n",
            "768805383    (1.6, 2.0]\n",
            "818770008    (3.6, 4.0]\n",
            "713982108    (2.0, 2.4]\n",
            "769911858    (2.0, 2.4]\n",
            "709106358    (2.4, 2.8]\n",
            "                ...    \n",
            "772366833    (0.8, 1.2]\n",
            "710638233    (0.4, 0.8]\n",
            "716506083    (0.8, 1.2]\n",
            "717406983    (0.4, 0.8]\n",
            "714337233    (0.4, 0.8]\n",
            "Name: binned, Length: 10127, dtype: category\n",
            "Categories (10, interval[float64]): [(-0.001, 0.4] < (0.4, 0.8] < (0.8, 1.2] < (1.2, 1.6] < ... <\n",
            "                                     (2.4, 2.8] < (2.8, 3.2] < (3.2, 3.6] < (3.6, 4.0]]\n"
          ],
          "name": "stdout"
        },
        {
          "output_type": "execute_result",
          "data": {
            "text/plain": [
              "client_num\n",
              "768805383    1.625\n",
              "818770008    3.714\n",
              "713982108    2.333\n",
              "769911858    2.333\n",
              "709106358    2.500\n",
              "Name: total_ct_chng_q4_q1, dtype: float64"
            ]
          },
          "metadata": {
            "tags": []
          },
          "execution_count": 389
        }
      ]
    },
    {
      "cell_type": "code",
      "metadata": {
        "colab": {
          "base_uri": "https://localhost:8080/",
          "height": 354
        },
        "id": "b7C2CDPO1ECm",
        "outputId": "d4b4db08-7e15-44ec-e426-7b6978d29fab"
      },
      "source": [
        "sns.countplot('churn',hue='binned',data=df)"
      ],
      "execution_count": 390,
      "outputs": [
        {
          "output_type": "stream",
          "text": [
            "/usr/local/lib/python3.6/dist-packages/seaborn/_decorators.py:43: FutureWarning: Pass the following variable as a keyword arg: x. From version 0.12, the only valid positional argument will be `data`, and passing other arguments without an explicit keyword will result in an error or misinterpretation.\n",
            "  FutureWarning\n"
          ],
          "name": "stderr"
        },
        {
          "output_type": "execute_result",
          "data": {
            "text/plain": [
              "<matplotlib.axes._subplots.AxesSubplot at 0x7fb70958d6d8>"
            ]
          },
          "metadata": {
            "tags": []
          },
          "execution_count": 390
        },
        {
          "output_type": "display_data",
          "data": {
            "image/png": "[encoded data removed]",
            "text/plain": [
              "<Figure size 432x288 with 1 Axes>"
            ]
          },
          "metadata": {
            "tags": [],
            "needs_background": "light"
          }
        }
      ]
    },
    {
      "cell_type": "code",
      "metadata": {
        "colab": {
          "base_uri": "https://localhost:8080/"
        },
        "id": "chn9fWycUuWg",
        "outputId": "2baff620-147d-40f9-ba71-5010ec12bd07"
      },
      "source": [
        "df.binned.loc[df.churn == 0].value_counts()"
      ],
      "execution_count": 391,
      "outputs": [
        {
          "output_type": "execute_result",
          "data": {
            "text/plain": [
              "(0.4, 0.8]       5605\n",
              "(0.8, 1.2]       2375\n",
              "(-0.001, 0.4]     277\n",
              "(1.2, 1.6]        178\n",
              "(1.6, 2.0]         41\n",
              "(2.0, 2.4]         12\n",
              "(2.4, 2.8]          5\n",
              "(3.2, 3.6]          3\n",
              "(2.8, 3.2]          3\n",
              "(3.6, 4.0]          1\n",
              "Name: binned, dtype: int64"
            ]
          },
          "metadata": {
            "tags": []
          },
          "execution_count": 391
        }
      ]
    },
    {
      "cell_type": "markdown",
      "metadata": {
        "id": "oD8xWatZW6T3"
      },
      "source": [
        "### CONCLUSION 4: Anybody with total_ct_chng_q4_q1 > 1.6 DID NOT leave"
      ]
    },
    {
      "cell_type": "code",
      "metadata": {
        "colab": {
          "base_uri": "https://localhost:8080/",
          "height": 308
        },
        "id": "uE7sUssXNHDZ",
        "outputId": "c98fd401-bb7d-463c-852a-33811bae775d"
      },
      "source": [
        "df.describe()"
      ],
      "execution_count": 392,
      "outputs": [
        {
          "output_type": "execute_result",
          "data": {
            "text/html": [
              "<div>\n",
              "<style scoped>\n",
              "    .dataframe tbody tr th:only-of-type {\n",
              "        vertical-align: middle;\n",
              "    }\n",
              "\n",
              "    .dataframe tbody tr th {\n",
              "        vertical-align: top;\n",
              "    }\n",
              "\n",
              "    .dataframe thead th {\n",
              "        text-align: right;\n",
              "    }\n",
              "</style>\n",
              "<table border=\"1\" class=\"dataframe\">\n",
              "  <thead>\n",
              "    <tr style=\"text-align: right;\">\n",
              "      <th></th>\n",
              "      <th>churn</th>\n",
              "      <th>age</th>\n",
              "      <th>female</th>\n",
              "      <th>dependent_count</th>\n",
              "      <th>education</th>\n",
              "      <th>marital_status</th>\n",
              "      <th>income_category</th>\n",
              "      <th>card</th>\n",
              "      <th>months_on_book</th>\n",
              "      <th>total_relationship_count</th>\n",
              "      <th>months_inactive_12_mon</th>\n",
              "      <th>contacts_count_12_mon</th>\n",
              "      <th>credit_limit</th>\n",
              "      <th>total_revolving_bal</th>\n",
              "      <th>avg_open_to_buy</th>\n",
              "      <th>total_amt_chng_q4_q1</th>\n",
              "      <th>total_trans_amt</th>\n",
              "      <th>total_trans_ct</th>\n",
              "      <th>total_ct_chng_q4_q1</th>\n",
              "      <th>avg_utilization_ratio</th>\n",
              "    </tr>\n",
              "  </thead>\n",
              "  <tbody>\n",
              "    <tr>\n",
              "      <th>count</th>\n",
              "      <td>10127.000000</td>\n",
              "      <td>10127.000000</td>\n",
              "      <td>10127.000000</td>\n",
              "      <td>10127.000000</td>\n",
              "      <td>10127.000000</td>\n",
              "      <td>10127.000000</td>\n",
              "      <td>10127.000000</td>\n",
              "      <td>10127.000000</td>\n",
              "      <td>10127.000000</td>\n",
              "      <td>10127.000000</td>\n",
              "      <td>10127.000000</td>\n",
              "      <td>10127.000000</td>\n",
              "      <td>10127.000000</td>\n",
              "      <td>10127.000000</td>\n",
              "      <td>10127.000000</td>\n",
              "      <td>10127.000000</td>\n",
              "      <td>10127.000000</td>\n",
              "      <td>10127.000000</td>\n",
              "      <td>10127.000000</td>\n",
              "      <td>10127.000000</td>\n",
              "    </tr>\n",
              "    <tr>\n",
              "      <th>mean</th>\n",
              "      <td>0.160660</td>\n",
              "      <td>46.325960</td>\n",
              "      <td>0.529081</td>\n",
              "      <td>2.346203</td>\n",
              "      <td>2.601955</td>\n",
              "      <td>1.536585</td>\n",
              "      <td>2.072578</td>\n",
              "      <td>1.083638</td>\n",
              "      <td>35.928409</td>\n",
              "      <td>3.812580</td>\n",
              "      <td>2.341167</td>\n",
              "      <td>2.455317</td>\n",
              "      <td>8631.953698</td>\n",
              "      <td>1162.814061</td>\n",
              "      <td>7469.139637</td>\n",
              "      <td>0.759941</td>\n",
              "      <td>4404.086304</td>\n",
              "      <td>64.858695</td>\n",
              "      <td>0.712222</td>\n",
              "      <td>0.274894</td>\n",
              "    </tr>\n",
              "    <tr>\n",
              "      <th>std</th>\n",
              "      <td>0.367235</td>\n",
              "      <td>8.016814</td>\n",
              "      <td>0.499178</td>\n",
              "      <td>1.298908</td>\n",
              "      <td>1.700417</td>\n",
              "      <td>0.737808</td>\n",
              "      <td>1.461929</td>\n",
              "      <td>0.333784</td>\n",
              "      <td>7.986416</td>\n",
              "      <td>1.554408</td>\n",
              "      <td>1.010622</td>\n",
              "      <td>1.106225</td>\n",
              "      <td>9088.776650</td>\n",
              "      <td>814.987335</td>\n",
              "      <td>9090.685324</td>\n",
              "      <td>0.219207</td>\n",
              "      <td>3397.129254</td>\n",
              "      <td>23.472570</td>\n",
              "      <td>0.238086</td>\n",
              "      <td>0.275691</td>\n",
              "    </tr>\n",
              "    <tr>\n",
              "      <th>min</th>\n",
              "      <td>0.000000</td>\n",
              "      <td>26.000000</td>\n",
              "      <td>0.000000</td>\n",
              "      <td>0.000000</td>\n",
              "      <td>0.000000</td>\n",
              "      <td>0.000000</td>\n",
              "      <td>0.000000</td>\n",
              "      <td>1.000000</td>\n",
              "      <td>13.000000</td>\n",
              "      <td>1.000000</td>\n",
              "      <td>0.000000</td>\n",
              "      <td>0.000000</td>\n",
              "      <td>1438.300000</td>\n",
              "      <td>0.000000</td>\n",
              "      <td>3.000000</td>\n",
              "      <td>0.000000</td>\n",
              "      <td>510.000000</td>\n",
              "      <td>10.000000</td>\n",
              "      <td>0.000000</td>\n",
              "      <td>0.000000</td>\n",
              "    </tr>\n",
              "    <tr>\n",
              "      <th>25%</th>\n",
              "      <td>0.000000</td>\n",
              "      <td>41.000000</td>\n",
              "      <td>0.000000</td>\n",
              "      <td>1.000000</td>\n",
              "      <td>1.000000</td>\n",
              "      <td>1.000000</td>\n",
              "      <td>1.000000</td>\n",
              "      <td>1.000000</td>\n",
              "      <td>31.000000</td>\n",
              "      <td>3.000000</td>\n",
              "      <td>2.000000</td>\n",
              "      <td>2.000000</td>\n",
              "      <td>2555.000000</td>\n",
              "      <td>359.000000</td>\n",
              "      <td>1324.500000</td>\n",
              "      <td>0.631000</td>\n",
              "      <td>2155.500000</td>\n",
              "      <td>45.000000</td>\n",
              "      <td>0.582000</td>\n",
              "      <td>0.023000</td>\n",
              "    </tr>\n",
              "    <tr>\n",
              "      <th>50%</th>\n",
              "      <td>0.000000</td>\n",
              "      <td>46.000000</td>\n",
              "      <td>1.000000</td>\n",
              "      <td>2.000000</td>\n",
              "      <td>3.000000</td>\n",
              "      <td>2.000000</td>\n",
              "      <td>2.000000</td>\n",
              "      <td>1.000000</td>\n",
              "      <td>36.000000</td>\n",
              "      <td>4.000000</td>\n",
              "      <td>2.000000</td>\n",
              "      <td>2.000000</td>\n",
              "      <td>4549.000000</td>\n",
              "      <td>1276.000000</td>\n",
              "      <td>3474.000000</td>\n",
              "      <td>0.736000</td>\n",
              "      <td>3899.000000</td>\n",
              "      <td>67.000000</td>\n",
              "      <td>0.702000</td>\n",
              "      <td>0.176000</td>\n",
              "    </tr>\n",
              "    <tr>\n",
              "      <th>75%</th>\n",
              "      <td>0.000000</td>\n",
              "      <td>52.000000</td>\n",
              "      <td>1.000000</td>\n",
              "      <td>3.000000</td>\n",
              "      <td>4.000000</td>\n",
              "      <td>2.000000</td>\n",
              "      <td>3.000000</td>\n",
              "      <td>1.000000</td>\n",
              "      <td>40.000000</td>\n",
              "      <td>5.000000</td>\n",
              "      <td>3.000000</td>\n",
              "      <td>3.000000</td>\n",
              "      <td>11067.500000</td>\n",
              "      <td>1784.000000</td>\n",
              "      <td>9859.000000</td>\n",
              "      <td>0.859000</td>\n",
              "      <td>4741.000000</td>\n",
              "      <td>81.000000</td>\n",
              "      <td>0.818000</td>\n",
              "      <td>0.503000</td>\n",
              "    </tr>\n",
              "    <tr>\n",
              "      <th>max</th>\n",
              "      <td>1.000000</td>\n",
              "      <td>73.000000</td>\n",
              "      <td>1.000000</td>\n",
              "      <td>5.000000</td>\n",
              "      <td>6.000000</td>\n",
              "      <td>3.000000</td>\n",
              "      <td>5.000000</td>\n",
              "      <td>4.000000</td>\n",
              "      <td>56.000000</td>\n",
              "      <td>6.000000</td>\n",
              "      <td>6.000000</td>\n",
              "      <td>6.000000</td>\n",
              "      <td>34516.000000</td>\n",
              "      <td>2517.000000</td>\n",
              "      <td>34516.000000</td>\n",
              "      <td>3.397000</td>\n",
              "      <td>18484.000000</td>\n",
              "      <td>139.000000</td>\n",
              "      <td>3.714000</td>\n",
              "      <td>0.999000</td>\n",
              "    </tr>\n",
              "  </tbody>\n",
              "</table>\n",
              "</div>"
            ],
            "text/plain": [
              "              churn           age  ...  total_ct_chng_q4_q1  avg_utilization_ratio\n",
              "count  10127.000000  10127.000000  ...         10127.000000           10127.000000\n",
              "mean       0.160660     46.325960  ...             0.712222               0.274894\n",
              "std        0.367235      8.016814  ...             0.238086               0.275691\n",
              "min        0.000000     26.000000  ...             0.000000               0.000000\n",
              "25%        0.000000     41.000000  ...             0.582000               0.023000\n",
              "50%        0.000000     46.000000  ...             0.702000               0.176000\n",
              "75%        0.000000     52.000000  ...             0.818000               0.503000\n",
              "max        1.000000     73.000000  ...             3.714000               0.999000\n",
              "\n",
              "[8 rows x 20 columns]"
            ]
          },
          "metadata": {
            "tags": []
          },
          "execution_count": 392
        }
      ]
    },
    {
      "cell_type": "markdown",
      "metadata": {
        "id": "I6LPY_Xz8eVl"
      },
      "source": [
        "# Age distribution"
      ]
    },
    {
      "cell_type": "code",
      "metadata": {
        "colab": {
          "base_uri": "https://localhost:8080/",
          "height": 574
        },
        "id": "1pjQPnQtmdKU",
        "outputId": "e077516e-dc0d-4dbe-b673-a3297f268c86"
      },
      "source": [
        "bins = makebins(df['age'], 2)\r\n",
        "df['binned'] = pd.cut(df['age'], bins, include_lowest=True)\r\n",
        "p(df['binned'])\r\n",
        "#p(df.binned.value_counts())\r\n",
        "s = df.binned.value_counts(sort=False)\r\n",
        "p(type(s))\r\n",
        "s[s > 0]\r\n",
        "s.plot()"
      ],
      "execution_count": 393,
      "outputs": [
        {
          "output_type": "stream",
          "text": [
            "client_num\n",
            "768805383    (44.0, 46.0]\n",
            "818770008    (48.0, 50.0]\n",
            "713982108    (50.0, 52.0]\n",
            "769911858    (38.0, 40.0]\n",
            "709106358    (38.0, 40.0]\n",
            "                 ...     \n",
            "772366833    (48.0, 50.0]\n",
            "710638233    (40.0, 42.0]\n",
            "716506083    (42.0, 44.0]\n",
            "717406983    (28.0, 30.0]\n",
            "714337233    (42.0, 44.0]\n",
            "Name: binned, Length: 10127, dtype: category\n",
            "Categories (37, interval[float64]): [(-0.001, 2.0] < (2.0, 4.0] < (4.0, 6.0] < (6.0, 8.0] < ... <\n",
            "                                     (66.0, 68.0] < (68.0, 70.0] < (70.0, 72.0] < (72.0, 74.0]]\n",
            "<class 'pandas.core.series.Series'>\n"
          ],
          "name": "stdout"
        },
        {
          "output_type": "execute_result",
          "data": {
            "text/plain": [
              "<matplotlib.axes._subplots.AxesSubplot at 0x7fb7093800f0>"
            ]
          },
          "metadata": {
            "tags": []
          },
          "execution_count": 393
        },
        {
          "output_type": "display_data",
          "data": {
            "image/png": "[encoded data removed]",
            "text/plain": [
              "<Figure size 432x288 with 1 Axes>"
            ]
          },
          "metadata": {
            "tags": [],
            "needs_background": "light"
          }
        }
      ]
    },
    {
      "cell_type": "code",
      "metadata": {
        "colab": {
          "base_uri": "https://localhost:8080/",
          "height": 283
        },
        "id": "90FuRGui_R6r",
        "outputId": "3b8678a8-d20b-43d1-c3ac-b64db1e61fd2"
      },
      "source": [
        "df.age.plot.hist(bins=50)"
      ],
      "execution_count": 394,
      "outputs": [
        {
          "output_type": "execute_result",
          "data": {
            "text/plain": [
              "<matplotlib.axes._subplots.AxesSubplot at 0x7fb7091f9898>"
            ]
          },
          "metadata": {
            "tags": []
          },
          "execution_count": 394
        },
        {
          "output_type": "display_data",
          "data": {
            "image/png": "[encoded data removed]",
            "text/plain": [
              "<Figure size 432x288 with 1 Axes>"
            ]
          },
          "metadata": {
            "tags": [],
            "needs_background": "light"
          }
        }
      ]
    },
    {
      "cell_type": "markdown",
      "metadata": {
        "id": "vq2gW6mm8kp_"
      },
      "source": [
        "# Gender effect"
      ]
    },
    {
      "cell_type": "code",
      "metadata": {
        "colab": {
          "base_uri": "https://localhost:8080/",
          "height": 529
        },
        "id": "K-K6002D47kc",
        "outputId": "2763ff8f-e33b-414e-9d25-623b2c3d6b31"
      },
      "source": [
        "df_corr_0_2 = df[['churn', 'contacts_count_12_mon', 'total_revolving_bal', 'total_trans_ct', 'total_ct_chng_q4_q1']]\r\n",
        "display_corr(df_corr_0_2)"
      ],
      "execution_count": 395,
      "outputs": [
        {
          "output_type": "display_data",
          "data": {
            "text/html": [
              "<div>\n",
              "<style scoped>\n",
              "    .dataframe tbody tr th:only-of-type {\n",
              "        vertical-align: middle;\n",
              "    }\n",
              "\n",
              "    .dataframe tbody tr th {\n",
              "        vertical-align: top;\n",
              "    }\n",
              "\n",
              "    .dataframe thead th {\n",
              "        text-align: right;\n",
              "    }\n",
              "</style>\n",
              "<table border=\"1\" class=\"dataframe\">\n",
              "  <thead>\n",
              "    <tr style=\"text-align: right;\">\n",
              "      <th></th>\n",
              "      <th>churn</th>\n",
              "      <th>contacts_count_12_mon</th>\n",
              "      <th>total_revolving_bal</th>\n",
              "      <th>total_trans_ct</th>\n",
              "      <th>total_ct_chng_q4_q1</th>\n",
              "    </tr>\n",
              "  </thead>\n",
              "  <tbody>\n",
              "    <tr>\n",
              "      <th>churn</th>\n",
              "      <td>1.000000</td>\n",
              "      <td>0.204491</td>\n",
              "      <td>-0.263053</td>\n",
              "      <td>-0.371403</td>\n",
              "      <td>-0.290054</td>\n",
              "    </tr>\n",
              "    <tr>\n",
              "      <th>contacts_count_12_mon</th>\n",
              "      <td>0.204491</td>\n",
              "      <td>1.000000</td>\n",
              "      <td>-0.053913</td>\n",
              "      <td>-0.152213</td>\n",
              "      <td>-0.094997</td>\n",
              "    </tr>\n",
              "    <tr>\n",
              "      <th>total_revolving_bal</th>\n",
              "      <td>-0.263053</td>\n",
              "      <td>-0.053913</td>\n",
              "      <td>1.000000</td>\n",
              "      <td>0.056060</td>\n",
              "      <td>0.089861</td>\n",
              "    </tr>\n",
              "    <tr>\n",
              "      <th>total_trans_ct</th>\n",
              "      <td>-0.371403</td>\n",
              "      <td>-0.152213</td>\n",
              "      <td>0.056060</td>\n",
              "      <td>1.000000</td>\n",
              "      <td>0.112324</td>\n",
              "    </tr>\n",
              "    <tr>\n",
              "      <th>total_ct_chng_q4_q1</th>\n",
              "      <td>-0.290054</td>\n",
              "      <td>-0.094997</td>\n",
              "      <td>0.089861</td>\n",
              "      <td>0.112324</td>\n",
              "      <td>1.000000</td>\n",
              "    </tr>\n",
              "  </tbody>\n",
              "</table>\n",
              "</div>"
            ],
            "text/plain": [
              "                          churn  ...  total_ct_chng_q4_q1\n",
              "churn                  1.000000  ...            -0.290054\n",
              "contacts_count_12_mon  0.204491  ...            -0.094997\n",
              "total_revolving_bal   -0.263053  ...             0.089861\n",
              "total_trans_ct        -0.371403  ...             0.112324\n",
              "total_ct_chng_q4_q1   -0.290054  ...             1.000000\n",
              "\n",
              "[5 rows x 5 columns]"
            ]
          },
          "metadata": {
            "tags": []
          }
        },
        {
          "output_type": "display_data",
          "data": {
            "image/png": "[encoded data removed]",
            "text/plain": [
              "<Figure size 360x288 with 2 Axes>"
            ]
          },
          "metadata": {
            "tags": [],
            "needs_background": "light"
          }
        }
      ]
    },
    {
      "cell_type": "code",
      "metadata": {
        "colab": {
          "base_uri": "https://localhost:8080/",
          "height": 529
        },
        "id": "n-tk5tU89eCJ",
        "outputId": "bade7a7e-1061-48b3-9f8b-2b213138cfa8"
      },
      "source": [
        "result = df_corr_0_2.mul(df.female, axis=0)\r\n",
        "display_corr(result)\r\n"
      ],
      "execution_count": 396,
      "outputs": [
        {
          "output_type": "display_data",
          "data": {
            "text/html": [
              "<div>\n",
              "<style scoped>\n",
              "    .dataframe tbody tr th:only-of-type {\n",
              "        vertical-align: middle;\n",
              "    }\n",
              "\n",
              "    .dataframe tbody tr th {\n",
              "        vertical-align: top;\n",
              "    }\n",
              "\n",
              "    .dataframe thead th {\n",
              "        text-align: right;\n",
              "    }\n",
              "</style>\n",
              "<table border=\"1\" class=\"dataframe\">\n",
              "  <thead>\n",
              "    <tr style=\"text-align: right;\">\n",
              "      <th></th>\n",
              "      <th>churn</th>\n",
              "      <th>contacts_count_12_mon</th>\n",
              "      <th>total_revolving_bal</th>\n",
              "      <th>total_trans_ct</th>\n",
              "      <th>total_ct_chng_q4_q1</th>\n",
              "    </tr>\n",
              "  </thead>\n",
              "  <tbody>\n",
              "    <tr>\n",
              "      <th>churn</th>\n",
              "      <td>1.000000</td>\n",
              "      <td>0.365093</td>\n",
              "      <td>0.024639</td>\n",
              "      <td>0.077461</td>\n",
              "      <td>0.128598</td>\n",
              "    </tr>\n",
              "    <tr>\n",
              "      <th>contacts_count_12_mon</th>\n",
              "      <td>0.365093</td>\n",
              "      <td>1.000000</td>\n",
              "      <td>0.551140</td>\n",
              "      <td>0.712082</td>\n",
              "      <td>0.734371</td>\n",
              "    </tr>\n",
              "    <tr>\n",
              "      <th>total_revolving_bal</th>\n",
              "      <td>0.024639</td>\n",
              "      <td>0.551140</td>\n",
              "      <td>1.000000</td>\n",
              "      <td>0.649750</td>\n",
              "      <td>0.662105</td>\n",
              "    </tr>\n",
              "    <tr>\n",
              "      <th>total_trans_ct</th>\n",
              "      <td>0.077461</td>\n",
              "      <td>0.712082</td>\n",
              "      <td>0.649750</td>\n",
              "      <td>1.000000</td>\n",
              "      <td>0.851508</td>\n",
              "    </tr>\n",
              "    <tr>\n",
              "      <th>total_ct_chng_q4_q1</th>\n",
              "      <td>0.128598</td>\n",
              "      <td>0.734371</td>\n",
              "      <td>0.662105</td>\n",
              "      <td>0.851508</td>\n",
              "      <td>1.000000</td>\n",
              "    </tr>\n",
              "  </tbody>\n",
              "</table>\n",
              "</div>"
            ],
            "text/plain": [
              "                          churn  ...  total_ct_chng_q4_q1\n",
              "churn                  1.000000  ...             0.128598\n",
              "contacts_count_12_mon  0.365093  ...             0.734371\n",
              "total_revolving_bal    0.024639  ...             0.662105\n",
              "total_trans_ct         0.077461  ...             0.851508\n",
              "total_ct_chng_q4_q1    0.128598  ...             1.000000\n",
              "\n",
              "[5 rows x 5 columns]"
            ]
          },
          "metadata": {
            "tags": []
          }
        },
        {
          "output_type": "display_data",
          "data": {
            "image/png": "[encoded data removed]",
            "text/plain": [
              "<Figure size 360x288 with 2 Axes>"
            ]
          },
          "metadata": {
            "tags": [],
            "needs_background": "light"
          }
        }
      ]
    },
    {
      "cell_type": "markdown",
      "metadata": {
        "id": "vDPru7NhH12R"
      },
      "source": [
        "# What are average values of numerical features for card holders that left?"
      ]
    },
    {
      "cell_type": "code",
      "metadata": {
        "colab": {
          "base_uri": "https://localhost:8080/"
        },
        "id": "b9sJmSjjH6OU",
        "outputId": "7aabd760-dc31-4f28-b5df-6544f2c6e904"
      },
      "source": [
        "df[df.churn == 0].mean()"
      ],
      "execution_count": 397,
      "outputs": [
        {
          "output_type": "execute_result",
          "data": {
            "text/plain": [
              "churn                          0.000000\n",
              "age                           46.262118\n",
              "female                         0.520941\n",
              "dependent_count                2.335412\n",
              "education                      2.595412\n",
              "marital_status                 1.542588\n",
              "income_category                2.085059\n",
              "card                           1.083294\n",
              "months_on_book                35.880588\n",
              "total_relationship_count       3.914588\n",
              "months_inactive_12_mon         2.273765\n",
              "contacts_count_12_mon          2.356353\n",
              "credit_limit                8726.877518\n",
              "total_revolving_bal         1256.604118\n",
              "avg_open_to_buy             7470.273400\n",
              "total_amt_chng_q4_q1           0.772510\n",
              "total_trans_amt             4654.655882\n",
              "total_trans_ct                68.672588\n",
              "total_ct_chng_q4_q1            0.742434\n",
              "avg_utilization_ratio          0.296412\n",
              "dtype: float64"
            ]
          },
          "metadata": {
            "tags": []
          },
          "execution_count": 397
        }
      ]
    },
    {
      "cell_type": "markdown",
      "metadata": {
        "id": "gWgQrKfXLYBN"
      },
      "source": [
        "# Grouping by Card holders that left"
      ]
    },
    {
      "cell_type": "code",
      "metadata": {
        "colab": {
          "base_uri": "https://localhost:8080/",
          "height": 188
        },
        "id": "wrHuij6ILf-r",
        "outputId": "f376d164-90d6-42f9-da68-9fb6fc69f587"
      },
      "source": [
        "columns_to_show = ['contacts_count_12_mon', 'total_revolving_bal', 'total_trans_ct', 'total_ct_chng_q4_q1']\r\n",
        "df.groupby(['churn'])[columns_to_show].describe()"
      ],
      "execution_count": 398,
      "outputs": [
        {
          "output_type": "execute_result",
          "data": {
            "text/html": [
              "<div>\n",
              "<style scoped>\n",
              "    .dataframe tbody tr th:only-of-type {\n",
              "        vertical-align: middle;\n",
              "    }\n",
              "\n",
              "    .dataframe tbody tr th {\n",
              "        vertical-align: top;\n",
              "    }\n",
              "\n",
              "    .dataframe thead tr th {\n",
              "        text-align: left;\n",
              "    }\n",
              "\n",
              "    .dataframe thead tr:last-of-type th {\n",
              "        text-align: right;\n",
              "    }\n",
              "</style>\n",
              "<table border=\"1\" class=\"dataframe\">\n",
              "  <thead>\n",
              "    <tr>\n",
              "      <th></th>\n",
              "      <th colspan=\"8\" halign=\"left\">contacts_count_12_mon</th>\n",
              "      <th colspan=\"8\" halign=\"left\">total_revolving_bal</th>\n",
              "      <th colspan=\"8\" halign=\"left\">total_trans_ct</th>\n",
              "      <th colspan=\"8\" halign=\"left\">total_ct_chng_q4_q1</th>\n",
              "    </tr>\n",
              "    <tr>\n",
              "      <th></th>\n",
              "      <th>count</th>\n",
              "      <th>mean</th>\n",
              "      <th>std</th>\n",
              "      <th>min</th>\n",
              "      <th>25%</th>\n",
              "      <th>50%</th>\n",
              "      <th>75%</th>\n",
              "      <th>max</th>\n",
              "      <th>count</th>\n",
              "      <th>mean</th>\n",
              "      <th>std</th>\n",
              "      <th>min</th>\n",
              "      <th>25%</th>\n",
              "      <th>50%</th>\n",
              "      <th>75%</th>\n",
              "      <th>max</th>\n",
              "      <th>count</th>\n",
              "      <th>mean</th>\n",
              "      <th>std</th>\n",
              "      <th>min</th>\n",
              "      <th>25%</th>\n",
              "      <th>50%</th>\n",
              "      <th>75%</th>\n",
              "      <th>max</th>\n",
              "      <th>count</th>\n",
              "      <th>mean</th>\n",
              "      <th>std</th>\n",
              "      <th>min</th>\n",
              "      <th>25%</th>\n",
              "      <th>50%</th>\n",
              "      <th>75%</th>\n",
              "      <th>max</th>\n",
              "    </tr>\n",
              "    <tr>\n",
              "      <th>churn</th>\n",
              "      <th></th>\n",
              "      <th></th>\n",
              "      <th></th>\n",
              "      <th></th>\n",
              "      <th></th>\n",
              "      <th></th>\n",
              "      <th></th>\n",
              "      <th></th>\n",
              "      <th></th>\n",
              "      <th></th>\n",
              "      <th></th>\n",
              "      <th></th>\n",
              "      <th></th>\n",
              "      <th></th>\n",
              "      <th></th>\n",
              "      <th></th>\n",
              "      <th></th>\n",
              "      <th></th>\n",
              "      <th></th>\n",
              "      <th></th>\n",
              "      <th></th>\n",
              "      <th></th>\n",
              "      <th></th>\n",
              "      <th></th>\n",
              "      <th></th>\n",
              "      <th></th>\n",
              "      <th></th>\n",
              "      <th></th>\n",
              "      <th></th>\n",
              "      <th></th>\n",
              "      <th></th>\n",
              "      <th></th>\n",
              "    </tr>\n",
              "  </thead>\n",
              "  <tbody>\n",
              "    <tr>\n",
              "      <th>0</th>\n",
              "      <td>8500.0</td>\n",
              "      <td>2.356353</td>\n",
              "      <td>1.081436</td>\n",
              "      <td>0.0</td>\n",
              "      <td>2.0</td>\n",
              "      <td>2.0</td>\n",
              "      <td>3.0</td>\n",
              "      <td>5.0</td>\n",
              "      <td>8500.0</td>\n",
              "      <td>1256.604118</td>\n",
              "      <td>757.745354</td>\n",
              "      <td>0.0</td>\n",
              "      <td>800.0</td>\n",
              "      <td>1364.0</td>\n",
              "      <td>1807.0</td>\n",
              "      <td>2517.0</td>\n",
              "      <td>8500.0</td>\n",
              "      <td>68.672588</td>\n",
              "      <td>22.919011</td>\n",
              "      <td>11.0</td>\n",
              "      <td>54.0</td>\n",
              "      <td>71.0</td>\n",
              "      <td>82.0</td>\n",
              "      <td>139.0</td>\n",
              "      <td>8500.0</td>\n",
              "      <td>0.742434</td>\n",
              "      <td>0.228054</td>\n",
              "      <td>0.028</td>\n",
              "      <td>0.617</td>\n",
              "      <td>0.721</td>\n",
              "      <td>0.833</td>\n",
              "      <td>3.714</td>\n",
              "    </tr>\n",
              "    <tr>\n",
              "      <th>1</th>\n",
              "      <td>1627.0</td>\n",
              "      <td>2.972342</td>\n",
              "      <td>1.090537</td>\n",
              "      <td>0.0</td>\n",
              "      <td>2.0</td>\n",
              "      <td>3.0</td>\n",
              "      <td>4.0</td>\n",
              "      <td>6.0</td>\n",
              "      <td>1627.0</td>\n",
              "      <td>672.822987</td>\n",
              "      <td>921.385582</td>\n",
              "      <td>0.0</td>\n",
              "      <td>0.0</td>\n",
              "      <td>0.0</td>\n",
              "      <td>1303.5</td>\n",
              "      <td>2517.0</td>\n",
              "      <td>1627.0</td>\n",
              "      <td>44.933620</td>\n",
              "      <td>14.568429</td>\n",
              "      <td>10.0</td>\n",
              "      <td>37.0</td>\n",
              "      <td>43.0</td>\n",
              "      <td>51.0</td>\n",
              "      <td>94.0</td>\n",
              "      <td>1627.0</td>\n",
              "      <td>0.554386</td>\n",
              "      <td>0.226854</td>\n",
              "      <td>0.000</td>\n",
              "      <td>0.400</td>\n",
              "      <td>0.531</td>\n",
              "      <td>0.692</td>\n",
              "      <td>2.500</td>\n",
              "    </tr>\n",
              "  </tbody>\n",
              "</table>\n",
              "</div>"
            ],
            "text/plain": [
              "      contacts_count_12_mon                      ... total_ct_chng_q4_q1              \n",
              "                      count      mean       std  ...                 50%    75%    max\n",
              "churn                                            ...                                  \n",
              "0                    8500.0  2.356353  1.081436  ...               0.721  0.833  3.714\n",
              "1                    1627.0  2.972342  1.090537  ...               0.531  0.692  2.500\n",
              "\n",
              "[2 rows x 32 columns]"
            ]
          },
          "metadata": {
            "tags": []
          },
          "execution_count": 398
        }
      ]
    },
    {
      "cell_type": "code",
      "metadata": {
        "colab": {
          "base_uri": "https://localhost:8080/",
          "height": 228
        },
        "id": "5mLcVDB5MjDC",
        "outputId": "6536bfda-9b04-4e73-fcd4-f3036436f92d"
      },
      "source": [
        "df.groupby(['churn', 'female'])[columns_to_show].agg([np.mean, np.std, np.min, np.max])"
      ],
      "execution_count": 399,
      "outputs": [
        {
          "output_type": "execute_result",
          "data": {
            "text/html": [
              "<div>\n",
              "<style scoped>\n",
              "    .dataframe tbody tr th:only-of-type {\n",
              "        vertical-align: middle;\n",
              "    }\n",
              "\n",
              "    .dataframe tbody tr th {\n",
              "        vertical-align: top;\n",
              "    }\n",
              "\n",
              "    .dataframe thead tr th {\n",
              "        text-align: left;\n",
              "    }\n",
              "\n",
              "    .dataframe thead tr:last-of-type th {\n",
              "        text-align: right;\n",
              "    }\n",
              "</style>\n",
              "<table border=\"1\" class=\"dataframe\">\n",
              "  <thead>\n",
              "    <tr>\n",
              "      <th></th>\n",
              "      <th></th>\n",
              "      <th colspan=\"4\" halign=\"left\">contacts_count_12_mon</th>\n",
              "      <th colspan=\"4\" halign=\"left\">total_revolving_bal</th>\n",
              "      <th colspan=\"4\" halign=\"left\">total_trans_ct</th>\n",
              "      <th colspan=\"4\" halign=\"left\">total_ct_chng_q4_q1</th>\n",
              "    </tr>\n",
              "    <tr>\n",
              "      <th></th>\n",
              "      <th></th>\n",
              "      <th>mean</th>\n",
              "      <th>std</th>\n",
              "      <th>amin</th>\n",
              "      <th>amax</th>\n",
              "      <th>mean</th>\n",
              "      <th>std</th>\n",
              "      <th>amin</th>\n",
              "      <th>amax</th>\n",
              "      <th>mean</th>\n",
              "      <th>std</th>\n",
              "      <th>amin</th>\n",
              "      <th>amax</th>\n",
              "      <th>mean</th>\n",
              "      <th>std</th>\n",
              "      <th>amin</th>\n",
              "      <th>amax</th>\n",
              "    </tr>\n",
              "    <tr>\n",
              "      <th>churn</th>\n",
              "      <th>female</th>\n",
              "      <th></th>\n",
              "      <th></th>\n",
              "      <th></th>\n",
              "      <th></th>\n",
              "      <th></th>\n",
              "      <th></th>\n",
              "      <th></th>\n",
              "      <th></th>\n",
              "      <th></th>\n",
              "      <th></th>\n",
              "      <th></th>\n",
              "      <th></th>\n",
              "      <th></th>\n",
              "      <th></th>\n",
              "      <th></th>\n",
              "      <th></th>\n",
              "    </tr>\n",
              "  </thead>\n",
              "  <tbody>\n",
              "    <tr>\n",
              "      <th rowspan=\"2\" valign=\"top\">0</th>\n",
              "      <th>0</th>\n",
              "      <td>2.413310</td>\n",
              "      <td>1.098379</td>\n",
              "      <td>0</td>\n",
              "      <td>5</td>\n",
              "      <td>1275.407171</td>\n",
              "      <td>748.752626</td>\n",
              "      <td>0</td>\n",
              "      <td>2517</td>\n",
              "      <td>66.102407</td>\n",
              "      <td>25.050685</td>\n",
              "      <td>11</td>\n",
              "      <td>139</td>\n",
              "      <td>0.733298</td>\n",
              "      <td>0.246301</td>\n",
              "      <td>0.143</td>\n",
              "      <td>3.571</td>\n",
              "    </tr>\n",
              "    <tr>\n",
              "      <th>1</th>\n",
              "      <td>2.303975</td>\n",
              "      <td>1.063051</td>\n",
              "      <td>0</td>\n",
              "      <td>5</td>\n",
              "      <td>1239.312782</td>\n",
              "      <td>765.598819</td>\n",
              "      <td>0</td>\n",
              "      <td>2517</td>\n",
              "      <td>71.036134</td>\n",
              "      <td>20.486660</td>\n",
              "      <td>15</td>\n",
              "      <td>138</td>\n",
              "      <td>0.750835</td>\n",
              "      <td>0.209557</td>\n",
              "      <td>0.028</td>\n",
              "      <td>3.714</td>\n",
              "    </tr>\n",
              "    <tr>\n",
              "      <th rowspan=\"2\" valign=\"top\">1</th>\n",
              "      <th>0</th>\n",
              "      <td>3.021521</td>\n",
              "      <td>1.076577</td>\n",
              "      <td>0</td>\n",
              "      <td>6</td>\n",
              "      <td>680.315638</td>\n",
              "      <td>917.519035</td>\n",
              "      <td>0</td>\n",
              "      <td>2517</td>\n",
              "      <td>46.110473</td>\n",
              "      <td>17.437841</td>\n",
              "      <td>10</td>\n",
              "      <td>91</td>\n",
              "      <td>0.579077</td>\n",
              "      <td>0.252603</td>\n",
              "      <td>0.000</td>\n",
              "      <td>2.500</td>\n",
              "    </tr>\n",
              "    <tr>\n",
              "      <th>1</th>\n",
              "      <td>2.935484</td>\n",
              "      <td>1.100019</td>\n",
              "      <td>0</td>\n",
              "      <td>6</td>\n",
              "      <td>667.207527</td>\n",
              "      <td>924.726152</td>\n",
              "      <td>0</td>\n",
              "      <td>2517</td>\n",
              "      <td>44.051613</td>\n",
              "      <td>11.909848</td>\n",
              "      <td>12</td>\n",
              "      <td>94</td>\n",
              "      <td>0.535881</td>\n",
              "      <td>0.203639</td>\n",
              "      <td>0.000</td>\n",
              "      <td>1.684</td>\n",
              "    </tr>\n",
              "  </tbody>\n",
              "</table>\n",
              "</div>"
            ],
            "text/plain": [
              "             contacts_count_12_mon                 ... total_ct_chng_q4_q1              \n",
              "                              mean       std amin  ...                 std   amin   amax\n",
              "churn female                                       ...                                  \n",
              "0     0                   2.413310  1.098379    0  ...            0.246301  0.143  3.571\n",
              "      1                   2.303975  1.063051    0  ...            0.209557  0.028  3.714\n",
              "1     0                   3.021521  1.076577    0  ...            0.252603  0.000  2.500\n",
              "      1                   2.935484  1.100019    0  ...            0.203639  0.000  1.684\n",
              "\n",
              "[4 rows x 16 columns]"
            ]
          },
          "metadata": {
            "tags": []
          },
          "execution_count": 399
        }
      ]
    },
    {
      "cell_type": "markdown",
      "metadata": {
        "id": "7crAETtPOzoA"
      },
      "source": [
        "# Effects of some columns on churn card holders (those that left)\r\n",
        "\r\n",
        "source: https://www.kaggle.com/kashnitsky/topic-1-exploratory-data-analysis-with-pandas"
      ]
    },
    {
      "cell_type": "code",
      "metadata": {
        "colab": {
          "base_uri": "https://localhost:8080/",
          "height": 298
        },
        "id": "7tidhYztPAlt",
        "outputId": "335d92a2-965e-4689-b18d-0995c1c6591d"
      },
      "source": [
        "pd.crosstab(df.churn, df.contacts_count_12_mon, margins=True)\r\n",
        "sns.countplot(x='contacts_count_12_mon', hue='churn', data=df)"
      ],
      "execution_count": 400,
      "outputs": [
        {
          "output_type": "execute_result",
          "data": {
            "text/plain": [
              "<matplotlib.axes._subplots.AxesSubplot at 0x7fb709cd7cc0>"
            ]
          },
          "metadata": {
            "tags": []
          },
          "execution_count": 400
        },
        {
          "output_type": "display_data",
          "data": {
            "image/png": "[encoded data removed]",
            "text/plain": [
              "<Figure size 432x288 with 1 Axes>"
            ]
          },
          "metadata": {
            "tags": [],
            "needs_background": "light"
          }
        }
      ]
    },
    {
      "cell_type": "code",
      "metadata": {
        "colab": {
          "base_uri": "https://localhost:8080/",
          "height": 297
        },
        "id": "FykzHPawP4c7",
        "outputId": "04fc4f99-5bc5-4e27-f658-8ea038b2b5b5"
      },
      "source": [
        "sns.countplot(x='churn',hue='contacts_count_12_mon',data=df)"
      ],
      "execution_count": 401,
      "outputs": [
        {
          "output_type": "execute_result",
          "data": {
            "text/plain": [
              "<matplotlib.axes._subplots.AxesSubplot at 0x7fb709cd7908>"
            ]
          },
          "metadata": {
            "tags": []
          },
          "execution_count": 401
        },
        {
          "output_type": "display_data",
          "data": {
            "image/png": "[encoded data removed]",
            "text/plain": [
              "<Figure size 432x288 with 1 Axes>"
            ]
          },
          "metadata": {
            "tags": [],
            "needs_background": "light"
          }
        }
      ]
    },
    {
      "cell_type": "code",
      "metadata": {
        "colab": {
          "base_uri": "https://localhost:8080/",
          "height": 168
        },
        "id": "d5ekvineQmI6",
        "outputId": "1a94354f-3708-4a39-ab03-e4a13cc4bdb2"
      },
      "source": [
        "df['Many_service_calls'] = (df.contacts_count_12_mon > 4).astype('int')\r\n",
        "\r\n",
        "pd.crosstab(df['Many_service_calls'], df.churn, margins=True)"
      ],
      "execution_count": 402,
      "outputs": [
        {
          "output_type": "execute_result",
          "data": {
            "text/html": [
              "<div>\n",
              "<style scoped>\n",
              "    .dataframe tbody tr th:only-of-type {\n",
              "        vertical-align: middle;\n",
              "    }\n",
              "\n",
              "    .dataframe tbody tr th {\n",
              "        vertical-align: top;\n",
              "    }\n",
              "\n",
              "    .dataframe thead th {\n",
              "        text-align: right;\n",
              "    }\n",
              "</style>\n",
              "<table border=\"1\" class=\"dataframe\">\n",
              "  <thead>\n",
              "    <tr style=\"text-align: right;\">\n",
              "      <th>churn</th>\n",
              "      <th>0</th>\n",
              "      <th>1</th>\n",
              "      <th>All</th>\n",
              "    </tr>\n",
              "    <tr>\n",
              "      <th>Many_service_calls</th>\n",
              "      <th></th>\n",
              "      <th></th>\n",
              "      <th></th>\n",
              "    </tr>\n",
              "  </thead>\n",
              "  <tbody>\n",
              "    <tr>\n",
              "      <th>0</th>\n",
              "      <td>8383</td>\n",
              "      <td>1514</td>\n",
              "      <td>9897</td>\n",
              "    </tr>\n",
              "    <tr>\n",
              "      <th>1</th>\n",
              "      <td>117</td>\n",
              "      <td>113</td>\n",
              "      <td>230</td>\n",
              "    </tr>\n",
              "    <tr>\n",
              "      <th>All</th>\n",
              "      <td>8500</td>\n",
              "      <td>1627</td>\n",
              "      <td>10127</td>\n",
              "    </tr>\n",
              "  </tbody>\n",
              "</table>\n",
              "</div>"
            ],
            "text/plain": [
              "churn                  0     1    All\n",
              "Many_service_calls                   \n",
              "0                   8383  1514   9897\n",
              "1                    117   113    230\n",
              "All                 8500  1627  10127"
            ]
          },
          "metadata": {
            "tags": []
          },
          "execution_count": 402
        }
      ]
    },
    {
      "cell_type": "code",
      "metadata": {
        "colab": {
          "base_uri": "https://localhost:8080/",
          "height": 298
        },
        "id": "kxvgw5rdQ-ha",
        "outputId": "911fba61-e5ca-4e2d-f9ae-062223409122"
      },
      "source": [
        "sns.countplot(x='Many_service_calls', hue='churn', data=df)"
      ],
      "execution_count": 403,
      "outputs": [
        {
          "output_type": "execute_result",
          "data": {
            "text/plain": [
              "<matplotlib.axes._subplots.AxesSubplot at 0x7fb708e6b3c8>"
            ]
          },
          "metadata": {
            "tags": []
          },
          "execution_count": 403
        },
        {
          "output_type": "display_data",
          "data": {
            "image/png": "[encoded data removed]",
            "text/plain": [
              "<Figure size 432x288 with 1 Axes>"
            ]
          },
          "metadata": {
            "tags": [],
            "needs_background": "light"
          }
        }
      ]
    },
    {
      "cell_type": "code",
      "metadata": {
        "colab": {
          "base_uri": "https://localhost:8080/"
        },
        "id": "5qDvUMf7TqtP",
        "outputId": "aec41d1d-c252-4ef3-ec62-9ee7fc666c01"
      },
      "source": [
        "100* (1 - (1541  + 117 )/(8383 + 113))"
      ],
      "execution_count": 404,
      "outputs": [
        {
          "output_type": "execute_result",
          "data": {
            "text/plain": [
              "80.484934086629"
            ]
          },
          "metadata": {
            "tags": []
          },
          "execution_count": 404
        }
      ]
    },
    {
      "cell_type": "code",
      "metadata": {
        "colab": {
          "base_uri": "https://localhost:8080/",
          "height": 229
        },
        "id": "haeJweGSRatT",
        "outputId": "6424c560-66b5-49a7-b285-49bc9a9e0d60"
      },
      "source": [
        "p(df.card.value_counts())\r\n",
        "pd.crosstab(df['Many_service_calls'] & df.female , df.churn)"
      ],
      "execution_count": 405,
      "outputs": [
        {
          "output_type": "stream",
          "text": [
            "1    9436\n",
            "2     555\n",
            "3     116\n",
            "4      20\n",
            "Name: card, dtype: int64\n"
          ],
          "name": "stdout"
        },
        {
          "output_type": "execute_result",
          "data": {
            "text/html": [
              "<div>\n",
              "<style scoped>\n",
              "    .dataframe tbody tr th:only-of-type {\n",
              "        vertical-align: middle;\n",
              "    }\n",
              "\n",
              "    .dataframe tbody tr th {\n",
              "        vertical-align: top;\n",
              "    }\n",
              "\n",
              "    .dataframe thead th {\n",
              "        text-align: right;\n",
              "    }\n",
              "</style>\n",
              "<table border=\"1\" class=\"dataframe\">\n",
              "  <thead>\n",
              "    <tr style=\"text-align: right;\">\n",
              "      <th>churn</th>\n",
              "      <th>0</th>\n",
              "      <th>1</th>\n",
              "    </tr>\n",
              "    <tr>\n",
              "      <th>row_0</th>\n",
              "      <th></th>\n",
              "      <th></th>\n",
              "    </tr>\n",
              "  </thead>\n",
              "  <tbody>\n",
              "    <tr>\n",
              "      <th>0</th>\n",
              "      <td>8466</td>\n",
              "      <td>1565</td>\n",
              "    </tr>\n",
              "    <tr>\n",
              "      <th>1</th>\n",
              "      <td>34</td>\n",
              "      <td>62</td>\n",
              "    </tr>\n",
              "  </tbody>\n",
              "</table>\n",
              "</div>"
            ],
            "text/plain": [
              "churn     0     1\n",
              "row_0            \n",
              "0      8466  1565\n",
              "1        34    62"
            ]
          },
          "metadata": {
            "tags": []
          },
          "execution_count": 405
        }
      ]
    },
    {
      "cell_type": "code",
      "metadata": {
        "colab": {
          "base_uri": "https://localhost:8080/"
        },
        "id": "hcdBrw-vS3hB",
        "outputId": "04e89d40-7360-44a7-c874-770032f5d8a1"
      },
      "source": [
        "100* (1 - (1520  + 110 )/(8390 + 107))"
      ],
      "execution_count": 406,
      "outputs": [
        {
          "output_type": "execute_result",
          "data": {
            "text/plain": [
              "80.81675885606685"
            ]
          },
          "metadata": {
            "tags": []
          },
          "execution_count": 406
        }
      ]
    },
    {
      "cell_type": "markdown",
      "metadata": {
        "id": "9Upkm-G1UWG5"
      },
      "source": [
        "סוג כרטיס לפי הכנסה, גיל\r\n",
        "סוג כרטיס לנשים, כמות בזבוז\r\n",
        "מסגרת אשראי, שימוש גבוה במה זה תלוי"
      ]
    }
  ]
}