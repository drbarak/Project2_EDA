{
  "nbformat": 4,
  "nbformat_minor": 0,
  "metadata": {
    "colab": {
      "name": "Project2_EDA.ipynb",
      "provenance": [],
      "collapsed_sections": [],
      "toc_visible": true,
      "authorship_tag": "ABX9TyO97M5YZ+kArObwmwXsoz5A",
      "include_colab_link": true
    },
    "kernelspec": {
      "display_name": "Python 3",
      "name": "python3"
    }
  },
  "cells": [
    {
      "cell_type": "markdown",
      "metadata": {
        "id": "view-in-github",
        "colab_type": "text"
      },
      "source": [
        "<a href=\"https://colab.research.google.com/github/drbarak/Project2_EDA/blob/main/Project2_EDA.ipynb\" target=\"_parent\"><img src=\"https://colab.research.google.com/assets/colab-badge.svg\" alt=\"Open In Colab\"/></a>"
      ]
    },
    {
      "cell_type": "markdown",
      "metadata": {
        "id": "EDAB2XTfV4bg"
      },
      "source": [
        "# Read CSV\r\n",
        "\r\n",
        "Source of data: https://www.kaggle.com/sakshigoyal7/credit-card-customers\r\n",
        "Explanation of fields in data base: https://leaps.analyttica.com/sample_cases/11"
      ]
    },
    {
      "cell_type": "code",
      "metadata": {
        "id": "DbYV1ImZq95n"
      },
      "source": [
        "import pandas as pd\r\n",
        "import matplotlib.pyplot as plt\r\n",
        "#%matplotlib inline\r\n",
        "import seaborn as sns\r\n",
        "import numpy as np\r\n",
        "from pandas_profiling import ProfileReport\r\n",
        "from IPython.display import display\r\n",
        "p = print\r\n",
        "d = display"
      ],
      "execution_count": null,
      "outputs": []
    },
    {
      "cell_type": "code",
      "metadata": {
        "colab": {
          "resources": {
            "http://localhost:8080/nbextensions/google.colab/files.js": {
              "data": "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",
              "ok": true,
              "headers": [
                [
                  "content-type",
                  "application/javascript"
                ]
              ],
              "status": 200,
              "status_text": ""
            }
          },
          "base_uri": "https://localhost:8080/",
          "height": 242
        },
        "id": "vzGCfWpDqkuR",
        "outputId": "91f2eb35-85cb-41e1-dd19-034490def00c"
      },
      "source": [
        "try:\r\n",
        "  df = pd.read_csv('BankChurners.csv')\r\n",
        "except:\r\n",
        "  from google.colab import files\r\n",
        "  uploaded = files.upload()\r\n",
        "  df = pd.read_csv('BankChurners.csv')\r\n",
        "  \r\n",
        "df.columns"
      ],
      "execution_count": null,
      "outputs": [
        {
          "output_type": "display_data",
          "data": {
            "text/html": [
              "\n",
              "     <input type=\"file\" id=\"files-49cb43d4-c75b-476b-91d5-c596044d6817\" name=\"files[]\" multiple disabled\n",
              "        style=\"border:none\" />\n",
              "     <output id=\"result-49cb43d4-c75b-476b-91d5-c596044d6817\">\n",
              "      Upload widget is only available when the cell has been executed in the\n",
              "      current browser session. Please rerun this cell to enable.\n",
              "      </output>\n",
              "      <script src=\"/nbextensions/google.colab/files.js\"></script> "
            ],
            "text/plain": [
              "<IPython.core.display.HTML object>"
            ]
          },
          "metadata": {
            "tags": []
          }
        },
        {
          "output_type": "stream",
          "text": [
            "Saving BankChurners.csv to BankChurners.csv\n"
          ],
          "name": "stdout"
        },
        {
          "output_type": "execute_result",
          "data": {
            "text/plain": [
              "Index(['CLIENTNUM', 'Attrition_Flag', 'Customer_Age', 'Gender',\n",
              "       'Dependent_count', 'Education_Level', 'Marital_Status',\n",
              "       'Income_Category', 'Card_Category', 'Months_on_book',\n",
              "       'Total_Relationship_Count', 'Months_Inactive_12_mon',\n",
              "       'Contacts_Count_12_mon', 'Credit_Limit', 'Total_Revolving_Bal',\n",
              "       'Avg_Open_To_Buy', 'Total_Amt_Chng_Q4_Q1', 'Total_Trans_Amt',\n",
              "       'Total_Trans_Ct', 'Total_Ct_Chng_Q4_Q1', 'Avg_Utilization_Ratio',\n",
              "       'Naive_Bayes_Classifier_Attrition_Flag_Card_Category_Contacts_Count_12_mon_Dependent_count_Education_Level_Months_Inactive_12_mon_1',\n",
              "       'Naive_Bayes_Classifier_Attrition_Flag_Card_Category_Contacts_Count_12_mon_Dependent_count_Education_Level_Months_Inactive_12_mon_2'],\n",
              "      dtype='object')"
            ]
          },
          "metadata": {
            "tags": []
          },
          "execution_count": 2
        }
      ]
    },
    {
      "cell_type": "markdown",
      "metadata": {
        "id": "B9bW3FhoWc3D"
      },
      "source": [
        "## Drop last 2 columns"
      ]
    },
    {
      "cell_type": "code",
      "metadata": {
        "colab": {
          "base_uri": "https://localhost:8080/"
        },
        "id": "QSElBpWzqrkE",
        "outputId": "42ce5975-65aa-437e-f32d-2888c71b7492"
      },
      "source": [
        "df.drop(df.columns[-2:], axis=1, inplace=True)\r\n",
        "df.columns"
      ],
      "execution_count": null,
      "outputs": [
        {
          "output_type": "execute_result",
          "data": {
            "text/plain": [
              "Index(['CLIENTNUM', 'Attrition_Flag', 'Customer_Age', 'Gender',\n",
              "       'Dependent_count', 'Education_Level', 'Marital_Status',\n",
              "       'Income_Category', 'Card_Category', 'Months_on_book',\n",
              "       'Total_Relationship_Count', 'Months_Inactive_12_mon',\n",
              "       'Contacts_Count_12_mon', 'Credit_Limit', 'Total_Revolving_Bal',\n",
              "       'Avg_Open_To_Buy', 'Total_Amt_Chng_Q4_Q1', 'Total_Trans_Amt',\n",
              "       'Total_Trans_Ct', 'Total_Ct_Chng_Q4_Q1', 'Avg_Utilization_Ratio'],\n",
              "      dtype='object')"
            ]
          },
          "metadata": {
            "tags": []
          },
          "execution_count": 3
        }
      ]
    },
    {
      "cell_type": "code",
      "metadata": {
        "id": "no8tqKI2rRZ0"
      },
      "source": [
        "df.rename(columns={'CLIENTNUM': 'Client_num'}, inplace=True)"
      ],
      "execution_count": null,
      "outputs": []
    },
    {
      "cell_type": "markdown",
      "metadata": {
        "id": "EXl5DhwNWCgt"
      },
      "source": [
        "## change all columns to all lowercase"
      ]
    },
    {
      "cell_type": "code",
      "metadata": {
        "id": "ZB2Sc1jjV-QX"
      },
      "source": [
        "df.columns = df.columns.str.lower()"
      ],
      "execution_count": null,
      "outputs": []
    },
    {
      "cell_type": "code",
      "metadata": {
        "colab": {
          "base_uri": "https://localhost:8080/"
        },
        "id": "mFEFqsgirVoB",
        "outputId": "31c77214-2e54-4e9c-cd30-71a68bb6c0bd"
      },
      "source": [
        "df.info()"
      ],
      "execution_count": null,
      "outputs": [
        {
          "output_type": "stream",
          "text": [
            "<class 'pandas.core.frame.DataFrame'>\n",
            "RangeIndex: 10127 entries, 0 to 10126\n",
            "Data columns (total 21 columns):\n",
            " #   Column                    Non-Null Count  Dtype  \n",
            "---  ------                    --------------  -----  \n",
            " 0   client_num                10127 non-null  int64  \n",
            " 1   attrition_flag            10127 non-null  object \n",
            " 2   customer_age              10127 non-null  int64  \n",
            " 3   gender                    10127 non-null  object \n",
            " 4   dependent_count           10127 non-null  int64  \n",
            " 5   education_level           10127 non-null  object \n",
            " 6   marital_status            10127 non-null  object \n",
            " 7   income_category           10127 non-null  object \n",
            " 8   card_category             10127 non-null  object \n",
            " 9   months_on_book            10127 non-null  int64  \n",
            " 10  total_relationship_count  10127 non-null  int64  \n",
            " 11  months_inactive_12_mon    10127 non-null  int64  \n",
            " 12  contacts_count_12_mon     10127 non-null  int64  \n",
            " 13  credit_limit              10127 non-null  float64\n",
            " 14  total_revolving_bal       10127 non-null  int64  \n",
            " 15  avg_open_to_buy           10127 non-null  float64\n",
            " 16  total_amt_chng_q4_q1      10127 non-null  float64\n",
            " 17  total_trans_amt           10127 non-null  int64  \n",
            " 18  total_trans_ct            10127 non-null  int64  \n",
            " 19  total_ct_chng_q4_q1       10127 non-null  float64\n",
            " 20  avg_utilization_ratio     10127 non-null  float64\n",
            "dtypes: float64(5), int64(10), object(6)\n",
            "memory usage: 1.6+ MB\n"
          ],
          "name": "stdout"
        }
      ]
    },
    {
      "cell_type": "code",
      "metadata": {
        "colab": {
          "base_uri": "https://localhost:8080/"
        },
        "id": "K1rZ0lwzqaNy",
        "outputId": "6fbb065f-7f02-435b-8777-df43001e69c0"
      },
      "source": [
        "df.client_num.nunique()"
      ],
      "execution_count": null,
      "outputs": [
        {
          "output_type": "execute_result",
          "data": {
            "text/plain": [
              "10127"
            ]
          },
          "metadata": {
            "tags": []
          },
          "execution_count": 7
        }
      ]
    },
    {
      "cell_type": "markdown",
      "metadata": {
        "id": "cXXgixKiWyX3"
      },
      "source": [
        "## Make client_num index"
      ]
    },
    {
      "cell_type": "code",
      "metadata": {
        "id": "tmaeKaoRsQTV"
      },
      "source": [
        "df.set_index('client_num', inplace=True)"
      ],
      "execution_count": null,
      "outputs": []
    },
    {
      "cell_type": "code",
      "metadata": {
        "colab": {
          "base_uri": "https://localhost:8080/",
          "height": 340
        },
        "id": "hJ9pf-7HsgHb",
        "outputId": "651e2720-afcd-4865-e055-db5a748c3c8f"
      },
      "source": [
        "df.head()"
      ],
      "execution_count": null,
      "outputs": [
        {
          "output_type": "execute_result",
          "data": {
            "text/html": [
              "<div>\n",
              "<style scoped>\n",
              "    .dataframe tbody tr th:only-of-type {\n",
              "        vertical-align: middle;\n",
              "    }\n",
              "\n",
              "    .dataframe tbody tr th {\n",
              "        vertical-align: top;\n",
              "    }\n",
              "\n",
              "    .dataframe thead th {\n",
              "        text-align: right;\n",
              "    }\n",
              "</style>\n",
              "<table border=\"1\" class=\"dataframe\">\n",
              "  <thead>\n",
              "    <tr style=\"text-align: right;\">\n",
              "      <th></th>\n",
              "      <th>attrition_flag</th>\n",
              "      <th>customer_age</th>\n",
              "      <th>gender</th>\n",
              "      <th>dependent_count</th>\n",
              "      <th>education_level</th>\n",
              "      <th>marital_status</th>\n",
              "      <th>income_category</th>\n",
              "      <th>card_category</th>\n",
              "      <th>months_on_book</th>\n",
              "      <th>total_relationship_count</th>\n",
              "      <th>months_inactive_12_mon</th>\n",
              "      <th>contacts_count_12_mon</th>\n",
              "      <th>credit_limit</th>\n",
              "      <th>total_revolving_bal</th>\n",
              "      <th>avg_open_to_buy</th>\n",
              "      <th>total_amt_chng_q4_q1</th>\n",
              "      <th>total_trans_amt</th>\n",
              "      <th>total_trans_ct</th>\n",
              "      <th>total_ct_chng_q4_q1</th>\n",
              "      <th>avg_utilization_ratio</th>\n",
              "    </tr>\n",
              "    <tr>\n",
              "      <th>client_num</th>\n",
              "      <th></th>\n",
              "      <th></th>\n",
              "      <th></th>\n",
              "      <th></th>\n",
              "      <th></th>\n",
              "      <th></th>\n",
              "      <th></th>\n",
              "      <th></th>\n",
              "      <th></th>\n",
              "      <th></th>\n",
              "      <th></th>\n",
              "      <th></th>\n",
              "      <th></th>\n",
              "      <th></th>\n",
              "      <th></th>\n",
              "      <th></th>\n",
              "      <th></th>\n",
              "      <th></th>\n",
              "      <th></th>\n",
              "      <th></th>\n",
              "    </tr>\n",
              "  </thead>\n",
              "  <tbody>\n",
              "    <tr>\n",
              "      <th>768805383</th>\n",
              "      <td>Existing Customer</td>\n",
              "      <td>45</td>\n",
              "      <td>M</td>\n",
              "      <td>3</td>\n",
              "      <td>High School</td>\n",
              "      <td>Married</td>\n",
              "      <td>$60K - $80K</td>\n",
              "      <td>Blue</td>\n",
              "      <td>39</td>\n",
              "      <td>5</td>\n",
              "      <td>1</td>\n",
              "      <td>3</td>\n",
              "      <td>12691.0</td>\n",
              "      <td>777</td>\n",
              "      <td>11914.0</td>\n",
              "      <td>1.335</td>\n",
              "      <td>1144</td>\n",
              "      <td>42</td>\n",
              "      <td>1.625</td>\n",
              "      <td>0.061</td>\n",
              "    </tr>\n",
              "    <tr>\n",
              "      <th>818770008</th>\n",
              "      <td>Existing Customer</td>\n",
              "      <td>49</td>\n",
              "      <td>F</td>\n",
              "      <td>5</td>\n",
              "      <td>Graduate</td>\n",
              "      <td>Single</td>\n",
              "      <td>Less than $40K</td>\n",
              "      <td>Blue</td>\n",
              "      <td>44</td>\n",
              "      <td>6</td>\n",
              "      <td>1</td>\n",
              "      <td>2</td>\n",
              "      <td>8256.0</td>\n",
              "      <td>864</td>\n",
              "      <td>7392.0</td>\n",
              "      <td>1.541</td>\n",
              "      <td>1291</td>\n",
              "      <td>33</td>\n",
              "      <td>3.714</td>\n",
              "      <td>0.105</td>\n",
              "    </tr>\n",
              "    <tr>\n",
              "      <th>713982108</th>\n",
              "      <td>Existing Customer</td>\n",
              "      <td>51</td>\n",
              "      <td>M</td>\n",
              "      <td>3</td>\n",
              "      <td>Graduate</td>\n",
              "      <td>Married</td>\n",
              "      <td>$80K - $120K</td>\n",
              "      <td>Blue</td>\n",
              "      <td>36</td>\n",
              "      <td>4</td>\n",
              "      <td>1</td>\n",
              "      <td>0</td>\n",
              "      <td>3418.0</td>\n",
              "      <td>0</td>\n",
              "      <td>3418.0</td>\n",
              "      <td>2.594</td>\n",
              "      <td>1887</td>\n",
              "      <td>20</td>\n",
              "      <td>2.333</td>\n",
              "      <td>0.000</td>\n",
              "    </tr>\n",
              "    <tr>\n",
              "      <th>769911858</th>\n",
              "      <td>Existing Customer</td>\n",
              "      <td>40</td>\n",
              "      <td>F</td>\n",
              "      <td>4</td>\n",
              "      <td>High School</td>\n",
              "      <td>Unknown</td>\n",
              "      <td>Less than $40K</td>\n",
              "      <td>Blue</td>\n",
              "      <td>34</td>\n",
              "      <td>3</td>\n",
              "      <td>4</td>\n",
              "      <td>1</td>\n",
              "      <td>3313.0</td>\n",
              "      <td>2517</td>\n",
              "      <td>796.0</td>\n",
              "      <td>1.405</td>\n",
              "      <td>1171</td>\n",
              "      <td>20</td>\n",
              "      <td>2.333</td>\n",
              "      <td>0.760</td>\n",
              "    </tr>\n",
              "    <tr>\n",
              "      <th>709106358</th>\n",
              "      <td>Existing Customer</td>\n",
              "      <td>40</td>\n",
              "      <td>M</td>\n",
              "      <td>3</td>\n",
              "      <td>Uneducated</td>\n",
              "      <td>Married</td>\n",
              "      <td>$60K - $80K</td>\n",
              "      <td>Blue</td>\n",
              "      <td>21</td>\n",
              "      <td>5</td>\n",
              "      <td>1</td>\n",
              "      <td>0</td>\n",
              "      <td>4716.0</td>\n",
              "      <td>0</td>\n",
              "      <td>4716.0</td>\n",
              "      <td>2.175</td>\n",
              "      <td>816</td>\n",
              "      <td>28</td>\n",
              "      <td>2.500</td>\n",
              "      <td>0.000</td>\n",
              "    </tr>\n",
              "  </tbody>\n",
              "</table>\n",
              "</div>"
            ],
            "text/plain": [
              "               attrition_flag  ...  avg_utilization_ratio\n",
              "client_num                     ...                       \n",
              "768805383   Existing Customer  ...                  0.061\n",
              "818770008   Existing Customer  ...                  0.105\n",
              "713982108   Existing Customer  ...                  0.000\n",
              "769911858   Existing Customer  ...                  0.760\n",
              "709106358   Existing Customer  ...                  0.000\n",
              "\n",
              "[5 rows x 20 columns]"
            ]
          },
          "metadata": {
            "tags": []
          },
          "execution_count": 9
        }
      ]
    },
    {
      "cell_type": "code",
      "metadata": {
        "colab": {
          "base_uri": "https://localhost:8080/"
        },
        "id": "_nBQIDwvsp9l",
        "outputId": "83b3c457-2406-4ffd-bbe2-a4e4784a643a"
      },
      "source": [
        "df.education_level.value_counts()"
      ],
      "execution_count": null,
      "outputs": [
        {
          "output_type": "execute_result",
          "data": {
            "text/plain": [
              "Graduate         3128\n",
              "High School      2013\n",
              "Unknown          1519\n",
              "Uneducated       1487\n",
              "College          1013\n",
              "Post-Graduate     516\n",
              "Doctorate         451\n",
              "Name: education_level, dtype: int64"
            ]
          },
          "metadata": {
            "tags": []
          },
          "execution_count": 10
        }
      ]
    },
    {
      "cell_type": "markdown",
      "metadata": {
        "id": "e3M2G_iUtDcy"
      },
      "source": [
        "# QUESTION: There are 1519 unknown education and 749 marital_status, 1112 income_category. What do we do with it"
      ]
    },
    {
      "cell_type": "markdown",
      "metadata": {
        "id": "iE1_Sk41XJup"
      },
      "source": [
        "## Value_counts for all fields"
      ]
    },
    {
      "cell_type": "code",
      "metadata": {
        "colab": {
          "base_uri": "https://localhost:8080/"
        },
        "id": "0rZrSfFntHUt",
        "outputId": "c44e2d66-f684-44b1-8fb9-8915b82fe19c"
      },
      "source": [
        "for c in df.columns:\r\n",
        "  p(df[[c]].value_counts())\r\n",
        "  print()"
      ],
      "execution_count": null,
      "outputs": [
        {
          "output_type": "stream",
          "text": [
            "attrition_flag   \n",
            "Existing Customer    8500\n",
            "Attrited Customer    1627\n",
            "dtype: int64\n",
            "\n",
            "customer_age\n",
            "44              500\n",
            "49              495\n",
            "46              490\n",
            "45              486\n",
            "47              479\n",
            "43              473\n",
            "48              472\n",
            "50              452\n",
            "42              426\n",
            "51              398\n",
            "53              387\n",
            "41              379\n",
            "52              376\n",
            "40              361\n",
            "39              333\n",
            "54              307\n",
            "38              303\n",
            "55              279\n",
            "56              262\n",
            "37              260\n",
            "57              223\n",
            "36              221\n",
            "35              184\n",
            "58              157\n",
            "59              157\n",
            "34              146\n",
            "60              127\n",
            "33              127\n",
            "32              106\n",
            "65              101\n",
            "62               93\n",
            "61               93\n",
            "31               91\n",
            "26               78\n",
            "30               70\n",
            "63               65\n",
            "29               56\n",
            "64               43\n",
            "27               32\n",
            "28               29\n",
            "67                4\n",
            "66                2\n",
            "68                2\n",
            "70                1\n",
            "73                1\n",
            "dtype: int64\n",
            "\n",
            "gender\n",
            "F         5358\n",
            "M         4769\n",
            "dtype: int64\n",
            "\n",
            "dependent_count\n",
            "3                  2732\n",
            "2                  2655\n",
            "1                  1838\n",
            "4                  1574\n",
            "0                   904\n",
            "5                   424\n",
            "dtype: int64\n",
            "\n",
            "education_level\n",
            "Graduate           3128\n",
            "High School        2013\n",
            "Unknown            1519\n",
            "Uneducated         1487\n",
            "College            1013\n",
            "Post-Graduate       516\n",
            "Doctorate           451\n",
            "dtype: int64\n",
            "\n",
            "marital_status\n",
            "Married           4687\n",
            "Single            3943\n",
            "Unknown            749\n",
            "Divorced           748\n",
            "dtype: int64\n",
            "\n",
            "income_category\n",
            "Less than $40K     3561\n",
            "$40K - $60K        1790\n",
            "$80K - $120K       1535\n",
            "$60K - $80K        1402\n",
            "Unknown            1112\n",
            "$120K +             727\n",
            "dtype: int64\n",
            "\n",
            "card_category\n",
            "Blue             9436\n",
            "Silver            555\n",
            "Gold              116\n",
            "Platinum           20\n",
            "dtype: int64\n",
            "\n",
            "months_on_book\n",
            "36                2463\n",
            "37                 358\n",
            "34                 353\n",
            "38                 347\n",
            "39                 341\n",
            "40                 333\n",
            "31                 318\n",
            "35                 317\n",
            "33                 305\n",
            "30                 300\n",
            "41                 297\n",
            "32                 289\n",
            "28                 275\n",
            "43                 273\n",
            "42                 271\n",
            "29                 241\n",
            "44                 230\n",
            "45                 227\n",
            "27                 206\n",
            "46                 197\n",
            "26                 186\n",
            "47                 171\n",
            "25                 165\n",
            "48                 162\n",
            "24                 160\n",
            "49                 141\n",
            "23                 116\n",
            "22                 105\n",
            "56                 103\n",
            "50                  96\n",
            "21                  83\n",
            "51                  80\n",
            "53                  78\n",
            "20                  74\n",
            "13                  70\n",
            "19                  63\n",
            "52                  62\n",
            "18                  58\n",
            "54                  53\n",
            "55                  42\n",
            "17                  39\n",
            "15                  34\n",
            "16                  29\n",
            "14                  16\n",
            "dtype: int64\n",
            "\n",
            "total_relationship_count\n",
            "3                           2305\n",
            "4                           1912\n",
            "5                           1891\n",
            "6                           1866\n",
            "2                           1243\n",
            "1                            910\n",
            "dtype: int64\n",
            "\n",
            "months_inactive_12_mon\n",
            "3                         3846\n",
            "2                         3282\n",
            "1                         2233\n",
            "4                          435\n",
            "5                          178\n",
            "6                          124\n",
            "0                           29\n",
            "dtype: int64\n",
            "\n",
            "contacts_count_12_mon\n",
            "3                        3380\n",
            "2                        3227\n",
            "1                        1499\n",
            "4                        1392\n",
            "0                         399\n",
            "5                         176\n",
            "6                          54\n",
            "dtype: int64\n",
            "\n",
            "credit_limit\n",
            "34516.0         508\n",
            "1438.3          507\n",
            "15987.0          18\n",
            "9959.0           18\n",
            "23981.0          12\n",
            "               ... \n",
            "10130.0           1\n",
            "10133.0           1\n",
            "10136.0           1\n",
            "10144.0           1\n",
            "6511.0            1\n",
            "Length: 6205, dtype: int64\n",
            "\n",
            "total_revolving_bal\n",
            "0                      2470\n",
            "2517                    508\n",
            "1965                     12\n",
            "1480                     12\n",
            "1664                     11\n",
            "                       ... \n",
            "1712                      1\n",
            "1756                      1\n",
            "1757                      1\n",
            "1768                      1\n",
            "1447                      1\n",
            "Length: 1974, dtype: int64\n",
            "\n",
            "avg_open_to_buy\n",
            "1438.3             324\n",
            "34516.0             98\n",
            "31999.0             26\n",
            "787.0                8\n",
            "713.0                7\n",
            "                  ... \n",
            "9637.0               1\n",
            "9641.0               1\n",
            "9661.0               1\n",
            "9663.0               1\n",
            "3.0                  1\n",
            "Length: 6813, dtype: int64\n",
            "\n",
            "total_amt_chng_q4_q1\n",
            "0.791                   36\n",
            "0.712                   34\n",
            "0.743                   34\n",
            "0.735                   33\n",
            "0.718                   33\n",
            "                        ..\n",
            "1.458                    1\n",
            "1.456                    1\n",
            "1.449                    1\n",
            "1.441                    1\n",
            "3.397                    1\n",
            "Length: 1158, dtype: int64\n",
            "\n",
            "total_trans_amt\n",
            "4253               11\n",
            "4509               11\n",
            "2229               10\n",
            "4518               10\n",
            "4498                9\n",
            "                   ..\n",
            "5425                1\n",
            "5421                1\n",
            "5418                1\n",
            "5413                1\n",
            "510                 1\n",
            "Length: 5033, dtype: int64\n",
            "\n",
            "total_trans_ct\n",
            "81                208\n",
            "75                203\n",
            "71                203\n",
            "69                202\n",
            "82                202\n",
            "                 ... \n",
            "11                  2\n",
            "138                 1\n",
            "132                 1\n",
            "134                 1\n",
            "139                 1\n",
            "Length: 126, dtype: int64\n",
            "\n",
            "total_ct_chng_q4_q1\n",
            "0.667                  171\n",
            "1.000                  166\n",
            "0.500                  161\n",
            "0.750                  156\n",
            "0.600                  113\n",
            "                      ... \n",
            "1.476                    1\n",
            "1.478                    1\n",
            "0.434                    1\n",
            "1.480                    1\n",
            "3.714                    1\n",
            "Length: 830, dtype: int64\n",
            "\n",
            "avg_utilization_ratio\n",
            "0.000                    2470\n",
            "0.073                      44\n",
            "0.057                      33\n",
            "0.048                      32\n",
            "0.060                      30\n",
            "                         ... \n",
            "0.921                       1\n",
            "0.920                       1\n",
            "0.918                       1\n",
            "0.916                       1\n",
            "0.999                       1\n",
            "Length: 964, dtype: int64\n",
            "\n"
          ],
          "name": "stdout"
        }
      ]
    },
    {
      "cell_type": "markdown",
      "metadata": {
        "id": "WRoO8JulyxC2"
      },
      "source": [
        "# Avg_Utilization_Ratio \r\n",
        "It is the ratio of (credit card spent + money withdrawal)/(Total available limit for credit card spends + Total money withdrawal limit)"
      ]
    },
    {
      "cell_type": "markdown",
      "metadata": {
        "id": "bO8_aUhv8h2p"
      },
      "source": [
        "https://leaps.analyttica.com/sample_cases/11"
      ]
    },
    {
      "cell_type": "markdown",
      "metadata": {
        "id": "pEtlyW3L44Vc"
      },
      "source": [
        "total_Relationship_Count\tNum\tTotal no. of products held by the customer"
      ]
    },
    {
      "cell_type": "markdown",
      "metadata": {
        "id": "kBtIu1Ua6QHt"
      },
      "source": [
        "Total_Revolving_Bal\tNum\tTotal Revolving Balance on the Credit Card"
      ]
    },
    {
      "cell_type": "markdown",
      "metadata": {
        "id": "4r4fSXQI8UQi"
      },
      "source": [
        "Looking at the distribution plot of the Months on book there is a weird concentration in 36 months, does any one know a reason for this?"
      ]
    },
    {
      "cell_type": "markdown",
      "metadata": {
        "id": "CFM-npJy8W9p"
      },
      "source": [
        "# Is there a relation between 0 for total_revolving_balance and attrition or months_on_book"
      ]
    },
    {
      "cell_type": "markdown",
      "metadata": {
        "id": "X9exsKrn9Uqk"
      },
      "source": [
        "Is there a relation between non usage of the card to attrition"
      ]
    },
    {
      "cell_type": "markdown",
      "metadata": {
        "id": "pnb2BBwF-jTR"
      },
      "source": [
        "## Change column Attrition_Flag to 'churn' with 1 for yes and 0 for no (stayed with the card company)"
      ]
    },
    {
      "cell_type": "code",
      "metadata": {
        "colab": {
          "base_uri": "https://localhost:8080/"
        },
        "id": "Gc8hUrS9YChD",
        "outputId": "4d0735a0-2791-4f45-b29e-aa324f09f5b0"
      },
      "source": [
        "df.rename(columns={'attrition_flag': 'churn'}, inplace=True)\r\n",
        "df.columns"
      ],
      "execution_count": null,
      "outputs": [
        {
          "output_type": "execute_result",
          "data": {
            "text/plain": [
              "Index(['churn', 'customer_age', 'gender', 'dependent_count', 'education_level',\n",
              "       'marital_status', 'income_category', 'card_category', 'months_on_book',\n",
              "       'total_relationship_count', 'months_inactive_12_mon',\n",
              "       'contacts_count_12_mon', 'credit_limit', 'total_revolving_bal',\n",
              "       'avg_open_to_buy', 'total_amt_chng_q4_q1', 'total_trans_amt',\n",
              "       'total_trans_ct', 'total_ct_chng_q4_q1', 'avg_utilization_ratio'],\n",
              "      dtype='object')"
            ]
          },
          "metadata": {
            "tags": []
          },
          "execution_count": 12
        }
      ]
    },
    {
      "cell_type": "code",
      "metadata": {
        "colab": {
          "base_uri": "https://localhost:8080/"
        },
        "id": "cYCAoAWbYHxr",
        "outputId": "1827b8c2-681c-4b08-dde6-5da28b66535f"
      },
      "source": [
        "df.churn = df['churn'].apply(lambda x: 0 if x == 'Existing Customer' else 1)\r\n",
        "df.churn.value_counts()"
      ],
      "execution_count": null,
      "outputs": [
        {
          "output_type": "execute_result",
          "data": {
            "text/plain": [
              "0    8500\n",
              "1    1627\n",
              "Name: churn, dtype: int64"
            ]
          },
          "metadata": {
            "tags": []
          },
          "execution_count": 13
        }
      ]
    },
    {
      "cell_type": "markdown",
      "metadata": {
        "id": "3Pt2Cx5f9K1f"
      },
      "source": [
        "## Change column Gender to 'female' with 1 for yes and 0 for no"
      ]
    },
    {
      "cell_type": "code",
      "metadata": {
        "colab": {
          "base_uri": "https://localhost:8080/"
        },
        "id": "PSPCrhS9YR52",
        "outputId": "2a0a3c41-d6af-4d60-b3d7-69dd04b80eb9"
      },
      "source": [
        "df.rename(columns={'gender': 'female'}, inplace=True)\r\n",
        "df.female = df['female'].apply(lambda x: 1 if x == 'F' else 0)\r\n",
        "df.female.value_counts()"
      ],
      "execution_count": null,
      "outputs": [
        {
          "output_type": "execute_result",
          "data": {
            "text/plain": [
              "1    5358\n",
              "0    4769\n",
              "Name: female, dtype: int64"
            ]
          },
          "metadata": {
            "tags": []
          },
          "execution_count": 14
        }
      ]
    },
    {
      "cell_type": "markdown",
      "metadata": {
        "id": "WmXhG_u7YfyA"
      },
      "source": [
        "## Change column customer_age to 'age' "
      ]
    },
    {
      "cell_type": "code",
      "metadata": {
        "colab": {
          "base_uri": "https://localhost:8080/"
        },
        "id": "lZ2g8Ag9YcJh",
        "outputId": "b662abd4-023a-4766-fc87-e694bf8120a2"
      },
      "source": [
        "df.rename(columns={'customer_age': 'age'}, inplace=True)\r\n",
        "df.columns"
      ],
      "execution_count": null,
      "outputs": [
        {
          "output_type": "execute_result",
          "data": {
            "text/plain": [
              "Index(['churn', 'age', 'female', 'dependent_count', 'education_level',\n",
              "       'marital_status', 'income_category', 'card_category', 'months_on_book',\n",
              "       'total_relationship_count', 'months_inactive_12_mon',\n",
              "       'contacts_count_12_mon', 'credit_limit', 'total_revolving_bal',\n",
              "       'avg_open_to_buy', 'total_amt_chng_q4_q1', 'total_trans_amt',\n",
              "       'total_trans_ct', 'total_ct_chng_q4_q1', 'avg_utilization_ratio'],\n",
              "      dtype='object')"
            ]
          },
          "metadata": {
            "tags": []
          },
          "execution_count": 15
        }
      ]
    },
    {
      "cell_type": "markdown",
      "metadata": {
        "id": "K928SEa5YpXO"
      },
      "source": [
        "## Change column education_level to 'education' and numeric as per table below"
      ]
    },
    {
      "cell_type": "code",
      "metadata": {
        "colab": {
          "base_uri": "https://localhost:8080/"
        },
        "id": "ABs8KwYdYsHL",
        "outputId": "68314731-508e-4503-d795-2c2b58d58ef3"
      },
      "source": [
        "eds = ['Unknown', 'Uneducated', 'High School', 'College', 'Graduate', 'Post-Graduate','Doctorate']\r\n",
        "df.rename(columns={'education_level': 'education'}, inplace=True)\r\n",
        "df.education = df['education'].apply(lambda x: eds.index(x))\r\n",
        "df.education.value_counts()"
      ],
      "execution_count": null,
      "outputs": [
        {
          "output_type": "execute_result",
          "data": {
            "text/plain": [
              "4    3128\n",
              "2    2013\n",
              "0    1519\n",
              "1    1487\n",
              "3    1013\n",
              "5     516\n",
              "6     451\n",
              "Name: education, dtype: int64"
            ]
          },
          "metadata": {
            "tags": []
          },
          "execution_count": 16
        }
      ]
    },
    {
      "cell_type": "markdown",
      "metadata": {
        "id": "tVQiq7smY4b2"
      },
      "source": [
        "\r\n",
        "```\r\n",
        "education_level\r\n",
        "Graduate           3128\r\n",
        "High School        2013\r\n",
        "Unknown            1519\r\n",
        "Uneducated         1487\r\n",
        "College            1013\r\n",
        "Post-Graduate       516\r\n",
        "Doctorate           451\r\n",
        "```\r\n",
        "\r\n",
        "\r\n"
      ]
    },
    {
      "cell_type": "markdown",
      "metadata": {
        "id": "5Dam1hflZgkG"
      },
      "source": [
        "## Change column marital_status to numeric as per table below"
      ]
    },
    {
      "cell_type": "markdown",
      "metadata": {
        "id": "xnymrMgxZl63"
      },
      "source": [
        "\r\n",
        "\r\n",
        "```\r\n",
        "marital_status\r\n",
        "Married           4687\r\n",
        "Single            3943\r\n",
        "Unknown            749\r\n",
        "Divorced           748\r\n",
        "\r\n",
        "marital_status\r\n",
        "Married           2\r\n",
        "Single            1\r\n",
        "Unknown            0\r\n",
        "Divorced           3\r\n",
        "```\r\n",
        "\r\n"
      ]
    },
    {
      "cell_type": "code",
      "metadata": {
        "colab": {
          "base_uri": "https://localhost:8080/"
        },
        "id": "Por7b4ObY6t9",
        "outputId": "19586aec-7cd4-4689-dda4-41ef86d63ff0"
      },
      "source": [
        "maritals = ['Unknown', 'Single', 'Married', 'Divorced']\r\n",
        "df.marital_status = df['marital_status'].apply(lambda x: maritals.index(x))\r\n",
        "df.marital_status.value_counts()"
      ],
      "execution_count": null,
      "outputs": [
        {
          "output_type": "execute_result",
          "data": {
            "text/plain": [
              "2    4687\n",
              "1    3943\n",
              "0     749\n",
              "3     748\n",
              "Name: marital_status, dtype: int64"
            ]
          },
          "metadata": {
            "tags": []
          },
          "execution_count": 17
        }
      ]
    },
    {
      "cell_type": "markdown",
      "metadata": {
        "id": "nsuzGZICaIA2"
      },
      "source": [
        "## Change column income_category to numeric as per table below"
      ]
    },
    {
      "cell_type": "markdown",
      "metadata": {
        "id": "Jchv7nDxaNtD"
      },
      "source": [
        "\r\n",
        "\r\n",
        "```\r\n",
        "income_category\r\n",
        "Less than $40K     3561\r\n",
        "$40K - $60K        1790\r\n",
        "$80K - $120K       1535\r\n",
        "$60K - $80K        1402\r\n",
        "Unknown            1112\r\n",
        "$120K +             727\r\n",
        "```\r\n",
        "\r\n"
      ]
    },
    {
      "cell_type": "code",
      "metadata": {
        "colab": {
          "base_uri": "https://localhost:8080/"
        },
        "id": "YoygVPuNaJdV",
        "outputId": "3a895ea2-a2f3-4683-8eff-afebaa09b45f"
      },
      "source": [
        "incs = ['Unknown','Less than $40K', '$40K - $60K', '$80K - $120K', '$60K - $80K', '$120K +']\r\n",
        "df.income_category = df['income_category'].apply(lambda x: incs.index(x))\r\n",
        "df.income_category.value_counts()"
      ],
      "execution_count": null,
      "outputs": [
        {
          "output_type": "execute_result",
          "data": {
            "text/plain": [
              "1    3561\n",
              "2    1790\n",
              "3    1535\n",
              "4    1402\n",
              "0    1112\n",
              "5     727\n",
              "Name: income_category, dtype: int64"
            ]
          },
          "metadata": {
            "tags": []
          },
          "execution_count": 18
        }
      ]
    },
    {
      "cell_type": "markdown",
      "metadata": {
        "id": "MpyLe2v_aUsD"
      },
      "source": [
        "## Change card_category to 'card' with numeric as per table below"
      ]
    },
    {
      "cell_type": "markdown",
      "metadata": {
        "id": "KbhT8SWeaYg3"
      },
      "source": [
        "\r\n",
        "\r\n",
        "```\r\n",
        "card_category\r\n",
        "Blue             9436\r\n",
        "Silver            555\r\n",
        "Gold              116\r\n",
        "Platinum           20\r\n",
        "```\r\n",
        "\r\n"
      ]
    },
    {
      "cell_type": "code",
      "metadata": {
        "colab": {
          "base_uri": "https://localhost:8080/"
        },
        "id": "e0tMYPSfac8c",
        "outputId": "69cc857b-2ffd-4dc3-fd37-ad44e26c5845"
      },
      "source": [
        "cards = ['', 'Blue', 'Silver', 'Gold', 'Platinum']\r\n",
        "df.rename(columns={'card_category': 'card'}, inplace=True)\r\n",
        "df.card = df['card'].apply(lambda x: cards.index(x))\r\n",
        "\r\n",
        "  # can use map\r\n",
        "#d = {'Blue' : 1, 'Silver' : 2, 'Gold': 3, 'Platinum': 4}\r\n",
        "#df.card = df['card'].map(d)\r\n",
        "\r\n",
        "  # or replace\r\n",
        "#df = df.replace({'card': d})\r\n",
        "\r\n",
        "df.card.value_counts()"
      ],
      "execution_count": null,
      "outputs": [
        {
          "output_type": "execute_result",
          "data": {
            "text/plain": [
              "1    9436\n",
              "2     555\n",
              "3     116\n",
              "4      20\n",
              "Name: card, dtype: int64"
            ]
          },
          "metadata": {
            "tags": []
          },
          "execution_count": 19
        }
      ]
    },
    {
      "cell_type": "markdown",
      "metadata": {
        "id": "EpAovaeeajBW"
      },
      "source": [
        "## Verify all fields are numeric"
      ]
    },
    {
      "cell_type": "code",
      "metadata": {
        "colab": {
          "base_uri": "https://localhost:8080/"
        },
        "id": "DGGxPCAQakZ6",
        "outputId": "5c003b61-4f51-419d-95f7-014485de95eb"
      },
      "source": [
        "df.info()"
      ],
      "execution_count": null,
      "outputs": [
        {
          "output_type": "stream",
          "text": [
            "<class 'pandas.core.frame.DataFrame'>\n",
            "Int64Index: 10127 entries, 768805383 to 714337233\n",
            "Data columns (total 20 columns):\n",
            " #   Column                    Non-Null Count  Dtype  \n",
            "---  ------                    --------------  -----  \n",
            " 0   churn                     10127 non-null  int64  \n",
            " 1   age                       10127 non-null  int64  \n",
            " 2   female                    10127 non-null  int64  \n",
            " 3   dependent_count           10127 non-null  int64  \n",
            " 4   education                 10127 non-null  int64  \n",
            " 5   marital_status            10127 non-null  int64  \n",
            " 6   income_category           10127 non-null  int64  \n",
            " 7   card                      10127 non-null  int64  \n",
            " 8   months_on_book            10127 non-null  int64  \n",
            " 9   total_relationship_count  10127 non-null  int64  \n",
            " 10  months_inactive_12_mon    10127 non-null  int64  \n",
            " 11  contacts_count_12_mon     10127 non-null  int64  \n",
            " 12  credit_limit              10127 non-null  float64\n",
            " 13  total_revolving_bal       10127 non-null  int64  \n",
            " 14  avg_open_to_buy           10127 non-null  float64\n",
            " 15  total_amt_chng_q4_q1      10127 non-null  float64\n",
            " 16  total_trans_amt           10127 non-null  int64  \n",
            " 17  total_trans_ct            10127 non-null  int64  \n",
            " 18  total_ct_chng_q4_q1       10127 non-null  float64\n",
            " 19  avg_utilization_ratio     10127 non-null  float64\n",
            "dtypes: float64(5), int64(15)\n",
            "memory usage: 1.6 MB\n"
          ],
          "name": "stdout"
        }
      ]
    },
    {
      "cell_type": "markdown",
      "metadata": {
        "id": "R_5FpFzBUc71"
      },
      "source": [
        "# Plot pair relations of all columns\r\n",
        "\r\n",
        "When we plot all the pairs, each plot is too small - need to limit it to few pairs"
      ]
    },
    {
      "cell_type": "code",
      "metadata": {
        "id": "UVJJZQHSUttC"
      },
      "source": [
        "#sns.pairplot(data=df, kind='kde', vars=['churn','age'])"
      ],
      "execution_count": null,
      "outputs": []
    },
    {
      "cell_type": "code",
      "metadata": {
        "colab": {
          "base_uri": "https://localhost:8080/",
          "height": 279
        },
        "id": "ai849b0da49x",
        "outputId": "c0930770-f3ea-400b-d93f-6f9e9ba9c0f2"
      },
      "source": [
        "sns.countplot(x='churn',hue='education',data=df)\r\n",
        "plt.show()"
      ],
      "execution_count": null,
      "outputs": [
        {
          "output_type": "display_data",
          "data": {
            "image/png": "[encoded data removed]",
            "text/plain": [
              "<Figure size 432x288 with 1 Axes>"
            ]
          },
          "metadata": {
            "tags": [],
            "needs_background": "light"
          }
        }
      ]
    },
    {
      "cell_type": "code",
      "metadata": {
        "colab": {
          "base_uri": "https://localhost:8080/",
          "height": 729
        },
        "id": "sxzeKDK9CXyJ",
        "outputId": "1261db8f-51e2-4fea-c9d4-a6f5a27be6af"
      },
      "source": [
        "fig = plt.figure(figsize=(20, 10), tight_layout=True)\r\n",
        "sns.heatmap(df.corr())\r\n",
        "plt.show()"
      ],
      "execution_count": null,
      "outputs": [
        {
          "output_type": "display_data",
          "data": {
            "image/png": "[encoded data removed]",
            "text/plain": [
              "<Figure size 1440x720 with 2 Axes>"
            ]
          },
          "metadata": {
            "tags": [],
            "needs_background": "light"
          }
        }
      ]
    },
    {
      "cell_type": "markdown",
      "metadata": {
        "id": "fKG1aCS-NK-P"
      },
      "source": [
        "# FUNCTION display_corr()"
      ]
    },
    {
      "cell_type": "code",
      "metadata": {
        "id": "zNZmpJXURd6J"
      },
      "source": [
        "#import mplcursors  - not working in colab"
      ],
      "execution_count": null,
      "outputs": []
    },
    {
      "cell_type": "code",
      "metadata": {
        "id": "Zw8v2WtDaond"
      },
      "source": [
        "n_colors = 256 # Use 256 colors for the diverging color palette\r\n",
        "color_min, color_max = [-1, 1] # Range of values that will be mapped to the palette, i.e. min and max possible correlation\r\n",
        "palette = sns.diverging_palette(20, 220, n=n_colors) # Create the palette\r\n",
        "\r\n",
        "def value_to_color(val):\r\n",
        "    # step 4 - add colors\r\n",
        "\r\n",
        "    val_position = float((val - color_min)) / (color_max - color_min) # position of value in the input range, relative to the length of the input range\r\n",
        "    ind = int(val_position * (n_colors - 1)) # target index in the color palette\r\n",
        "    return palette[ind]\r\n",
        "\r\n",
        "def heatmap(x, y, size, color):\r\n",
        "    # Step 1\r\n",
        "    n = np.sqrt(len(x))\r\n",
        "    fig = plt.figure(figsize=(max(4, n), max(4, n / 2)))\r\n",
        "    #ax = fig.gca()\r\n",
        "\r\n",
        "    plot_grid = plt.GridSpec(1, 15, hspace=0.2, wspace=0.1) # Setup a 1x15 grid\r\n",
        "    ax = plt.subplot(plot_grid[:,:-1]) # Use the leftmost 14 columns of the grid for the main plot\r\n",
        "\r\n",
        "    # Mapping from column names to integer coordinates\r\n",
        "    x_labels = [v for v in sorted(x.unique())]\r\n",
        "    y_labels = [v for v in sorted(y.unique())]\r\n",
        "\r\n",
        "    x_to_num = {p[1]:p[0] for p in enumerate(x_labels)} \r\n",
        "    y_to_num = {p[1]:p[0] for p in enumerate(y_labels)} \r\n",
        "    \r\n",
        "    size_scale = 500\r\n",
        "    ax.scatter(\r\n",
        "        x=x.map(x_to_num), # Use mapping for x\r\n",
        "        y=y.map(y_to_num), # Use mapping for y\r\n",
        "        s=size * size_scale, # Vector of square sizes, proportional to size parameter\r\n",
        "        c=color.apply(value_to_color), # Vector of square color values, mapped to color palette\r\n",
        "        marker='s' # Use square as scatterplot marker\r\n",
        "    )\r\n",
        "    \r\n",
        "    # Show column labels on the axes\r\n",
        "    ax.set_xticks([x_to_num[v] for v in x_labels])\r\n",
        "    ax.set_xticklabels(x_labels, rotation=45, horizontalalignment='right')\r\n",
        "    ax.set_yticks([y_to_num[v] for v in y_labels])\r\n",
        "    ax.set_yticklabels(y_labels)\r\n",
        "\r\n",
        "    # Step 2\r\n",
        "    ax.grid(False, 'major')\r\n",
        "    ax.grid(True, 'minor')\r\n",
        "    ax.set_xticks([t + 0.5 for t in ax.get_xticks()], minor=True)\r\n",
        "    ax.set_yticks([t + 0.5 for t in ax.get_yticks()], minor=True)\r\n",
        "\r\n",
        "    # Step 3\r\n",
        "    ax.set_xlim([-0.5, max([v for v in x_to_num.values()]) + 0.5]) \r\n",
        "    ax.set_ylim([-0.5, max([v for v in y_to_num.values()]) + 0.5])\r\n",
        "\r\n",
        "    # Step 5\r\n",
        "    # Add color legend on the right side of the plot\r\n",
        "    ax = plt.subplot(plot_grid[:,-1]) # Use the rightmost column of the plot\r\n",
        "\r\n",
        "    col_x = [0]*len(palette) # Fixed x coordinate for the bars\r\n",
        "    bar_y=np.linspace(color_min, color_max, n_colors) # y coordinates for each of the n_colors bars\r\n",
        "\r\n",
        "    bar_height = bar_y[1] - bar_y[0]\r\n",
        "    ax.barh(\r\n",
        "        y=bar_y,\r\n",
        "        width=[5]*len(palette), # Make bars 5 units wide\r\n",
        "        left=col_x, # Make bars start at 0\r\n",
        "        height=bar_height,\r\n",
        "        color=palette,\r\n",
        "        linewidth=0\r\n",
        "    )\r\n",
        "    ax.set_xlim(1, 2) # Bars are going from 0 to 5, so lets crop the plot somewhere in the middle\r\n",
        "    ax.grid(False) # Hide grid\r\n",
        "    ax.set_facecolor('white') # Make background white\r\n",
        "    ax.set_xticks([]) # Remove horizontal ticks\r\n",
        "    ax.set_yticks(np.linspace(min(bar_y), max(bar_y), 3)) # Show vertical ticks for min, middle and max\r\n",
        "    ax.yaxis.tick_right() # Show vertical ticks on the right \r\n",
        "\r\n",
        "    #mplcursors.cursor().connect(\"add\", lambda sel: sel.annotation.set_text(color[sel.target.index]))\r\n",
        "    plt.show()"
      ],
      "execution_count": null,
      "outputs": []
    },
    {
      "cell_type": "code",
      "metadata": {
        "id": "GO-4kjj_TJf4"
      },
      "source": [
        "clear_opts = ['diagonal', 'upperleft', 'lowerleft', 'upperleftdiagonal', 'lowerleftdiagonal',\r\n",
        "                'upperright', 'lowerright', 'upperrightdiagonal', 'lowerrightdiagonal',\r\n",
        "                'diagonalleft','diagonalright']\r\n",
        "def clear_corr(df, clear, display_table=True):\r\n",
        "  clear_opt = 0\r\n",
        "  if clear and clear.lower() in clear_opts:\r\n",
        "    clear_opt = clear_opts.index(clear.lower()) + 1\r\n",
        "\r\n",
        "  #corr = df[df.columns].corr()  # n columns makes n * n correlations values\r\n",
        "  corr = df.corr()\r\n",
        "  if clear_opt:\r\n",
        "    corr = corr[sorted(df.columns, reverse=True)]\r\n",
        "    corr = corr.loc[sorted(df.columns, reverse=False)]\r\n",
        "    n = len(corr.columns)\r\n",
        "    diag = 0 if clear_opt in [1,4,3,8,9,10,11] else 1\r\n",
        "    for i in range(n):\r\n",
        "      if clear_opt in [10]:    # diagonalleft\r\n",
        "        corr.iloc[i, i + diag] = 0\r\n",
        "      elif clear_opt in [6,8]:  # upperright, upperrightdiagonal \r\n",
        "        corr.iloc[i, i + diag:n] = 0\r\n",
        "      elif clear_opt in [3,5]:  # lowerleft, lowerleftdiagonal\r\n",
        "        corr.iloc[i, 0:i + diag] = 0\r\n",
        "      elif clear_opt in [2,4]:  # upperleft, upperleftdiagonal\r\n",
        "        corr.iloc[i, 0: n - i - diag] = 0\r\n",
        "      elif clear_opt in [1, 11]:  # diagonal, diagonalright\r\n",
        "        corr.iloc[i, n - i - 1] = 0\r\n",
        "      elif clear_opt in [7,9]:  # lowerright, lowerrightdiagonal\r\n",
        "        corr.iloc[i, n - i + diag - 1: n] = 0\r\n",
        "  if display_table:\r\n",
        "    display(corr.head())\r\n",
        "  return corr"
      ],
      "execution_count": null,
      "outputs": []
    },
    {
      "cell_type": "code",
      "metadata": {
        "id": "jWga6L2GOSzp"
      },
      "source": [
        "def display_corr(df, clear='diagonal', display_table=True):\r\n",
        "  # first remove all non numeric columns\r\n",
        "  s = df.dtypes[df.dtypes != 'int64'][df.dtypes != 'float64'][df.dtypes != 'bool']\r\n",
        "  if len(s) > 0:\r\n",
        "    print('NOTE: the following non-numeric columns where not included in the plot:')\r\n",
        "    print('\\t',list(s.index))\r\n",
        "    print()\r\n",
        "  corr = df\r\n",
        "  for c in s.index:\r\n",
        "    corr = corr.drop(c, axis=1)\r\n",
        "    \r\n",
        "  corr = clear_corr(corr, clear, display_table)\r\n",
        "  corr = pd.melt(corr.reset_index(), id_vars='index') # Unpivot the dataframe, so we can get pair of arrays for x and y\r\n",
        "  corr.columns = ['x', 'y', 'value']\r\n",
        "  corr = corr.round({'value': 6})\r\n",
        "  heatmap(x=corr['x'], y=corr['y'], size=corr['value'].abs(), color=corr.value)"
      ],
      "execution_count": null,
      "outputs": []
    },
    {
      "cell_type": "code",
      "metadata": {
        "colab": {
          "base_uri": "https://localhost:8080/",
          "height": 679
        },
        "id": "NiTOG9qG7VqF",
        "outputId": "fffed7d5-730a-44c1-c1bd-db64212123c8"
      },
      "source": [
        "display_corr(df, clear='LowerRightDiagonal', display_table=False)"
      ],
      "execution_count": null,
      "outputs": [
        {
          "output_type": "display_data",
          "data": {
            "image/png": "[encoded data removed]",
            "text/plain": [
              "<Figure size 1440x720 with 2 Axes>"
            ]
          },
          "metadata": {
            "tags": [],
            "needs_background": "light"
          }
        }
      ]
    },
    {
      "cell_type": "code",
      "metadata": {
        "id": "sCICvsuR2jlj"
      },
      "source": [
        "dfa = pd.read_csv('BankChurners.csv')\r\n",
        "dfa.drop(dfa.columns[-2:], axis=1, inplace=True)\r\n",
        "dfa.rename(columns={'CLIENTNUM': 'Client_num'}, inplace=True)\r\n",
        "dfa.columns = dfa.columns.str.lower()\r\n",
        "dfa.set_index('client_num', inplace=True)\r\n",
        "dfa.rename(columns={'attrition_flag': 'churn'}, inplace=True)\r\n",
        "dfa.churn = dfa['churn'].apply(lambda x: False if x == 'Existing Customer' else True)"
      ],
      "execution_count": null,
      "outputs": []
    },
    {
      "cell_type": "markdown",
      "metadata": {
        "id": "keAkqz73AMrm"
      },
      "source": [
        "# Look at the columns with unknown"
      ]
    },
    {
      "cell_type": "code",
      "metadata": {
        "colab": {
          "base_uri": "https://localhost:8080/",
          "height": 235
        },
        "id": "sljiv9GrAURd",
        "outputId": "edc57968-f8f4-4a9c-ee61-ca51d8eb10e8"
      },
      "source": [
        "df_partial = df[['churn', 'marital_status', 'income_category', 'education']]\r\n",
        "df_partial.head()"
      ],
      "execution_count": null,
      "outputs": [
        {
          "output_type": "execute_result",
          "data": {
            "text/html": [
              "<div>\n",
              "<style scoped>\n",
              "    .dataframe tbody tr th:only-of-type {\n",
              "        vertical-align: middle;\n",
              "    }\n",
              "\n",
              "    .dataframe tbody tr th {\n",
              "        vertical-align: top;\n",
              "    }\n",
              "\n",
              "    .dataframe thead th {\n",
              "        text-align: right;\n",
              "    }\n",
              "</style>\n",
              "<table border=\"1\" class=\"dataframe\">\n",
              "  <thead>\n",
              "    <tr style=\"text-align: right;\">\n",
              "      <th></th>\n",
              "      <th>churn</th>\n",
              "      <th>marital_status</th>\n",
              "      <th>income_category</th>\n",
              "      <th>education</th>\n",
              "    </tr>\n",
              "    <tr>\n",
              "      <th>client_num</th>\n",
              "      <th></th>\n",
              "      <th></th>\n",
              "      <th></th>\n",
              "      <th></th>\n",
              "    </tr>\n",
              "  </thead>\n",
              "  <tbody>\n",
              "    <tr>\n",
              "      <th>768805383</th>\n",
              "      <td>0</td>\n",
              "      <td>2</td>\n",
              "      <td>4</td>\n",
              "      <td>2</td>\n",
              "    </tr>\n",
              "    <tr>\n",
              "      <th>818770008</th>\n",
              "      <td>0</td>\n",
              "      <td>1</td>\n",
              "      <td>1</td>\n",
              "      <td>4</td>\n",
              "    </tr>\n",
              "    <tr>\n",
              "      <th>713982108</th>\n",
              "      <td>0</td>\n",
              "      <td>2</td>\n",
              "      <td>3</td>\n",
              "      <td>4</td>\n",
              "    </tr>\n",
              "    <tr>\n",
              "      <th>769911858</th>\n",
              "      <td>0</td>\n",
              "      <td>0</td>\n",
              "      <td>1</td>\n",
              "      <td>2</td>\n",
              "    </tr>\n",
              "    <tr>\n",
              "      <th>709106358</th>\n",
              "      <td>0</td>\n",
              "      <td>2</td>\n",
              "      <td>4</td>\n",
              "      <td>1</td>\n",
              "    </tr>\n",
              "  </tbody>\n",
              "</table>\n",
              "</div>"
            ],
            "text/plain": [
              "            churn  marital_status  income_category  education\n",
              "client_num                                                   \n",
              "768805383       0               2                4          2\n",
              "818770008       0               1                1          4\n",
              "713982108       0               2                3          4\n",
              "769911858       0               0                1          2\n",
              "709106358       0               2                4          1"
            ]
          },
          "metadata": {
            "tags": []
          },
          "execution_count": 30
        }
      ]
    },
    {
      "cell_type": "markdown",
      "metadata": {
        "id": "6wpsROFKEgSO"
      },
      "source": [
        "## correlation with unknown in the db"
      ]
    },
    {
      "cell_type": "code",
      "metadata": {
        "colab": {
          "base_uri": "https://localhost:8080/",
          "height": 480
        },
        "id": "PUFZMqF3A2uu",
        "outputId": "5d8bfa1f-7973-441e-fac1-bb83923c4c4b"
      },
      "source": [
        "display_corr(df_partial, clear='diagonal')"
      ],
      "execution_count": null,
      "outputs": [
        {
          "output_type": "display_data",
          "data": {
            "text/html": [
              "<div>\n",
              "<style scoped>\n",
              "    .dataframe tbody tr th:only-of-type {\n",
              "        vertical-align: middle;\n",
              "    }\n",
              "\n",
              "    .dataframe tbody tr th {\n",
              "        vertical-align: top;\n",
              "    }\n",
              "\n",
              "    .dataframe thead th {\n",
              "        text-align: right;\n",
              "    }\n",
              "</style>\n",
              "<table border=\"1\" class=\"dataframe\">\n",
              "  <thead>\n",
              "    <tr style=\"text-align: right;\">\n",
              "      <th></th>\n",
              "      <th>marital_status</th>\n",
              "      <th>income_category</th>\n",
              "      <th>education</th>\n",
              "      <th>churn</th>\n",
              "    </tr>\n",
              "  </thead>\n",
              "  <tbody>\n",
              "    <tr>\n",
              "      <th>churn</th>\n",
              "      <td>-0.018597</td>\n",
              "      <td>-0.019514</td>\n",
              "      <td>0.008796</td>\n",
              "      <td>0.000000</td>\n",
              "    </tr>\n",
              "    <tr>\n",
              "      <th>education</th>\n",
              "      <td>0.014875</td>\n",
              "      <td>-0.013326</td>\n",
              "      <td>0.000000</td>\n",
              "      <td>0.008796</td>\n",
              "    </tr>\n",
              "    <tr>\n",
              "      <th>income_category</th>\n",
              "      <td>0.010402</td>\n",
              "      <td>0.000000</td>\n",
              "      <td>-0.013326</td>\n",
              "      <td>-0.019514</td>\n",
              "    </tr>\n",
              "    <tr>\n",
              "      <th>marital_status</th>\n",
              "      <td>0.000000</td>\n",
              "      <td>0.010402</td>\n",
              "      <td>0.014875</td>\n",
              "      <td>-0.018597</td>\n",
              "    </tr>\n",
              "  </tbody>\n",
              "</table>\n",
              "</div>"
            ],
            "text/plain": [
              "                 marital_status  income_category  education     churn\n",
              "churn                 -0.018597        -0.019514   0.008796  0.000000\n",
              "education              0.014875        -0.013326   0.000000  0.008796\n",
              "income_category        0.010402         0.000000  -0.013326 -0.019514\n",
              "marital_status         0.000000         0.010402   0.014875 -0.018597"
            ]
          },
          "metadata": {
            "tags": []
          }
        },
        {
          "output_type": "display_data",
          "data": {
            "image/png": "[encoded data removed]",
            "text/plain": [
              "<Figure size 288x288 with 2 Axes>"
            ]
          },
          "metadata": {
            "tags": [],
            "needs_background": "light"
          }
        }
      ]
    },
    {
      "cell_type": "markdown",
      "metadata": {
        "id": "oID-p8OsEsvf"
      },
      "source": [
        "## Drop the rows with unknown and check correlation again\r\n",
        "\r\n",
        "No change: maybe beuse their value was 0"
      ]
    },
    {
      "cell_type": "code",
      "metadata": {
        "colab": {
          "base_uri": "https://localhost:8080/",
          "height": 514
        },
        "id": "I91xxA8Xa99a",
        "outputId": "18f1f55d-7dab-47e0-969d-578448e1fd36"
      },
      "source": [
        "df_temp = df_partial.copy()\r\n",
        "p(df_temp.shape)\r\n",
        "#p(df_temp.education.value_counts())\r\n",
        "df_temp = df_temp[df_temp.education > 0]\r\n",
        "df_temp = df_temp[df_temp.marital_status > 0]\r\n",
        "df_temp = df_temp[df_temp.income_category > 0]\r\n",
        "p(df_temp.shape)\r\n",
        "display_corr(df_partial)"
      ],
      "execution_count": null,
      "outputs": [
        {
          "output_type": "stream",
          "text": [
            "(10127, 4)\n",
            "(7081, 4)\n"
          ],
          "name": "stdout"
        },
        {
          "output_type": "display_data",
          "data": {
            "text/html": [
              "<div>\n",
              "<style scoped>\n",
              "    .dataframe tbody tr th:only-of-type {\n",
              "        vertical-align: middle;\n",
              "    }\n",
              "\n",
              "    .dataframe tbody tr th {\n",
              "        vertical-align: top;\n",
              "    }\n",
              "\n",
              "    .dataframe thead th {\n",
              "        text-align: right;\n",
              "    }\n",
              "</style>\n",
              "<table border=\"1\" class=\"dataframe\">\n",
              "  <thead>\n",
              "    <tr style=\"text-align: right;\">\n",
              "      <th></th>\n",
              "      <th>marital_status</th>\n",
              "      <th>income_category</th>\n",
              "      <th>education</th>\n",
              "      <th>churn</th>\n",
              "    </tr>\n",
              "  </thead>\n",
              "  <tbody>\n",
              "    <tr>\n",
              "      <th>churn</th>\n",
              "      <td>-0.018597</td>\n",
              "      <td>-0.019514</td>\n",
              "      <td>0.008796</td>\n",
              "      <td>0.000000</td>\n",
              "    </tr>\n",
              "    <tr>\n",
              "      <th>education</th>\n",
              "      <td>0.014875</td>\n",
              "      <td>-0.013326</td>\n",
              "      <td>0.000000</td>\n",
              "      <td>0.008796</td>\n",
              "    </tr>\n",
              "    <tr>\n",
              "      <th>income_category</th>\n",
              "      <td>0.010402</td>\n",
              "      <td>0.000000</td>\n",
              "      <td>-0.013326</td>\n",
              "      <td>-0.019514</td>\n",
              "    </tr>\n",
              "    <tr>\n",
              "      <th>marital_status</th>\n",
              "      <td>0.000000</td>\n",
              "      <td>0.010402</td>\n",
              "      <td>0.014875</td>\n",
              "      <td>-0.018597</td>\n",
              "    </tr>\n",
              "  </tbody>\n",
              "</table>\n",
              "</div>"
            ],
            "text/plain": [
              "                 marital_status  income_category  education     churn\n",
              "churn                 -0.018597        -0.019514   0.008796  0.000000\n",
              "education              0.014875        -0.013326   0.000000  0.008796\n",
              "income_category        0.010402         0.000000  -0.013326 -0.019514\n",
              "marital_status         0.000000         0.010402   0.014875 -0.018597"
            ]
          },
          "metadata": {
            "tags": []
          }
        },
        {
          "output_type": "display_data",
          "data": {
            "image/png": "[encoded data removed]",
            "text/plain": [
              "<Figure size 288x288 with 2 Axes>"
            ]
          },
          "metadata": {
            "tags": [],
            "needs_background": "light"
          }
        }
      ]
    },
    {
      "cell_type": "markdown",
      "metadata": {
        "id": "bkyBCSvYNZHc"
      },
      "source": [
        "# Profiling - not working in colab - works in Jupyter"
      ]
    },
    {
      "cell_type": "code",
      "metadata": {
        "id": "FVlhfBE0NXrG"
      },
      "source": [
        "from pandas_profiling import ProfileReport\r\n",
        "#profile = ProfileReport(df)"
      ],
      "execution_count": null,
      "outputs": []
    },
    {
      "cell_type": "code",
      "metadata": {
        "colab": {
          "base_uri": "https://localhost:8080/"
        },
        "id": "LMNlJSIjBM5p",
        "outputId": "693cbbde-d0d7-4098-bc25-8f8bd6f92478"
      },
      "source": [
        "df[df.months_on_book == 36].count()"
      ],
      "execution_count": null,
      "outputs": [
        {
          "output_type": "execute_result",
          "data": {
            "text/plain": [
              "churn                       2463\n",
              "age                         2463\n",
              "female                      2463\n",
              "dependent_count             2463\n",
              "education                   2463\n",
              "marital_status              2463\n",
              "income_category             2463\n",
              "card                        2463\n",
              "months_on_book              2463\n",
              "total_relationship_count    2463\n",
              "months_inactive_12_mon      2463\n",
              "contacts_count_12_mon       2463\n",
              "credit_limit                2463\n",
              "total_revolving_bal         2463\n",
              "avg_open_to_buy             2463\n",
              "total_amt_chng_q4_q1        2463\n",
              "total_trans_amt             2463\n",
              "total_trans_ct              2463\n",
              "total_ct_chng_q4_q1         2463\n",
              "avg_utilization_ratio       2463\n",
              "dtype: int64"
            ]
          },
          "metadata": {
            "tags": []
          },
          "execution_count": 34
        }
      ]
    },
    {
      "cell_type": "markdown",
      "metadata": {
        "id": "q18hnMP9MZIz"
      },
      "source": [
        "## To display the profile report we need first to upload it"
      ]
    },
    {
      "cell_type": "code",
      "metadata": {
        "colab": {
          "base_uri": "https://localhost:8080/",
          "height": 52
        },
        "id": "lUm55xQpKvHg",
        "outputId": "da047dee-0d96-4261-c1bc-41d1d977510c"
      },
      "source": [
        "'''\r\n",
        "import IPython\r\n",
        "try:\r\n",
        "  display(IPython.display.HTML('credit_card_profile.html'))\r\n",
        "except:\r\n",
        "  from google.colab import files\r\n",
        "  uploaded = files.upload()\r\n",
        "  display(IPython.display.HTML('credit_card_profile.html'))\r\n",
        "'''  "
      ],
      "execution_count": null,
      "outputs": [
        {
          "output_type": "execute_result",
          "data": {
            "application/vnd.google.colaboratory.intrinsic+json": {
              "type": "string"
            },
            "text/plain": [
              "\"\\nimport IPython\\ntry:\\n  display(IPython.display.HTML('credit_card_profile.html'))\\nexcept:\\n  from google.colab import files\\n  uploaded = files.upload()\\n  display(IPython.display.HTML('credit_card_profile.html'))\\n\""
            ]
          },
          "metadata": {
            "tags": []
          },
          "execution_count": 35
        }
      ]
    },
    {
      "cell_type": "markdown",
      "metadata": {
        "id": "Sf8Y3ldEOrra"
      },
      "source": [
        "## From the profile report we see some outliers:\r\n",
        "\r\n",
        "1. a lot of clients at the age around 50\r\n",
        "2. pick of people with 36 months_on_book - maybe that when the carsd expires. We need to check if most that left are at 36 months\r\n",
        "3. Most people did not use the cards - total_revolving = 0. Check if they left the card\r\n",
        "4. Pick at 2500$ for total_revolving\r\n"
      ]
    },
    {
      "cell_type": "markdown",
      "metadata": {
        "id": "lOfRBcCmeMup"
      },
      "source": [
        "# Let's look at the correlation of churn with the other columns and pick thouse with meanningfull correlation (above 0.2 maybe?)"
      ]
    },
    {
      "cell_type": "code",
      "metadata": {
        "colab": {
          "base_uri": "https://localhost:8080/"
        },
        "id": "2VnwVX7Bef3y",
        "outputId": "63de107b-815d-49d8-ac7f-7a5717738999"
      },
      "source": [
        "corr = df.corr()  # n columns makes n * n correlations values\r\n",
        "p(type(corr))\r\n",
        "p()\r\n",
        "p(abs(corr.churn).sort_values(ascending=False))\r\n",
        "p()\r\n",
        "corr.churn[abs(corr.churn) > 0.2]"
      ],
      "execution_count": null,
      "outputs": [
        {
          "output_type": "stream",
          "text": [
            "<class 'pandas.core.frame.DataFrame'>\n",
            "\n",
            "churn                       1.000000\n",
            "total_trans_ct              0.371403\n",
            "total_ct_chng_q4_q1         0.290054\n",
            "total_revolving_bal         0.263053\n",
            "contacts_count_12_mon       0.204491\n",
            "avg_utilization_ratio       0.178410\n",
            "total_trans_amt             0.168598\n",
            "months_inactive_12_mon      0.152449\n",
            "total_relationship_count    0.150005\n",
            "total_amt_chng_q4_q1        0.131063\n",
            "female                      0.037272\n",
            "credit_limit                0.023873\n",
            "income_category             0.019514\n",
            "dependent_count             0.018991\n",
            "marital_status              0.018597\n",
            "age                         0.018203\n",
            "months_on_book              0.013687\n",
            "education                   0.008796\n",
            "card                        0.002354\n",
            "avg_open_to_buy             0.000285\n",
            "Name: churn, dtype: float64\n",
            "\n"
          ],
          "name": "stdout"
        },
        {
          "output_type": "execute_result",
          "data": {
            "text/plain": [
              "churn                    1.000000\n",
              "contacts_count_12_mon    0.204491\n",
              "total_revolving_bal     -0.263053\n",
              "total_trans_ct          -0.371403\n",
              "total_ct_chng_q4_q1     -0.290054\n",
              "Name: churn, dtype: float64"
            ]
          },
          "metadata": {
            "tags": []
          },
          "execution_count": 36
        }
      ]
    },
    {
      "cell_type": "markdown",
      "metadata": {
        "id": "hDOt7H_1X6f6"
      },
      "source": [
        "## check contacts_count_12_mon"
      ]
    },
    {
      "cell_type": "markdown",
      "metadata": {
        "id": "Zweg74D2rFe3"
      },
      "source": [
        "### CONCLUSION 1: Anybody that contacted 6 times in the last 12 months -> left"
      ]
    },
    {
      "cell_type": "code",
      "metadata": {
        "colab": {
          "base_uri": "https://localhost:8080/",
          "height": 620
        },
        "id": "FamG1WC-RVTg",
        "outputId": "fea68b37-ace8-4940-e8b8-61d2b0a3f7bf"
      },
      "source": [
        "df_plot = df.groupby(['contacts_count_12_mon', 'churn']).size().reset_index()\r\n",
        "df_plot = df_plot.pivot(index='contacts_count_12_mon', columns='churn', values=0)\r\n",
        "df_plot.fillna(0, inplace=True)\r\n",
        "#d(df_plot)\r\n",
        "fig = plt.figure(figsize=(20, 10))\r\n",
        "ax = fig.gca()\r\n",
        "#p(len(df.churn.value_counts().index))\r\n",
        "df_plot.plot(kind='bar', stacked=True, ax=ax, fontsize=16, rot=0, color='cy')\r\n",
        "plt.title('contacts_count_12_mon', fontsize=25)\r\n",
        "plt.xlabel('')\r\n",
        "plt.ylabel('Count', fontsize = 15)\r\n",
        "plt.legend(title=\"churn\", fontsize=15, title_fontsize=20)\r\n",
        "for x in range(len(df_plot.index)):\r\n",
        "  for y in range(len(df.churn.value_counts().index)):\r\n",
        "    label = round(df_plot.iloc[x, y])\r\n",
        "    if label == 0:\r\n",
        "      continue\r\n",
        "    if y == 1:  # top bar\r\n",
        "      y = label/2 + max(df_plot.iloc[x, 0], 100)\r\n",
        "      if x == 0: y += 50\r\n",
        "      elif x == 1: y += 100\r\n",
        "      elif x == 2: y -= 50\r\n",
        "      elif x == 4: y -= 100\r\n",
        "      elif x == 5: y += 200\r\n",
        "    elif x > 0:\r\n",
        "      y = label/2\r\n",
        "    else:\r\n",
        "      y = 100\r\n",
        "    percent = round(label * 100 / (df_plot.iloc[x, 0]+ df_plot.iloc[x, 1]))\r\n",
        "    labels = f'{label}\\n{percent}%'\r\n",
        "    plt.annotate(labels, # this is the text\r\n",
        "                 (x,y), # this is the point to label\r\n",
        "                 textcoords=\"offset points\", # how to position the text\r\n",
        "                 xytext=(0,0), # distance from text to points (x,y)\r\n",
        "                 #arrowprops=dict(facecolor='black', shrink=0.05),\r\n",
        "                 fontsize=15,\r\n",
        "                 ha='center') # horizontal alignment can be left, right or center\r\n",
        "\r\n",
        "plt.show()"
      ],
      "execution_count": null,
      "outputs": [
        {
          "output_type": "display_data",
          "data": {
            "image/png": "[encoded data removed]",
            "text/plain": [
              "<Figure size 1440x720 with 1 Axes>"
            ]
          },
          "metadata": {
            "tags": [],
            "needs_background": "light"
          }
        }
      ]
    },
    {
      "cell_type": "code",
      "metadata": {
        "colab": {
          "base_uri": "https://localhost:8080/",
          "height": 386
        },
        "id": "Q3StKt1lQx6r",
        "outputId": "f673d071-e7f5-42b8-8183-9a011dfdd0aa"
      },
      "source": [
        "sns.displot(df, hue='churn', x='contacts_count_12_mon', multiple='stack', hue_order=[1,0], height=5, aspect=1.5)"
      ],
      "execution_count": null,
      "outputs": [
        {
          "output_type": "execute_result",
          "data": {
            "text/plain": [
              "<seaborn.axisgrid.FacetGrid at 0x7fd95ace4048>"
            ]
          },
          "metadata": {
            "tags": []
          },
          "execution_count": 38
        },
        {
          "output_type": "display_data",
          "data": {
            "image/png": "[encoded data removed]",
            "text/plain": [
              "<Figure size 582.375x360 with 1 Axes>"
            ]
          },
          "metadata": {
            "tags": [],
            "needs_background": "light"
          }
        }
      ]
    },
    {
      "cell_type": "code",
      "metadata": {
        "colab": {
          "base_uri": "https://localhost:8080/",
          "height": 279
        },
        "id": "8Z7u7Yu6pihI",
        "outputId": "86eeeccb-04e7-4c59-f585-2a5d8af71d3c"
      },
      "source": [
        "sns.countplot(x='churn',hue='contacts_count_12_mon',data=df)\r\n",
        "plt.show()"
      ],
      "execution_count": null,
      "outputs": [
        {
          "output_type": "display_data",
          "data": {
            "image/png": "[encoded data removed]",
            "text/plain": [
              "<Figure size 432x288 with 1 Axes>"
            ]
          },
          "metadata": {
            "tags": [],
            "needs_background": "light"
          }
        }
      ]
    },
    {
      "cell_type": "markdown",
      "metadata": {
        "id": "App5fsz48jN4"
      },
      "source": [
        "## Is there a difference between male and female\r\n",
        "\r\n",
        "check contacts_count_12_mon by gender"
      ]
    },
    {
      "cell_type": "code",
      "metadata": {
        "id": "OmjcYu1oAjHU"
      },
      "source": [
        "df_plot = df.groupby(['contacts_count_12_mon', 'female', 'churn']).size().reset_index()\r\n",
        "#d(df_plot)\r\n",
        "df_plot = df_plot.pivot(index=['contacts_count_12_mon'], columns=['female', 'churn'], values=0)\r\n",
        "df_plot.fillna(0, inplace=True)\r\n",
        "#d(df_plot)\r\n",
        "#df_plot[(0, )]"
      ],
      "execution_count": null,
      "outputs": []
    },
    {
      "cell_type": "code",
      "metadata": {
        "id": "yhSQ9Y9YDfRs"
      },
      "source": [
        "def add_labels(df_plot, ax, percent=True, position=0):\r\n",
        "  for x in range(len(df_plot.index)):\r\n",
        "    for y in range(len(df.churn.value_counts().index)):\r\n",
        "      label = round(df_plot.iloc[x, y])\r\n",
        "      if label == 0:\r\n",
        "        continue\r\n",
        "      if y == 1:  # top bar\r\n",
        "        y = label/2 + max(df_plot.iloc[x, 0], 100)\r\n",
        "        if x == 0: y += 50\r\n",
        "        elif x == 1: y += 100\r\n",
        "        elif x == 2: y -= 50\r\n",
        "        elif x == 4: y -= 50\r\n",
        "        elif x == 5: y += 100\r\n",
        "      elif x > 0:\r\n",
        "        y = label/2\r\n",
        "      else:\r\n",
        "        y = 100\r\n",
        "      if percent:\r\n",
        "        percent = round(label * 100 / (df_plot.iloc[x, 0]+ df_plot.iloc[x, 1]))\r\n",
        "        labels = f'{label}\\n{percent}%'\r\n",
        "      else:\r\n",
        "        labels = label\r\n",
        "      ax.annotate(labels, # this is the text\r\n",
        "                  (x + position,y), # this is the point to label\r\n",
        "                  textcoords=\"offset points\", # how to position the text\r\n",
        "                  xytext=(0,0), # distance from text to points (x,y)\r\n",
        "                  #arrowprops=dict(facecolor='black', shrink=0.05),\r\n",
        "                  fontsize=15,\r\n",
        "                  ha='center') # horizontal alignment can be left, right or center"
      ],
      "execution_count": null,
      "outputs": []
    },
    {
      "cell_type": "code",
      "metadata": {
        "id": "IbjONwY1GpvW"
      },
      "source": [
        "df_plot = df.groupby(['contacts_count_12_mon', 'female', 'churn']).size().reset_index()\r\n",
        "df_plot = df_plot.pivot(index=['contacts_count_12_mon'], columns=['female', 'churn'], values=0)\r\n",
        "df_plot.fillna(0, inplace=True)\r\n",
        "df_plot_f = df_plot[(1,)]\r\n",
        "df_plot_m = df_plot[(0,)]"
      ],
      "execution_count": null,
      "outputs": []
    },
    {
      "cell_type": "code",
      "metadata": {
        "colab": {
          "base_uri": "https://localhost:8080/",
          "height": 621
        },
        "id": "vQu2fTCM80RC",
        "outputId": "61d0f331-df56-45a9-f9c5-27d3fbcc5446"
      },
      "source": [
        "fig = plt.figure(figsize=(20, 10))\r\n",
        "ax = fig.gca()\r\n",
        "ax2 = ax.twinx()  # so can have a 2nd legends\r\n",
        "df_plot_f.plot(kind='bar', stacked=True, ax=ax, fontsize=16, rot=0, color='my', width=0.4, position=0)\r\n",
        "ax.legend(title=\"Female churn\", fontsize=15, title_fontsize=20, loc=2)\r\n",
        "add_labels(df_plot_f, ax, percent=True, position=0.2)\r\n",
        "\r\n",
        "ax2.set_ylim(ax.get_ylim())  # have same y scale\r\n",
        "ax2.set_yticks([]) \r\n",
        "ax2.set_yticklabels('') \r\n",
        "df_plot_m.plot(kind='bar', stacked=True, ax=ax2, fontsize=16, rot=0, color='cr', width=0.3, position=1)\r\n",
        "ax2.legend(title=\"Male churn\", fontsize=15, title_fontsize=20)\r\n",
        "add_labels(df_plot_m, ax2, percent=True, position=-0.15)\r\n",
        "\r\n",
        "plt.title('contacts_count_12_mon by Gender', fontsize=25)\r\n",
        "ax.set_xlabel('')\r\n",
        "ax.set_ylabel('Count', fontsize = 15)\r\n",
        "\r\n",
        "plt.show()"
      ],
      "execution_count": null,
      "outputs": [
        {
          "output_type": "display_data",
          "data": {
            "image/png": "[encoded data removed]",
            "text/plain": [
              "<Figure size 1440x720 with 2 Axes>"
            ]
          },
          "metadata": {
            "tags": [],
            "needs_background": "light"
          }
        }
      ]
    },
    {
      "cell_type": "markdown",
      "metadata": {
        "id": "bTiVNmRmvplY"
      },
      "source": [
        "## CONCLUSION 1A: Female tends to churn more than male (percent wise and also in absolute numbers (except at 4 contacts)\r\n"
      ]
    },
    {
      "cell_type": "markdown",
      "metadata": {
        "id": "QAxjOqCZ_RBo"
      },
      "source": [
        "## check total_revolving_baland "
      ]
    },
    {
      "cell_type": "markdown",
      "metadata": {
        "id": "udeaUAAJzMrX"
      },
      "source": [
        "### make bins from total_revolving_baland then plot the countplot"
      ]
    },
    {
      "cell_type": "code",
      "metadata": {
        "colab": {
          "base_uri": "https://localhost:8080/",
          "height": 265
        },
        "id": "xgrfXqrTqXvg",
        "outputId": "1cc914f6-7a57-4163-b9ce-b6a1917a934f"
      },
      "source": [
        "# make bins from the columns, each one 250$ \r\n",
        "# we see the needed bins from the historam\r\n",
        "df['total_revolving_bal'].plot(kind='hist')\r\n",
        "plt.show()"
      ],
      "execution_count": null,
      "outputs": [
        {
          "output_type": "display_data",
          "data": {
            "image/png": "[encoded data removed]",
            "text/plain": [
              "<Figure size 432x288 with 1 Axes>"
            ]
          },
          "metadata": {
            "tags": [],
            "needs_background": "light"
          }
        }
      ]
    },
    {
      "cell_type": "markdown",
      "metadata": {
        "id": "Qy__XZbKkN7w"
      },
      "source": [
        "# FUNCTION makebins()"
      ]
    },
    {
      "cell_type": "code",
      "metadata": {
        "id": "9xV1G4VZkIVd"
      },
      "source": [
        "def makebins(col, interval, start=0):\r\n",
        "  max_ = col.max()\r\n",
        "  nbins = int(max_/interval) + 1 \r\n",
        "  max250 = (nbins)*interval\r\n",
        "  bins = np.linspace(start, max250, nbins + 1)\r\n",
        "  #p(bins)\r\n",
        "  return bins"
      ],
      "execution_count": null,
      "outputs": []
    },
    {
      "cell_type": "code",
      "metadata": {
        "colab": {
          "base_uri": "https://localhost:8080/"
        },
        "id": "8H7CP8jMz9mX",
        "outputId": "4df5f87c-844d-41ba-9e7b-97e228dd257d"
      },
      "source": [
        "bins = makebins(df['total_revolving_bal'], 250)\r\n",
        "df['binned'] = pd.cut(df['total_revolving_bal'], bins, include_lowest=True)\r\n",
        "p(df['binned'])\r\n",
        "df.total_revolving_bal.head()"
      ],
      "execution_count": null,
      "outputs": [
        {
          "output_type": "stream",
          "text": [
            "client_num\n",
            "768805383     (750.0, 1000.0]\n",
            "818770008     (750.0, 1000.0]\n",
            "713982108     (-0.001, 250.0]\n",
            "769911858    (2500.0, 2750.0]\n",
            "709106358     (-0.001, 250.0]\n",
            "                   ...       \n",
            "772366833    (1750.0, 2000.0]\n",
            "710638233    (2000.0, 2250.0]\n",
            "716506083     (-0.001, 250.0]\n",
            "717406983     (-0.001, 250.0]\n",
            "714337233    (1750.0, 2000.0]\n",
            "Name: binned, Length: 10127, dtype: category\n",
            "Categories (11, interval[float64]): [(-0.001, 250.0] < (250.0, 500.0] < (500.0, 750.0] <\n",
            "                                     (750.0, 1000.0] ... (1750.0, 2000.0] < (2000.0, 2250.0] <\n",
            "                                     (2250.0, 2500.0] < (2500.0, 2750.0]]\n"
          ],
          "name": "stdout"
        },
        {
          "output_type": "execute_result",
          "data": {
            "text/plain": [
              "client_num\n",
              "768805383     777\n",
              "818770008     864\n",
              "713982108       0\n",
              "769911858    2517\n",
              "709106358       0\n",
              "Name: total_revolving_bal, dtype: int64"
            ]
          },
          "metadata": {
            "tags": []
          },
          "execution_count": 42
        }
      ]
    },
    {
      "cell_type": "code",
      "metadata": {
        "colab": {
          "base_uri": "https://localhost:8080/",
          "height": 333
        },
        "id": "sbVAjjXyz_pv",
        "outputId": "61ac185c-31fe-4190-f3a7-d71040636afb"
      },
      "source": [
        "sns.countplot('churn',hue='binned',data=df)\r\n",
        "plt.show()"
      ],
      "execution_count": null,
      "outputs": [
        {
          "output_type": "stream",
          "text": [
            "/usr/local/lib/python3.6/dist-packages/seaborn/_decorators.py:43: FutureWarning: Pass the following variable as a keyword arg: x. From version 0.12, the only valid positional argument will be `data`, and passing other arguments without an explicit keyword will result in an error or misinterpretation.\n",
            "  FutureWarning\n"
          ],
          "name": "stderr"
        },
        {
          "output_type": "display_data",
          "data": {
            "image/png": "[encoded data removed]",
            "text/plain": [
              "<Figure size 432x288 with 1 Axes>"
            ]
          },
          "metadata": {
            "tags": [],
            "needs_background": "light"
          }
        }
      ]
    },
    {
      "cell_type": "markdown",
      "metadata": {
        "id": "PpvvRXEI1jnK"
      },
      "source": [
        "### CONCLUSION 2: looks like low usage (< 250) and high usage (> 2500) increases chances to leave"
      ]
    },
    {
      "cell_type": "markdown",
      "metadata": {
        "id": "gy3TRHm02oNL"
      },
      "source": [
        "## check total_trans_ct"
      ]
    },
    {
      "cell_type": "markdown",
      "metadata": {
        "id": "yD0dKbt01ECQ"
      },
      "source": [
        "### make bins from total_trans_ct then plot the countplot"
      ]
    },
    {
      "cell_type": "code",
      "metadata": {
        "colab": {
          "base_uri": "https://localhost:8080/",
          "height": 265
        },
        "id": "OImERn521ECU",
        "outputId": "284754d8-a24f-40e5-ee7a-ee25ea5a2e15"
      },
      "source": [
        "df['total_trans_ct'].plot(kind='hist')\r\n",
        "plt.show()"
      ],
      "execution_count": null,
      "outputs": [
        {
          "output_type": "display_data",
          "data": {
            "image/png": "[encoded data removed]",
            "text/plain": [
              "<Figure size 432x288 with 1 Axes>"
            ]
          },
          "metadata": {
            "tags": [],
            "needs_background": "light"
          }
        }
      ]
    },
    {
      "cell_type": "code",
      "metadata": {
        "colab": {
          "base_uri": "https://localhost:8080/"
        },
        "id": "E7dcfNBC1ECZ",
        "outputId": "ca9bf047-009b-4f2b-9705-901f0e7bf0ec"
      },
      "source": [
        "bins = makebins(df['total_trans_ct'], 10)\r\n",
        "df['binned'] = pd.cut(df['total_trans_ct'], bins, include_lowest=True)\r\n",
        "p(df['binned'])\r\n",
        "df.total_trans_ct.head()"
      ],
      "execution_count": null,
      "outputs": [
        {
          "output_type": "stream",
          "text": [
            "client_num\n",
            "768805383      (40.0, 50.0]\n",
            "818770008      (30.0, 40.0]\n",
            "713982108      (10.0, 20.0]\n",
            "769911858      (10.0, 20.0]\n",
            "709106358      (20.0, 30.0]\n",
            "                  ...      \n",
            "772366833    (110.0, 120.0]\n",
            "710638233      (60.0, 70.0]\n",
            "716506083      (50.0, 60.0]\n",
            "717406983      (60.0, 70.0]\n",
            "714337233      (60.0, 70.0]\n",
            "Name: binned, Length: 10127, dtype: category\n",
            "Categories (14, interval[float64]): [(-0.001, 10.0] < (10.0, 20.0] < (20.0, 30.0] < (30.0, 40.0] < ... <\n",
            "                                     (100.0, 110.0] < (110.0, 120.0] < (120.0, 130.0] <\n",
            "                                     (130.0, 140.0]]\n"
          ],
          "name": "stdout"
        },
        {
          "output_type": "execute_result",
          "data": {
            "text/plain": [
              "client_num\n",
              "768805383    42\n",
              "818770008    33\n",
              "713982108    20\n",
              "769911858    20\n",
              "709106358    28\n",
              "Name: total_trans_ct, dtype: int64"
            ]
          },
          "metadata": {
            "tags": []
          },
          "execution_count": 45
        }
      ]
    },
    {
      "cell_type": "code",
      "metadata": {
        "colab": {
          "base_uri": "https://localhost:8080/",
          "height": 351
        },
        "id": "CrLG8Uy_1ECe",
        "outputId": "fe01969c-968e-41fd-ffcf-99a66ebc8d41"
      },
      "source": [
        "%matplotlib inline\r\n",
        "plt.figure(figsize=(10, 5))\r\n",
        "sns.countplot(x='churn',hue='binned',data=df)"
      ],
      "execution_count": null,
      "outputs": [
        {
          "output_type": "execute_result",
          "data": {
            "text/plain": [
              "<matplotlib.axes._subplots.AxesSubplot at 0x7fd96689fb38>"
            ]
          },
          "metadata": {
            "tags": []
          },
          "execution_count": 46
        },
        {
          "output_type": "display_data",
          "data": {
            "image/png": "[encoded data removed]",
            "text/plain": [
              "<Figure size 720x360 with 1 Axes>"
            ]
          },
          "metadata": {
            "tags": [],
            "needs_background": "light"
          }
        }
      ]
    },
    {
      "cell_type": "code",
      "metadata": {
        "colab": {
          "base_uri": "https://localhost:8080/"
        },
        "id": "lUEPXSTqYUo2",
        "outputId": "5a4b636b-5709-43e9-b398-ac258110616a"
      },
      "source": [
        "df.binned.loc[df.churn == 0].value_counts()"
      ],
      "execution_count": null,
      "outputs": [
        {
          "output_type": "execute_result",
          "data": {
            "text/plain": [
              "(70.0, 80.0]      1809\n",
              "(60.0, 70.0]      1516\n",
              "(80.0, 90.0]      1405\n",
              "(30.0, 40.0]       833\n",
              "(50.0, 60.0]       715\n",
              "(40.0, 50.0]       614\n",
              "(90.0, 100.0]      465\n",
              "(20.0, 30.0]       456\n",
              "(100.0, 110.0]     262\n",
              "(110.0, 120.0]     239\n",
              "(120.0, 130.0]     138\n",
              "(10.0, 20.0]        38\n",
              "(130.0, 140.0]      10\n",
              "(-0.001, 10.0]       0\n",
              "Name: binned, dtype: int64"
            ]
          },
          "metadata": {
            "tags": []
          },
          "execution_count": 47
        }
      ]
    },
    {
      "cell_type": "markdown",
      "metadata": {
        "id": "SvOvyxf9_02p"
      },
      "source": [
        "### CONCLUSION 3: Anybody with total_trans_ct > 100 DID NOT leave"
      ]
    },
    {
      "cell_type": "markdown",
      "metadata": {
        "id": "hk9UyE0DAMdF"
      },
      "source": [
        "## check total_ct_chng_q4_q1 whose correlation with churn is 0.290054\r\n",
        "This column \"represents how much the customer increased their number of transactions when comparing the 4th quarter agains the 1st.\"\r\n"
      ]
    },
    {
      "cell_type": "code",
      "metadata": {
        "colab": {
          "base_uri": "https://localhost:8080/",
          "height": 282
        },
        "id": "fKHTppiB1ECh",
        "outputId": "1cbd25a4-4d6f-40d1-a403-c4a05f3c7c03"
      },
      "source": [
        "df['total_ct_chng_q4_q1'].plot(kind='hist')        "
      ],
      "execution_count": null,
      "outputs": [
        {
          "output_type": "execute_result",
          "data": {
            "text/plain": [
              "<matplotlib.axes._subplots.AxesSubplot at 0x7fd95af1f0f0>"
            ]
          },
          "metadata": {
            "tags": []
          },
          "execution_count": 48
        },
        {
          "output_type": "display_data",
          "data": {
            "image/png": "[encoded data removed]",
            "text/plain": [
              "<Figure size 432x288 with 1 Axes>"
            ]
          },
          "metadata": {
            "tags": [],
            "needs_background": "light"
          }
        }
      ]
    },
    {
      "cell_type": "code",
      "metadata": {
        "colab": {
          "base_uri": "https://localhost:8080/"
        },
        "id": "pKnibocJ1ECj",
        "outputId": "2098baa4-79ff-43be-947f-732208b41e74"
      },
      "source": [
        "bins = makebins(df['total_ct_chng_q4_q1'], 0.4)\r\n",
        "df['binned'] = pd.cut(df['total_ct_chng_q4_q1'], bins, include_lowest=True)\r\n",
        "p(df['binned'].head(), '\\n')\r\n",
        "df.total_ct_chng_q4_q1.head()"
      ],
      "execution_count": null,
      "outputs": [
        {
          "output_type": "stream",
          "text": [
            "client_num\n",
            "768805383    (1.6, 2.0]\n",
            "818770008    (3.6, 4.0]\n",
            "713982108    (2.0, 2.4]\n",
            "769911858    (2.0, 2.4]\n",
            "709106358    (2.4, 2.8]\n",
            "Name: binned, dtype: category\n",
            "Categories (10, interval[float64]): [(-0.001, 0.4] < (0.4, 0.8] < (0.8, 1.2] < (1.2, 1.6] < ... <\n",
            "                                     (2.4, 2.8] < (2.8, 3.2] < (3.2, 3.6] < (3.6, 4.0]] \n",
            "\n"
          ],
          "name": "stdout"
        },
        {
          "output_type": "execute_result",
          "data": {
            "text/plain": [
              "client_num\n",
              "768805383    1.625\n",
              "818770008    3.714\n",
              "713982108    2.333\n",
              "769911858    2.333\n",
              "709106358    2.500\n",
              "Name: total_ct_chng_q4_q1, dtype: float64"
            ]
          },
          "metadata": {
            "tags": []
          },
          "execution_count": 49
        }
      ]
    },
    {
      "cell_type": "code",
      "metadata": {
        "colab": {
          "base_uri": "https://localhost:8080/",
          "height": 334
        },
        "id": "b7C2CDPO1ECm",
        "outputId": "0096fd5f-bb5d-47bf-9447-eaa1933146ee"
      },
      "source": [
        "plt.figure(figsize=(10, 5))\r\n",
        "sns.countplot(x='churn',hue='binned',data=df)\r\n",
        "plt.show()    # no printout of  comments by matplotlib"
      ],
      "execution_count": null,
      "outputs": [
        {
          "output_type": "display_data",
          "data": {
            "image/png": "[encoded data removed]",
            "text/plain": [
              "<Figure size 720x360 with 1 Axes>"
            ]
          },
          "metadata": {
            "tags": [],
            "needs_background": "light"
          }
        }
      ]
    },
    {
      "cell_type": "code",
      "metadata": {
        "colab": {
          "base_uri": "https://localhost:8080/"
        },
        "id": "chn9fWycUuWg",
        "outputId": "2c0f7f1d-7cad-45de-a489-07e4cb2eed17"
      },
      "source": [
        "df.binned.loc[df.churn == 1].value_counts()"
      ],
      "execution_count": null,
      "outputs": [
        {
          "output_type": "execute_result",
          "data": {
            "text/plain": [
              "(0.4, 0.8]       1002\n",
              "(-0.001, 0.4]     415\n",
              "(0.8, 1.2]        198\n",
              "(1.2, 1.6]          9\n",
              "(2.4, 2.8]          1\n",
              "(2.0, 2.4]          1\n",
              "(1.6, 2.0]          1\n",
              "(3.6, 4.0]          0\n",
              "(3.2, 3.6]          0\n",
              "(2.8, 3.2]          0\n",
              "Name: binned, dtype: int64"
            ]
          },
          "metadata": {
            "tags": []
          },
          "execution_count": 51
        }
      ]
    },
    {
      "cell_type": "markdown",
      "metadata": {
        "id": "oD8xWatZW6T3"
      },
      "source": [
        "### CONCLUSION 4: Anybody with total_ct_chng_q4_q1 > 1.6 DID NOT leave"
      ]
    },
    {
      "cell_type": "code",
      "metadata": {
        "id": "WMwXeOIn0ag5"
      },
      "source": [
        ""
      ],
      "execution_count": null,
      "outputs": []
    },
    {
      "cell_type": "markdown",
      "metadata": {
        "id": "MiEeehic0bi7"
      },
      "source": [
        "## check total_amt_chng_q4_q1 whose correlation with churn is ??\r\n",
        "This column \"represents how much the customer increased their amount of transactions when comparing the 4th quarter agains the 1st.\"\r\n"
      ]
    },
    {
      "cell_type": "code",
      "metadata": {
        "colab": {
          "base_uri": "https://localhost:8080/",
          "height": 282
        },
        "id": "W4gR1c1W0bj0",
        "outputId": "88f6b7e3-469b-4e16-f245-ef6b1801efe1"
      },
      "source": [
        "df['total_amt_chng_q4_q1'].plot(kind='hist')        "
      ],
      "execution_count": null,
      "outputs": [
        {
          "output_type": "execute_result",
          "data": {
            "text/plain": [
              "<matplotlib.axes._subplots.AxesSubplot at 0x7fd95cf0d588>"
            ]
          },
          "metadata": {
            "tags": []
          },
          "execution_count": 52
        },
        {
          "output_type": "display_data",
          "data": {
            "image/png": "[encoded data removed]",
            "text/plain": [
              "<Figure size 432x288 with 1 Axes>"
            ]
          },
          "metadata": {
            "tags": [],
            "needs_background": "light"
          }
        }
      ]
    },
    {
      "cell_type": "code",
      "metadata": {
        "colab": {
          "base_uri": "https://localhost:8080/"
        },
        "id": "MXN-k23m0bj3",
        "outputId": "58a189fa-8b94-4760-b7fc-dddabb44e0e7"
      },
      "source": [
        "bins = makebins(df['total_amt_chng_q4_q1'], 0.4)\r\n",
        "df['binned'] = pd.cut(df['total_amt_chng_q4_q1'], bins, include_lowest=True)\r\n",
        "p(df['binned'].head(), '\\n')\r\n",
        "df.total_amt_chng_q4_q1.head()"
      ],
      "execution_count": null,
      "outputs": [
        {
          "output_type": "stream",
          "text": [
            "client_num\n",
            "768805383    (1.2, 1.6]\n",
            "818770008    (1.2, 1.6]\n",
            "713982108    (2.4, 2.8]\n",
            "769911858    (1.2, 1.6]\n",
            "709106358    (2.0, 2.4]\n",
            "Name: binned, dtype: category\n",
            "Categories (9, interval[float64]): [(-0.001, 0.4] < (0.4, 0.8] < (0.8, 1.2] < (1.2, 1.6] < ... <\n",
            "                                    (2.0, 2.4] < (2.4, 2.8] < (2.8, 3.2] < (3.2, 3.6]] \n",
            "\n"
          ],
          "name": "stdout"
        },
        {
          "output_type": "execute_result",
          "data": {
            "text/plain": [
              "client_num\n",
              "768805383    1.335\n",
              "818770008    1.541\n",
              "713982108    2.594\n",
              "769911858    1.405\n",
              "709106358    2.175\n",
              "Name: total_amt_chng_q4_q1, dtype: float64"
            ]
          },
          "metadata": {
            "tags": []
          },
          "execution_count": 53
        }
      ]
    },
    {
      "cell_type": "code",
      "metadata": {
        "colab": {
          "base_uri": "https://localhost:8080/",
          "height": 334
        },
        "id": "50mC3uqK0bj4",
        "outputId": "00babc52-a0e1-4273-bad2-5d32b5364ded"
      },
      "source": [
        "plt.figure(figsize=(10, 5))\r\n",
        "sns.countplot(x='churn',hue='binned',data=df)\r\n",
        "plt.show()    # no printout of  comments by matplotlib"
      ],
      "execution_count": null,
      "outputs": [
        {
          "output_type": "display_data",
          "data": {
            "image/png": "[encoded data removed]",
            "text/plain": [
              "<Figure size 720x360 with 1 Axes>"
            ]
          },
          "metadata": {
            "tags": [],
            "needs_background": "light"
          }
        }
      ]
    },
    {
      "cell_type": "code",
      "metadata": {
        "colab": {
          "base_uri": "https://localhost:8080/"
        },
        "id": "hubUr5cD0bj6",
        "outputId": "1e1f34bd-1936-4a84-84d8-d4a7878c8455"
      },
      "source": [
        "df.binned.loc[df.churn == 1].value_counts()"
      ],
      "execution_count": null,
      "outputs": [
        {
          "output_type": "execute_result",
          "data": {
            "text/plain": [
              "(0.4, 0.8]       944\n",
              "(0.8, 1.2]       534\n",
              "(-0.001, 0.4]    143\n",
              "(1.2, 1.6]         6\n",
              "(3.2, 3.6]         0\n",
              "(2.8, 3.2]         0\n",
              "(2.4, 2.8]         0\n",
              "(2.0, 2.4]         0\n",
              "(1.6, 2.0]         0\n",
              "Name: binned, dtype: int64"
            ]
          },
          "metadata": {
            "tags": []
          },
          "execution_count": 55
        }
      ]
    },
    {
      "cell_type": "markdown",
      "metadata": {
        "id": "hm4iBadt0bj8"
      },
      "source": [
        "### CONCLUSION 5: Anybody with total_amt_chng_q4_q1 > 1.6 DID NOT leave = exactly as for total_ct_chng_q4_q1"
      ]
    },
    {
      "cell_type": "code",
      "metadata": {
        "colab": {
          "base_uri": "https://localhost:8080/",
          "height": 317
        },
        "id": "uE7sUssXNHDZ",
        "outputId": "c738d80c-8c51-4ebd-d68f-d7637a5c85ce"
      },
      "source": [
        "df.describe()"
      ],
      "execution_count": null,
      "outputs": [
        {
          "output_type": "execute_result",
          "data": {
            "text/html": [
              "<div>\n",
              "<style scoped>\n",
              "    .dataframe tbody tr th:only-of-type {\n",
              "        vertical-align: middle;\n",
              "    }\n",
              "\n",
              "    .dataframe tbody tr th {\n",
              "        vertical-align: top;\n",
              "    }\n",
              "\n",
              "    .dataframe thead th {\n",
              "        text-align: right;\n",
              "    }\n",
              "</style>\n",
              "<table border=\"1\" class=\"dataframe\">\n",
              "  <thead>\n",
              "    <tr style=\"text-align: right;\">\n",
              "      <th></th>\n",
              "      <th>churn</th>\n",
              "      <th>age</th>\n",
              "      <th>female</th>\n",
              "      <th>dependent_count</th>\n",
              "      <th>education</th>\n",
              "      <th>marital_status</th>\n",
              "      <th>income_category</th>\n",
              "      <th>card</th>\n",
              "      <th>months_on_book</th>\n",
              "      <th>total_relationship_count</th>\n",
              "      <th>months_inactive_12_mon</th>\n",
              "      <th>contacts_count_12_mon</th>\n",
              "      <th>credit_limit</th>\n",
              "      <th>total_revolving_bal</th>\n",
              "      <th>avg_open_to_buy</th>\n",
              "      <th>total_amt_chng_q4_q1</th>\n",
              "      <th>total_trans_amt</th>\n",
              "      <th>total_trans_ct</th>\n",
              "      <th>total_ct_chng_q4_q1</th>\n",
              "      <th>avg_utilization_ratio</th>\n",
              "    </tr>\n",
              "  </thead>\n",
              "  <tbody>\n",
              "    <tr>\n",
              "      <th>count</th>\n",
              "      <td>10127.000000</td>\n",
              "      <td>10127.000000</td>\n",
              "      <td>10127.000000</td>\n",
              "      <td>10127.000000</td>\n",
              "      <td>10127.000000</td>\n",
              "      <td>10127.000000</td>\n",
              "      <td>10127.000000</td>\n",
              "      <td>10127.000000</td>\n",
              "      <td>10127.000000</td>\n",
              "      <td>10127.000000</td>\n",
              "      <td>10127.000000</td>\n",
              "      <td>10127.000000</td>\n",
              "      <td>10127.000000</td>\n",
              "      <td>10127.000000</td>\n",
              "      <td>10127.000000</td>\n",
              "      <td>10127.000000</td>\n",
              "      <td>10127.000000</td>\n",
              "      <td>10127.000000</td>\n",
              "      <td>10127.000000</td>\n",
              "      <td>10127.000000</td>\n",
              "    </tr>\n",
              "    <tr>\n",
              "      <th>mean</th>\n",
              "      <td>0.160660</td>\n",
              "      <td>46.325960</td>\n",
              "      <td>0.529081</td>\n",
              "      <td>2.346203</td>\n",
              "      <td>2.601955</td>\n",
              "      <td>1.536585</td>\n",
              "      <td>2.072578</td>\n",
              "      <td>1.083638</td>\n",
              "      <td>35.928409</td>\n",
              "      <td>3.812580</td>\n",
              "      <td>2.341167</td>\n",
              "      <td>2.455317</td>\n",
              "      <td>8631.953698</td>\n",
              "      <td>1162.814061</td>\n",
              "      <td>7469.139637</td>\n",
              "      <td>0.759941</td>\n",
              "      <td>4404.086304</td>\n",
              "      <td>64.858695</td>\n",
              "      <td>0.712222</td>\n",
              "      <td>0.274894</td>\n",
              "    </tr>\n",
              "    <tr>\n",
              "      <th>std</th>\n",
              "      <td>0.367235</td>\n",
              "      <td>8.016814</td>\n",
              "      <td>0.499178</td>\n",
              "      <td>1.298908</td>\n",
              "      <td>1.700417</td>\n",
              "      <td>0.737808</td>\n",
              "      <td>1.461929</td>\n",
              "      <td>0.333784</td>\n",
              "      <td>7.986416</td>\n",
              "      <td>1.554408</td>\n",
              "      <td>1.010622</td>\n",
              "      <td>1.106225</td>\n",
              "      <td>9088.776650</td>\n",
              "      <td>814.987335</td>\n",
              "      <td>9090.685324</td>\n",
              "      <td>0.219207</td>\n",
              "      <td>3397.129254</td>\n",
              "      <td>23.472570</td>\n",
              "      <td>0.238086</td>\n",
              "      <td>0.275691</td>\n",
              "    </tr>\n",
              "    <tr>\n",
              "      <th>min</th>\n",
              "      <td>0.000000</td>\n",
              "      <td>26.000000</td>\n",
              "      <td>0.000000</td>\n",
              "      <td>0.000000</td>\n",
              "      <td>0.000000</td>\n",
              "      <td>0.000000</td>\n",
              "      <td>0.000000</td>\n",
              "      <td>1.000000</td>\n",
              "      <td>13.000000</td>\n",
              "      <td>1.000000</td>\n",
              "      <td>0.000000</td>\n",
              "      <td>0.000000</td>\n",
              "      <td>1438.300000</td>\n",
              "      <td>0.000000</td>\n",
              "      <td>3.000000</td>\n",
              "      <td>0.000000</td>\n",
              "      <td>510.000000</td>\n",
              "      <td>10.000000</td>\n",
              "      <td>0.000000</td>\n",
              "      <td>0.000000</td>\n",
              "    </tr>\n",
              "    <tr>\n",
              "      <th>25%</th>\n",
              "      <td>0.000000</td>\n",
              "      <td>41.000000</td>\n",
              "      <td>0.000000</td>\n",
              "      <td>1.000000</td>\n",
              "      <td>1.000000</td>\n",
              "      <td>1.000000</td>\n",
              "      <td>1.000000</td>\n",
              "      <td>1.000000</td>\n",
              "      <td>31.000000</td>\n",
              "      <td>3.000000</td>\n",
              "      <td>2.000000</td>\n",
              "      <td>2.000000</td>\n",
              "      <td>2555.000000</td>\n",
              "      <td>359.000000</td>\n",
              "      <td>1324.500000</td>\n",
              "      <td>0.631000</td>\n",
              "      <td>2155.500000</td>\n",
              "      <td>45.000000</td>\n",
              "      <td>0.582000</td>\n",
              "      <td>0.023000</td>\n",
              "    </tr>\n",
              "    <tr>\n",
              "      <th>50%</th>\n",
              "      <td>0.000000</td>\n",
              "      <td>46.000000</td>\n",
              "      <td>1.000000</td>\n",
              "      <td>2.000000</td>\n",
              "      <td>3.000000</td>\n",
              "      <td>2.000000</td>\n",
              "      <td>2.000000</td>\n",
              "      <td>1.000000</td>\n",
              "      <td>36.000000</td>\n",
              "      <td>4.000000</td>\n",
              "      <td>2.000000</td>\n",
              "      <td>2.000000</td>\n",
              "      <td>4549.000000</td>\n",
              "      <td>1276.000000</td>\n",
              "      <td>3474.000000</td>\n",
              "      <td>0.736000</td>\n",
              "      <td>3899.000000</td>\n",
              "      <td>67.000000</td>\n",
              "      <td>0.702000</td>\n",
              "      <td>0.176000</td>\n",
              "    </tr>\n",
              "    <tr>\n",
              "      <th>75%</th>\n",
              "      <td>0.000000</td>\n",
              "      <td>52.000000</td>\n",
              "      <td>1.000000</td>\n",
              "      <td>3.000000</td>\n",
              "      <td>4.000000</td>\n",
              "      <td>2.000000</td>\n",
              "      <td>3.000000</td>\n",
              "      <td>1.000000</td>\n",
              "      <td>40.000000</td>\n",
              "      <td>5.000000</td>\n",
              "      <td>3.000000</td>\n",
              "      <td>3.000000</td>\n",
              "      <td>11067.500000</td>\n",
              "      <td>1784.000000</td>\n",
              "      <td>9859.000000</td>\n",
              "      <td>0.859000</td>\n",
              "      <td>4741.000000</td>\n",
              "      <td>81.000000</td>\n",
              "      <td>0.818000</td>\n",
              "      <td>0.503000</td>\n",
              "    </tr>\n",
              "    <tr>\n",
              "      <th>max</th>\n",
              "      <td>1.000000</td>\n",
              "      <td>73.000000</td>\n",
              "      <td>1.000000</td>\n",
              "      <td>5.000000</td>\n",
              "      <td>6.000000</td>\n",
              "      <td>3.000000</td>\n",
              "      <td>5.000000</td>\n",
              "      <td>4.000000</td>\n",
              "      <td>56.000000</td>\n",
              "      <td>6.000000</td>\n",
              "      <td>6.000000</td>\n",
              "      <td>6.000000</td>\n",
              "      <td>34516.000000</td>\n",
              "      <td>2517.000000</td>\n",
              "      <td>34516.000000</td>\n",
              "      <td>3.397000</td>\n",
              "      <td>18484.000000</td>\n",
              "      <td>139.000000</td>\n",
              "      <td>3.714000</td>\n",
              "      <td>0.999000</td>\n",
              "    </tr>\n",
              "  </tbody>\n",
              "</table>\n",
              "</div>"
            ],
            "text/plain": [
              "              churn           age  ...  total_ct_chng_q4_q1  avg_utilization_ratio\n",
              "count  10127.000000  10127.000000  ...         10127.000000           10127.000000\n",
              "mean       0.160660     46.325960  ...             0.712222               0.274894\n",
              "std        0.367235      8.016814  ...             0.238086               0.275691\n",
              "min        0.000000     26.000000  ...             0.000000               0.000000\n",
              "25%        0.000000     41.000000  ...             0.582000               0.023000\n",
              "50%        0.000000     46.000000  ...             0.702000               0.176000\n",
              "75%        0.000000     52.000000  ...             0.818000               0.503000\n",
              "max        1.000000     73.000000  ...             3.714000               0.999000\n",
              "\n",
              "[8 rows x 20 columns]"
            ]
          },
          "metadata": {
            "tags": []
          },
          "execution_count": 56
        }
      ]
    },
    {
      "cell_type": "markdown",
      "metadata": {
        "id": "I6LPY_Xz8eVl"
      },
      "source": [
        "# Age distribution"
      ]
    },
    {
      "cell_type": "code",
      "metadata": {
        "colab": {
          "base_uri": "https://localhost:8080/",
          "height": 265
        },
        "id": "1pjQPnQtmdKU",
        "outputId": "2592d230-20fe-4108-8d1d-70ec51b75302"
      },
      "source": [
        "bins = makebins(df['age'], 1.14, 0.5)\r\n",
        "df['binned'] = pd.cut(df['age'], bins, include_lowest=True)\r\n",
        "#p(df['binned'])\r\n",
        "#p(df.binned.value_counts())\r\n",
        "s = df.binned.value_counts(sort=False)\r\n",
        "#p(type(s))\r\n",
        "#s[s > 0]\r\n",
        "l = [10, 20, 30, 40, 50, 60, 70]\r\n",
        "ax = s.plot(xticks = l)\r\n",
        "  # change the x ticks from the defualt one that is not readable\r\n",
        "ax.set_xticklabels(l)\r\n",
        "  # the next line is needed to suppress matplotlib returned values that is printed\r\n",
        "plt.show()"
      ],
      "execution_count": null,
      "outputs": [
        {
          "output_type": "display_data",
          "data": {
            "image/png": "[encoded data removed]",
            "text/plain": [
              "<Figure size 432x288 with 1 Axes>"
            ]
          },
          "metadata": {
            "tags": [],
            "needs_background": "light"
          }
        }
      ]
    },
    {
      "cell_type": "markdown",
      "metadata": {
        "id": "vq2gW6mm8kp_"
      },
      "source": [
        "# Gender effect"
      ]
    },
    {
      "cell_type": "code",
      "metadata": {
        "colab": {
          "base_uri": "https://localhost:8080/",
          "height": 535
        },
        "id": "K-K6002D47kc",
        "outputId": "f75110ad-a24f-419e-dcf7-2be9dfc7dbc2"
      },
      "source": [
        "df_corr_0_2 = df[['churn', 'contacts_count_12_mon', 'total_revolving_bal', 'total_trans_ct', 'total_ct_chng_q4_q1']]\r\n",
        "display_corr(df_corr_0_2, clear='lowerRightDiagonal')"
      ],
      "execution_count": null,
      "outputs": [
        {
          "output_type": "display_data",
          "data": {
            "text/html": [
              "<div>\n",
              "<style scoped>\n",
              "    .dataframe tbody tr th:only-of-type {\n",
              "        vertical-align: middle;\n",
              "    }\n",
              "\n",
              "    .dataframe tbody tr th {\n",
              "        vertical-align: top;\n",
              "    }\n",
              "\n",
              "    .dataframe thead th {\n",
              "        text-align: right;\n",
              "    }\n",
              "</style>\n",
              "<table border=\"1\" class=\"dataframe\">\n",
              "  <thead>\n",
              "    <tr style=\"text-align: right;\">\n",
              "      <th></th>\n",
              "      <th>total_trans_ct</th>\n",
              "      <th>total_revolving_bal</th>\n",
              "      <th>total_ct_chng_q4_q1</th>\n",
              "      <th>contacts_count_12_mon</th>\n",
              "      <th>churn</th>\n",
              "    </tr>\n",
              "  </thead>\n",
              "  <tbody>\n",
              "    <tr>\n",
              "      <th>churn</th>\n",
              "      <td>-0.371403</td>\n",
              "      <td>-0.263053</td>\n",
              "      <td>-0.290054</td>\n",
              "      <td>0.204491</td>\n",
              "      <td>0.0</td>\n",
              "    </tr>\n",
              "    <tr>\n",
              "      <th>contacts_count_12_mon</th>\n",
              "      <td>-0.152213</td>\n",
              "      <td>-0.053913</td>\n",
              "      <td>-0.094997</td>\n",
              "      <td>0.000000</td>\n",
              "      <td>0.0</td>\n",
              "    </tr>\n",
              "    <tr>\n",
              "      <th>total_ct_chng_q4_q1</th>\n",
              "      <td>0.112324</td>\n",
              "      <td>0.089861</td>\n",
              "      <td>0.000000</td>\n",
              "      <td>0.000000</td>\n",
              "      <td>0.0</td>\n",
              "    </tr>\n",
              "    <tr>\n",
              "      <th>total_revolving_bal</th>\n",
              "      <td>0.056060</td>\n",
              "      <td>0.000000</td>\n",
              "      <td>0.000000</td>\n",
              "      <td>0.000000</td>\n",
              "      <td>0.0</td>\n",
              "    </tr>\n",
              "    <tr>\n",
              "      <th>total_trans_ct</th>\n",
              "      <td>0.000000</td>\n",
              "      <td>0.000000</td>\n",
              "      <td>0.000000</td>\n",
              "      <td>0.000000</td>\n",
              "      <td>0.0</td>\n",
              "    </tr>\n",
              "  </tbody>\n",
              "</table>\n",
              "</div>"
            ],
            "text/plain": [
              "                       total_trans_ct  ...  churn\n",
              "churn                       -0.371403  ...    0.0\n",
              "contacts_count_12_mon       -0.152213  ...    0.0\n",
              "total_ct_chng_q4_q1          0.112324  ...    0.0\n",
              "total_revolving_bal          0.056060  ...    0.0\n",
              "total_trans_ct               0.000000  ...    0.0\n",
              "\n",
              "[5 rows x 5 columns]"
            ]
          },
          "metadata": {
            "tags": []
          }
        },
        {
          "output_type": "display_data",
          "data": {
            "image/png": "[encoded data removed]",
            "text/plain": [
              "<Figure size 360x288 with 2 Axes>"
            ]
          },
          "metadata": {
            "tags": [],
            "needs_background": "light"
          }
        }
      ]
    },
    {
      "cell_type": "code",
      "metadata": {
        "colab": {
          "base_uri": "https://localhost:8080/",
          "height": 535
        },
        "id": "n-tk5tU89eCJ",
        "outputId": "4f42053d-820f-4cae-9746-ddbc0cc5fbb5"
      },
      "source": [
        "result = df_corr_0_2.mul(df.female, axis=0)\r\n",
        "display_corr(result)"
      ],
      "execution_count": null,
      "outputs": [
        {
          "output_type": "display_data",
          "data": {
            "text/html": [
              "<div>\n",
              "<style scoped>\n",
              "    .dataframe tbody tr th:only-of-type {\n",
              "        vertical-align: middle;\n",
              "    }\n",
              "\n",
              "    .dataframe tbody tr th {\n",
              "        vertical-align: top;\n",
              "    }\n",
              "\n",
              "    .dataframe thead th {\n",
              "        text-align: right;\n",
              "    }\n",
              "</style>\n",
              "<table border=\"1\" class=\"dataframe\">\n",
              "  <thead>\n",
              "    <tr style=\"text-align: right;\">\n",
              "      <th></th>\n",
              "      <th>total_trans_ct</th>\n",
              "      <th>total_revolving_bal</th>\n",
              "      <th>total_ct_chng_q4_q1</th>\n",
              "      <th>contacts_count_12_mon</th>\n",
              "      <th>churn</th>\n",
              "    </tr>\n",
              "  </thead>\n",
              "  <tbody>\n",
              "    <tr>\n",
              "      <th>churn</th>\n",
              "      <td>0.077461</td>\n",
              "      <td>0.024639</td>\n",
              "      <td>0.128598</td>\n",
              "      <td>0.365093</td>\n",
              "      <td>0.000000</td>\n",
              "    </tr>\n",
              "    <tr>\n",
              "      <th>contacts_count_12_mon</th>\n",
              "      <td>0.712082</td>\n",
              "      <td>0.551140</td>\n",
              "      <td>0.734371</td>\n",
              "      <td>0.000000</td>\n",
              "      <td>0.365093</td>\n",
              "    </tr>\n",
              "    <tr>\n",
              "      <th>total_ct_chng_q4_q1</th>\n",
              "      <td>0.851508</td>\n",
              "      <td>0.662105</td>\n",
              "      <td>0.000000</td>\n",
              "      <td>0.734371</td>\n",
              "      <td>0.128598</td>\n",
              "    </tr>\n",
              "    <tr>\n",
              "      <th>total_revolving_bal</th>\n",
              "      <td>0.649750</td>\n",
              "      <td>0.000000</td>\n",
              "      <td>0.662105</td>\n",
              "      <td>0.551140</td>\n",
              "      <td>0.024639</td>\n",
              "    </tr>\n",
              "    <tr>\n",
              "      <th>total_trans_ct</th>\n",
              "      <td>0.000000</td>\n",
              "      <td>0.649750</td>\n",
              "      <td>0.851508</td>\n",
              "      <td>0.712082</td>\n",
              "      <td>0.077461</td>\n",
              "    </tr>\n",
              "  </tbody>\n",
              "</table>\n",
              "</div>"
            ],
            "text/plain": [
              "                       total_trans_ct  ...     churn\n",
              "churn                        0.077461  ...  0.000000\n",
              "contacts_count_12_mon        0.712082  ...  0.365093\n",
              "total_ct_chng_q4_q1          0.851508  ...  0.128598\n",
              "total_revolving_bal          0.649750  ...  0.024639\n",
              "total_trans_ct               0.000000  ...  0.077461\n",
              "\n",
              "[5 rows x 5 columns]"
            ]
          },
          "metadata": {
            "tags": []
          }
        },
        {
          "output_type": "display_data",
          "data": {
            "image/png": "[encoded data removed]",
            "text/plain": [
              "<Figure size 360x288 with 2 Axes>"
            ]
          },
          "metadata": {
            "tags": [],
            "needs_background": "light"
          }
        }
      ]
    },
    {
      "cell_type": "markdown",
      "metadata": {
        "id": "vDPru7NhH12R"
      },
      "source": [
        "# What are average values of numerical features for card holders that left?"
      ]
    },
    {
      "cell_type": "code",
      "metadata": {
        "colab": {
          "base_uri": "https://localhost:8080/"
        },
        "id": "b9sJmSjjH6OU",
        "outputId": "e952ebaf-796a-4b33-f303-eb0b50d51037"
      },
      "source": [
        "df[df.churn == 0].mean()"
      ],
      "execution_count": null,
      "outputs": [
        {
          "output_type": "execute_result",
          "data": {
            "text/plain": [
              "churn                          0.000000\n",
              "age                           46.262118\n",
              "female                         0.520941\n",
              "dependent_count                2.335412\n",
              "education                      2.595412\n",
              "marital_status                 1.542588\n",
              "income_category                2.085059\n",
              "card                           1.083294\n",
              "months_on_book                35.880588\n",
              "total_relationship_count       3.914588\n",
              "months_inactive_12_mon         2.273765\n",
              "contacts_count_12_mon          2.356353\n",
              "credit_limit                8726.877518\n",
              "total_revolving_bal         1256.604118\n",
              "avg_open_to_buy             7470.273400\n",
              "total_amt_chng_q4_q1           0.772510\n",
              "total_trans_amt             4654.655882\n",
              "total_trans_ct                68.672588\n",
              "total_ct_chng_q4_q1            0.742434\n",
              "avg_utilization_ratio          0.296412\n",
              "dtype: float64"
            ]
          },
          "metadata": {
            "tags": []
          },
          "execution_count": 60
        }
      ]
    },
    {
      "cell_type": "markdown",
      "metadata": {
        "id": "gWgQrKfXLYBN"
      },
      "source": [
        "# Grouping by Card holders that left"
      ]
    },
    {
      "cell_type": "code",
      "metadata": {
        "colab": {
          "base_uri": "https://localhost:8080/",
          "height": 193
        },
        "id": "wrHuij6ILf-r",
        "outputId": "27061c5d-1a15-44dc-f26e-f11149c83263"
      },
      "source": [
        "columns_to_show = ['contacts_count_12_mon', 'total_revolving_bal', 'total_trans_ct', 'total_ct_chng_q4_q1']\r\n",
        "df.groupby(['churn'])[columns_to_show].describe()"
      ],
      "execution_count": null,
      "outputs": [
        {
          "output_type": "execute_result",
          "data": {
            "text/html": [
              "<div>\n",
              "<style scoped>\n",
              "    .dataframe tbody tr th:only-of-type {\n",
              "        vertical-align: middle;\n",
              "    }\n",
              "\n",
              "    .dataframe tbody tr th {\n",
              "        vertical-align: top;\n",
              "    }\n",
              "\n",
              "    .dataframe thead tr th {\n",
              "        text-align: left;\n",
              "    }\n",
              "\n",
              "    .dataframe thead tr:last-of-type th {\n",
              "        text-align: right;\n",
              "    }\n",
              "</style>\n",
              "<table border=\"1\" class=\"dataframe\">\n",
              "  <thead>\n",
              "    <tr>\n",
              "      <th></th>\n",
              "      <th colspan=\"8\" halign=\"left\">contacts_count_12_mon</th>\n",
              "      <th colspan=\"8\" halign=\"left\">total_revolving_bal</th>\n",
              "      <th colspan=\"8\" halign=\"left\">total_trans_ct</th>\n",
              "      <th colspan=\"8\" halign=\"left\">total_ct_chng_q4_q1</th>\n",
              "    </tr>\n",
              "    <tr>\n",
              "      <th></th>\n",
              "      <th>count</th>\n",
              "      <th>mean</th>\n",
              "      <th>std</th>\n",
              "      <th>min</th>\n",
              "      <th>25%</th>\n",
              "      <th>50%</th>\n",
              "      <th>75%</th>\n",
              "      <th>max</th>\n",
              "      <th>count</th>\n",
              "      <th>mean</th>\n",
              "      <th>std</th>\n",
              "      <th>min</th>\n",
              "      <th>25%</th>\n",
              "      <th>50%</th>\n",
              "      <th>75%</th>\n",
              "      <th>max</th>\n",
              "      <th>count</th>\n",
              "      <th>mean</th>\n",
              "      <th>std</th>\n",
              "      <th>min</th>\n",
              "      <th>25%</th>\n",
              "      <th>50%</th>\n",
              "      <th>75%</th>\n",
              "      <th>max</th>\n",
              "      <th>count</th>\n",
              "      <th>mean</th>\n",
              "      <th>std</th>\n",
              "      <th>min</th>\n",
              "      <th>25%</th>\n",
              "      <th>50%</th>\n",
              "      <th>75%</th>\n",
              "      <th>max</th>\n",
              "    </tr>\n",
              "    <tr>\n",
              "      <th>churn</th>\n",
              "      <th></th>\n",
              "      <th></th>\n",
              "      <th></th>\n",
              "      <th></th>\n",
              "      <th></th>\n",
              "      <th></th>\n",
              "      <th></th>\n",
              "      <th></th>\n",
              "      <th></th>\n",
              "      <th></th>\n",
              "      <th></th>\n",
              "      <th></th>\n",
              "      <th></th>\n",
              "      <th></th>\n",
              "      <th></th>\n",
              "      <th></th>\n",
              "      <th></th>\n",
              "      <th></th>\n",
              "      <th></th>\n",
              "      <th></th>\n",
              "      <th></th>\n",
              "      <th></th>\n",
              "      <th></th>\n",
              "      <th></th>\n",
              "      <th></th>\n",
              "      <th></th>\n",
              "      <th></th>\n",
              "      <th></th>\n",
              "      <th></th>\n",
              "      <th></th>\n",
              "      <th></th>\n",
              "      <th></th>\n",
              "    </tr>\n",
              "  </thead>\n",
              "  <tbody>\n",
              "    <tr>\n",
              "      <th>0</th>\n",
              "      <td>8500.0</td>\n",
              "      <td>2.356353</td>\n",
              "      <td>1.081436</td>\n",
              "      <td>0.0</td>\n",
              "      <td>2.0</td>\n",
              "      <td>2.0</td>\n",
              "      <td>3.0</td>\n",
              "      <td>5.0</td>\n",
              "      <td>8500.0</td>\n",
              "      <td>1256.604118</td>\n",
              "      <td>757.745354</td>\n",
              "      <td>0.0</td>\n",
              "      <td>800.0</td>\n",
              "      <td>1364.0</td>\n",
              "      <td>1807.0</td>\n",
              "      <td>2517.0</td>\n",
              "      <td>8500.0</td>\n",
              "      <td>68.672588</td>\n",
              "      <td>22.919011</td>\n",
              "      <td>11.0</td>\n",
              "      <td>54.0</td>\n",
              "      <td>71.0</td>\n",
              "      <td>82.0</td>\n",
              "      <td>139.0</td>\n",
              "      <td>8500.0</td>\n",
              "      <td>0.742434</td>\n",
              "      <td>0.228054</td>\n",
              "      <td>0.028</td>\n",
              "      <td>0.617</td>\n",
              "      <td>0.721</td>\n",
              "      <td>0.833</td>\n",
              "      <td>3.714</td>\n",
              "    </tr>\n",
              "    <tr>\n",
              "      <th>1</th>\n",
              "      <td>1627.0</td>\n",
              "      <td>2.972342</td>\n",
              "      <td>1.090537</td>\n",
              "      <td>0.0</td>\n",
              "      <td>2.0</td>\n",
              "      <td>3.0</td>\n",
              "      <td>4.0</td>\n",
              "      <td>6.0</td>\n",
              "      <td>1627.0</td>\n",
              "      <td>672.822987</td>\n",
              "      <td>921.385582</td>\n",
              "      <td>0.0</td>\n",
              "      <td>0.0</td>\n",
              "      <td>0.0</td>\n",
              "      <td>1303.5</td>\n",
              "      <td>2517.0</td>\n",
              "      <td>1627.0</td>\n",
              "      <td>44.933620</td>\n",
              "      <td>14.568429</td>\n",
              "      <td>10.0</td>\n",
              "      <td>37.0</td>\n",
              "      <td>43.0</td>\n",
              "      <td>51.0</td>\n",
              "      <td>94.0</td>\n",
              "      <td>1627.0</td>\n",
              "      <td>0.554386</td>\n",
              "      <td>0.226854</td>\n",
              "      <td>0.000</td>\n",
              "      <td>0.400</td>\n",
              "      <td>0.531</td>\n",
              "      <td>0.692</td>\n",
              "      <td>2.500</td>\n",
              "    </tr>\n",
              "  </tbody>\n",
              "</table>\n",
              "</div>"
            ],
            "text/plain": [
              "      contacts_count_12_mon                      ... total_ct_chng_q4_q1              \n",
              "                      count      mean       std  ...                 50%    75%    max\n",
              "churn                                            ...                                  \n",
              "0                    8500.0  2.356353  1.081436  ...               0.721  0.833  3.714\n",
              "1                    1627.0  2.972342  1.090537  ...               0.531  0.692  2.500\n",
              "\n",
              "[2 rows x 32 columns]"
            ]
          },
          "metadata": {
            "tags": []
          },
          "execution_count": 61
        }
      ]
    },
    {
      "cell_type": "code",
      "metadata": {
        "colab": {
          "base_uri": "https://localhost:8080/",
          "height": 235
        },
        "id": "5mLcVDB5MjDC",
        "outputId": "36c1a259-4ada-453d-897c-3522b198f615"
      },
      "source": [
        "df.groupby(['churn', 'female'])[columns_to_show].agg([np.mean, np.std, np.min, np.max])"
      ],
      "execution_count": null,
      "outputs": [
        {
          "output_type": "execute_result",
          "data": {
            "text/html": [
              "<div>\n",
              "<style scoped>\n",
              "    .dataframe tbody tr th:only-of-type {\n",
              "        vertical-align: middle;\n",
              "    }\n",
              "\n",
              "    .dataframe tbody tr th {\n",
              "        vertical-align: top;\n",
              "    }\n",
              "\n",
              "    .dataframe thead tr th {\n",
              "        text-align: left;\n",
              "    }\n",
              "\n",
              "    .dataframe thead tr:last-of-type th {\n",
              "        text-align: right;\n",
              "    }\n",
              "</style>\n",
              "<table border=\"1\" class=\"dataframe\">\n",
              "  <thead>\n",
              "    <tr>\n",
              "      <th></th>\n",
              "      <th></th>\n",
              "      <th colspan=\"4\" halign=\"left\">contacts_count_12_mon</th>\n",
              "      <th colspan=\"4\" halign=\"left\">total_revolving_bal</th>\n",
              "      <th colspan=\"4\" halign=\"left\">total_trans_ct</th>\n",
              "      <th colspan=\"4\" halign=\"left\">total_ct_chng_q4_q1</th>\n",
              "    </tr>\n",
              "    <tr>\n",
              "      <th></th>\n",
              "      <th></th>\n",
              "      <th>mean</th>\n",
              "      <th>std</th>\n",
              "      <th>amin</th>\n",
              "      <th>amax</th>\n",
              "      <th>mean</th>\n",
              "      <th>std</th>\n",
              "      <th>amin</th>\n",
              "      <th>amax</th>\n",
              "      <th>mean</th>\n",
              "      <th>std</th>\n",
              "      <th>amin</th>\n",
              "      <th>amax</th>\n",
              "      <th>mean</th>\n",
              "      <th>std</th>\n",
              "      <th>amin</th>\n",
              "      <th>amax</th>\n",
              "    </tr>\n",
              "    <tr>\n",
              "      <th>churn</th>\n",
              "      <th>female</th>\n",
              "      <th></th>\n",
              "      <th></th>\n",
              "      <th></th>\n",
              "      <th></th>\n",
              "      <th></th>\n",
              "      <th></th>\n",
              "      <th></th>\n",
              "      <th></th>\n",
              "      <th></th>\n",
              "      <th></th>\n",
              "      <th></th>\n",
              "      <th></th>\n",
              "      <th></th>\n",
              "      <th></th>\n",
              "      <th></th>\n",
              "      <th></th>\n",
              "    </tr>\n",
              "  </thead>\n",
              "  <tbody>\n",
              "    <tr>\n",
              "      <th rowspan=\"2\" valign=\"top\">0</th>\n",
              "      <th>0</th>\n",
              "      <td>2.413310</td>\n",
              "      <td>1.098379</td>\n",
              "      <td>0</td>\n",
              "      <td>5</td>\n",
              "      <td>1275.407171</td>\n",
              "      <td>748.752626</td>\n",
              "      <td>0</td>\n",
              "      <td>2517</td>\n",
              "      <td>66.102407</td>\n",
              "      <td>25.050685</td>\n",
              "      <td>11</td>\n",
              "      <td>139</td>\n",
              "      <td>0.733298</td>\n",
              "      <td>0.246301</td>\n",
              "      <td>0.143</td>\n",
              "      <td>3.571</td>\n",
              "    </tr>\n",
              "    <tr>\n",
              "      <th>1</th>\n",
              "      <td>2.303975</td>\n",
              "      <td>1.063051</td>\n",
              "      <td>0</td>\n",
              "      <td>5</td>\n",
              "      <td>1239.312782</td>\n",
              "      <td>765.598819</td>\n",
              "      <td>0</td>\n",
              "      <td>2517</td>\n",
              "      <td>71.036134</td>\n",
              "      <td>20.486660</td>\n",
              "      <td>15</td>\n",
              "      <td>138</td>\n",
              "      <td>0.750835</td>\n",
              "      <td>0.209557</td>\n",
              "      <td>0.028</td>\n",
              "      <td>3.714</td>\n",
              "    </tr>\n",
              "    <tr>\n",
              "      <th rowspan=\"2\" valign=\"top\">1</th>\n",
              "      <th>0</th>\n",
              "      <td>3.021521</td>\n",
              "      <td>1.076577</td>\n",
              "      <td>0</td>\n",
              "      <td>6</td>\n",
              "      <td>680.315638</td>\n",
              "      <td>917.519035</td>\n",
              "      <td>0</td>\n",
              "      <td>2517</td>\n",
              "      <td>46.110473</td>\n",
              "      <td>17.437841</td>\n",
              "      <td>10</td>\n",
              "      <td>91</td>\n",
              "      <td>0.579077</td>\n",
              "      <td>0.252603</td>\n",
              "      <td>0.000</td>\n",
              "      <td>2.500</td>\n",
              "    </tr>\n",
              "    <tr>\n",
              "      <th>1</th>\n",
              "      <td>2.935484</td>\n",
              "      <td>1.100019</td>\n",
              "      <td>0</td>\n",
              "      <td>6</td>\n",
              "      <td>667.207527</td>\n",
              "      <td>924.726152</td>\n",
              "      <td>0</td>\n",
              "      <td>2517</td>\n",
              "      <td>44.051613</td>\n",
              "      <td>11.909848</td>\n",
              "      <td>12</td>\n",
              "      <td>94</td>\n",
              "      <td>0.535881</td>\n",
              "      <td>0.203639</td>\n",
              "      <td>0.000</td>\n",
              "      <td>1.684</td>\n",
              "    </tr>\n",
              "  </tbody>\n",
              "</table>\n",
              "</div>"
            ],
            "text/plain": [
              "             contacts_count_12_mon                 ... total_ct_chng_q4_q1              \n",
              "                              mean       std amin  ...                 std   amin   amax\n",
              "churn female                                       ...                                  \n",
              "0     0                   2.413310  1.098379    0  ...            0.246301  0.143  3.571\n",
              "      1                   2.303975  1.063051    0  ...            0.209557  0.028  3.714\n",
              "1     0                   3.021521  1.076577    0  ...            0.252603  0.000  2.500\n",
              "      1                   2.935484  1.100019    0  ...            0.203639  0.000  1.684\n",
              "\n",
              "[4 rows x 16 columns]"
            ]
          },
          "metadata": {
            "tags": []
          },
          "execution_count": 62
        }
      ]
    },
    {
      "cell_type": "markdown",
      "metadata": {
        "id": "7crAETtPOzoA"
      },
      "source": [
        "# Effects of some columns on churn card holders (those that left)\r\n",
        "\r\n",
        "source: https://www.kaggle.com/kashnitsky/topic-1-exploratory-data-analysis-with-pandas"
      ]
    },
    {
      "cell_type": "markdown",
      "metadata": {
        "id": "g3T-cZCrDzo7"
      },
      "source": [
        "## RECALL is more important if there is no importance to the accuracy (precision)\r\n",
        "For example: Precision is very important for cancer dignosys, but Recall is more import when calling customers to buy or to stay on boad. It depends on what the costs of each error."
      ]
    },
    {
      "cell_type": "code",
      "metadata": {
        "colab": {
          "base_uri": "https://localhost:8080/",
          "height": 173
        },
        "id": "LuCgIhtylmRX",
        "outputId": "72803103-31ac-4ba4-cc7f-e9e6e5f73e31"
      },
      "source": [
        "pd.crosstab(df.churn, df.contacts_count_12_mon, margins=True)"
      ],
      "execution_count": null,
      "outputs": [
        {
          "output_type": "execute_result",
          "data": {
            "text/html": [
              "<div>\n",
              "<style scoped>\n",
              "    .dataframe tbody tr th:only-of-type {\n",
              "        vertical-align: middle;\n",
              "    }\n",
              "\n",
              "    .dataframe tbody tr th {\n",
              "        vertical-align: top;\n",
              "    }\n",
              "\n",
              "    .dataframe thead th {\n",
              "        text-align: right;\n",
              "    }\n",
              "</style>\n",
              "<table border=\"1\" class=\"dataframe\">\n",
              "  <thead>\n",
              "    <tr style=\"text-align: right;\">\n",
              "      <th>contacts_count_12_mon</th>\n",
              "      <th>0</th>\n",
              "      <th>1</th>\n",
              "      <th>2</th>\n",
              "      <th>3</th>\n",
              "      <th>4</th>\n",
              "      <th>5</th>\n",
              "      <th>6</th>\n",
              "      <th>All</th>\n",
              "    </tr>\n",
              "    <tr>\n",
              "      <th>churn</th>\n",
              "      <th></th>\n",
              "      <th></th>\n",
              "      <th></th>\n",
              "      <th></th>\n",
              "      <th></th>\n",
              "      <th></th>\n",
              "      <th></th>\n",
              "      <th></th>\n",
              "    </tr>\n",
              "  </thead>\n",
              "  <tbody>\n",
              "    <tr>\n",
              "      <th>0</th>\n",
              "      <td>392</td>\n",
              "      <td>1391</td>\n",
              "      <td>2824</td>\n",
              "      <td>2699</td>\n",
              "      <td>1077</td>\n",
              "      <td>117</td>\n",
              "      <td>0</td>\n",
              "      <td>8500</td>\n",
              "    </tr>\n",
              "    <tr>\n",
              "      <th>1</th>\n",
              "      <td>7</td>\n",
              "      <td>108</td>\n",
              "      <td>403</td>\n",
              "      <td>681</td>\n",
              "      <td>315</td>\n",
              "      <td>59</td>\n",
              "      <td>54</td>\n",
              "      <td>1627</td>\n",
              "    </tr>\n",
              "    <tr>\n",
              "      <th>All</th>\n",
              "      <td>399</td>\n",
              "      <td>1499</td>\n",
              "      <td>3227</td>\n",
              "      <td>3380</td>\n",
              "      <td>1392</td>\n",
              "      <td>176</td>\n",
              "      <td>54</td>\n",
              "      <td>10127</td>\n",
              "    </tr>\n",
              "  </tbody>\n",
              "</table>\n",
              "</div>"
            ],
            "text/plain": [
              "contacts_count_12_mon    0     1     2     3     4    5   6    All\n",
              "churn                                                             \n",
              "0                      392  1391  2824  2699  1077  117   0   8500\n",
              "1                        7   108   403   681   315   59  54   1627\n",
              "All                    399  1499  3227  3380  1392  176  54  10127"
            ]
          },
          "metadata": {
            "tags": []
          },
          "execution_count": 63
        }
      ]
    },
    {
      "cell_type": "code",
      "metadata": {
        "colab": {
          "base_uri": "https://localhost:8080/",
          "height": 297
        },
        "id": "7tidhYztPAlt",
        "outputId": "a0685e28-3446-4982-95e2-3d5656cdfb3b"
      },
      "source": [
        "sns.countplot(x='contacts_count_12_mon', hue='churn', data=df)"
      ],
      "execution_count": null,
      "outputs": [
        {
          "output_type": "execute_result",
          "data": {
            "text/plain": [
              "<matplotlib.axes._subplots.AxesSubplot at 0x7fd95ac87c18>"
            ]
          },
          "metadata": {
            "tags": []
          },
          "execution_count": 64
        },
        {
          "output_type": "display_data",
          "data": {
            "image/png": "[encoded data removed]",
            "text/plain": [
              "<Figure size 432x288 with 1 Axes>"
            ]
          },
          "metadata": {
            "tags": [],
            "needs_background": "light"
          }
        }
      ]
    },
    {
      "cell_type": "code",
      "metadata": {
        "colab": {
          "base_uri": "https://localhost:8080/",
          "height": 296
        },
        "id": "FykzHPawP4c7",
        "outputId": "f18d6570-24c7-4944-85a1-5a801fb4dcec"
      },
      "source": [
        "sns.countplot(x='churn',hue='contacts_count_12_mon',data=df)"
      ],
      "execution_count": null,
      "outputs": [
        {
          "output_type": "execute_result",
          "data": {
            "text/plain": [
              "<matplotlib.axes._subplots.AxesSubplot at 0x7fd95abf3630>"
            ]
          },
          "metadata": {
            "tags": []
          },
          "execution_count": 65
        },
        {
          "output_type": "display_data",
          "data": {
            "image/png": "[encoded data removed]",
            "text/plain": [
              "<Figure size 432x288 with 1 Axes>"
            ]
          },
          "metadata": {
            "tags": [],
            "needs_background": "light"
          }
        }
      ]
    },
    {
      "cell_type": "markdown",
      "metadata": {
        "id": "obelJ1hLui7a"
      },
      "source": [
        "# FUNCTION calc_confusion()"
      ]
    },
    {
      "cell_type": "code",
      "metadata": {
        "id": "FWevOq-g4ozZ"
      },
      "source": [
        "def calc_confusion(df, show=True, row=None, new_df=None, print_results=True):\r\n",
        "  if show:\r\n",
        "    d(df)\r\n",
        "    print()\r\n",
        "  T_col = 0 if df.columns[0] == 1 else 1\r\n",
        "  F_col = 1 - T_col\r\n",
        "  TP = df.iloc[T_col, T_col]\r\n",
        "  TN = df.iloc[F_col, F_col]\r\n",
        "  FP = df.iloc[F_col, T_col]\r\n",
        "  FN = df.iloc[T_col, F_col]\r\n",
        "  recall = np.round(100 * (TP / (TP + FN)), 2)\r\n",
        "  precision = np.round(100 * (TP / (TP + FP)), 2)\r\n",
        "  accuracy = np.round(100 * (TP + FN) / (TP + FN + TN + FP), 2)\r\n",
        "  F_measure = np.round((2 * recall * precision) / (recall + precision), 2)\r\n",
        "  if row is not None:\r\n",
        "    if print_results:\r\n",
        "      print(row)\r\n",
        "    if new_df is not None:\r\n",
        "      new_df.loc[row]= [recall, precision, accuracy, F_measure] \r\n",
        "  if print_results:   \r\n",
        "    print(f\"Recall = \\t{recall}%\")\r\n",
        "    print(f\"Precision = \\t{precision}%\")\r\n",
        "    print(f\"Accuracy = \\t{accuracy}%\")\r\n",
        "    print(f\"F-measure = \\t{F_measure}%\")"
      ],
      "execution_count": null,
      "outputs": []
    },
    {
      "cell_type": "markdown",
      "metadata": {
        "id": "sD9kJiSwXNpH"
      },
      "source": [
        "## Many_calls = df.contacts_count_12_mon > 4"
      ]
    },
    {
      "cell_type": "code",
      "metadata": {
        "colab": {
          "base_uri": "https://localhost:8080/",
          "height": 258
        },
        "id": "d5ekvineQmI6",
        "outputId": "13d0b398-57b2-4e3b-85d0-8108acad8376"
      },
      "source": [
        "df['Many_service_calls'] = (df.contacts_count_12_mon > 4).astype('int')\r\n",
        "\r\n",
        "df_m = pd.crosstab(df['Many_service_calls'], df.churn, margins=True)#, normalize='columns')\r\n",
        "calc_confusion(df_m)"
      ],
      "execution_count": null,
      "outputs": [
        {
          "output_type": "display_data",
          "data": {
            "text/html": [
              "<div>\n",
              "<style scoped>\n",
              "    .dataframe tbody tr th:only-of-type {\n",
              "        vertical-align: middle;\n",
              "    }\n",
              "\n",
              "    .dataframe tbody tr th {\n",
              "        vertical-align: top;\n",
              "    }\n",
              "\n",
              "    .dataframe thead th {\n",
              "        text-align: right;\n",
              "    }\n",
              "</style>\n",
              "<table border=\"1\" class=\"dataframe\">\n",
              "  <thead>\n",
              "    <tr style=\"text-align: right;\">\n",
              "      <th>churn</th>\n",
              "      <th>0</th>\n",
              "      <th>1</th>\n",
              "      <th>All</th>\n",
              "    </tr>\n",
              "    <tr>\n",
              "      <th>Many_service_calls</th>\n",
              "      <th></th>\n",
              "      <th></th>\n",
              "      <th></th>\n",
              "    </tr>\n",
              "  </thead>\n",
              "  <tbody>\n",
              "    <tr>\n",
              "      <th>0</th>\n",
              "      <td>8383</td>\n",
              "      <td>1514</td>\n",
              "      <td>9897</td>\n",
              "    </tr>\n",
              "    <tr>\n",
              "      <th>1</th>\n",
              "      <td>117</td>\n",
              "      <td>113</td>\n",
              "      <td>230</td>\n",
              "    </tr>\n",
              "    <tr>\n",
              "      <th>All</th>\n",
              "      <td>8500</td>\n",
              "      <td>1627</td>\n",
              "      <td>10127</td>\n",
              "    </tr>\n",
              "  </tbody>\n",
              "</table>\n",
              "</div>"
            ],
            "text/plain": [
              "churn                  0     1    All\n",
              "Many_service_calls                   \n",
              "0                   8383  1514   9897\n",
              "1                    117   113    230\n",
              "All                 8500  1627  10127"
            ]
          },
          "metadata": {
            "tags": []
          }
        },
        {
          "output_type": "stream",
          "text": [
            "\n",
            "Recall = \t49.13%\n",
            "Precision = \t6.95%\n",
            "Accuracy = \t2.27%\n",
            "F-measure = \t12.18%\n"
          ],
          "name": "stdout"
        }
      ]
    },
    {
      "cell_type": "code",
      "metadata": {
        "colab": {
          "base_uri": "https://localhost:8080/",
          "height": 297
        },
        "id": "kxvgw5rdQ-ha",
        "outputId": "130fe06a-abb1-41d3-8d13-c9cf933bd540"
      },
      "source": [
        "sns.countplot(x='Many_service_calls', hue='churn', data=df)"
      ],
      "execution_count": null,
      "outputs": [
        {
          "output_type": "execute_result",
          "data": {
            "text/plain": [
              "<matplotlib.axes._subplots.AxesSubplot at 0x7fd95ac7b6a0>"
            ]
          },
          "metadata": {
            "tags": []
          },
          "execution_count": 68
        },
        {
          "output_type": "display_data",
          "data": {
            "image/png": "[encoded data removed]",
            "text/plain": [
              "<Figure size 432x288 with 1 Axes>"
            ]
          },
          "metadata": {
            "tags": [],
            "needs_background": "light"
          }
        }
      ]
    },
    {
      "cell_type": "code",
      "metadata": {
        "colab": {
          "base_uri": "https://localhost:8080/",
          "height": 258
        },
        "id": "haeJweGSRatT",
        "outputId": "819775cb-80f5-4d63-e4d5-fd01557fc8f5"
      },
      "source": [
        "#p(df.card.value_counts())\r\n",
        "df_f = pd.crosstab(df['Many_service_calls'] & df.female , df.churn, margins=True)\r\n",
        "calc_confusion(df_f)"
      ],
      "execution_count": null,
      "outputs": [
        {
          "output_type": "display_data",
          "data": {
            "text/html": [
              "<div>\n",
              "<style scoped>\n",
              "    .dataframe tbody tr th:only-of-type {\n",
              "        vertical-align: middle;\n",
              "    }\n",
              "\n",
              "    .dataframe tbody tr th {\n",
              "        vertical-align: top;\n",
              "    }\n",
              "\n",
              "    .dataframe thead th {\n",
              "        text-align: right;\n",
              "    }\n",
              "</style>\n",
              "<table border=\"1\" class=\"dataframe\">\n",
              "  <thead>\n",
              "    <tr style=\"text-align: right;\">\n",
              "      <th>churn</th>\n",
              "      <th>0</th>\n",
              "      <th>1</th>\n",
              "      <th>All</th>\n",
              "    </tr>\n",
              "    <tr>\n",
              "      <th>row_0</th>\n",
              "      <th></th>\n",
              "      <th></th>\n",
              "      <th></th>\n",
              "    </tr>\n",
              "  </thead>\n",
              "  <tbody>\n",
              "    <tr>\n",
              "      <th>0</th>\n",
              "      <td>8466</td>\n",
              "      <td>1565</td>\n",
              "      <td>10031</td>\n",
              "    </tr>\n",
              "    <tr>\n",
              "      <th>1</th>\n",
              "      <td>34</td>\n",
              "      <td>62</td>\n",
              "      <td>96</td>\n",
              "    </tr>\n",
              "    <tr>\n",
              "      <th>All</th>\n",
              "      <td>8500</td>\n",
              "      <td>1627</td>\n",
              "      <td>10127</td>\n",
              "    </tr>\n",
              "  </tbody>\n",
              "</table>\n",
              "</div>"
            ],
            "text/plain": [
              "churn     0     1    All\n",
              "row_0                   \n",
              "0      8466  1565  10031\n",
              "1        34    62     96\n",
              "All    8500  1627  10127"
            ]
          },
          "metadata": {
            "tags": []
          }
        },
        {
          "output_type": "stream",
          "text": [
            "\n",
            "Recall = \t64.58%\n",
            "Precision = \t3.81%\n",
            "Accuracy = \t0.95%\n",
            "F-measure = \t7.2%\n"
          ],
          "name": "stdout"
        }
      ]
    },
    {
      "cell_type": "markdown",
      "metadata": {
        "id": "wnkRRyvWzgJ1"
      },
      "source": [
        "# Combine our 4 conclusion above for increase chances to leave:\r\n",
        "1. More than 4 calls\r\n",
        "2. revolving balance < 250 or > 2500 (total_revolving_bal)\r\n",
        "3. total_trans_ct < 100\r\n",
        "4. total_ct_chng_q4_q1 < 1.6"
      ]
    },
    {
      "cell_type": "code",
      "metadata": {
        "id": "TsSUNxDHydhA"
      },
      "source": [
        "df['predict_churn'] = ((df.contacts_count_12_mon > 4) & \r\n",
        "                       ((df.total_revolving_bal < 250) | (df.total_revolving_bal > 2500)) &\r\n",
        "                        (df.total_trans_ct < 100) &\r\n",
        "                        (df.total_ct_chng_q4_q1 < 1.6)\r\n",
        "                        ).astype('int')                       "
      ],
      "execution_count": null,
      "outputs": []
    },
    {
      "cell_type": "code",
      "metadata": {
        "colab": {
          "base_uri": "https://localhost:8080/",
          "height": 258
        },
        "id": "dz07KODT0oT_",
        "outputId": "7be22229-8f70-48a8-ff91-a4087c292fbc"
      },
      "source": [
        "df_p = pd.crosstab(df['predict_churn'], df.churn, margins=True)\r\n",
        "calc_confusion(df_p)"
      ],
      "execution_count": null,
      "outputs": [
        {
          "output_type": "display_data",
          "data": {
            "text/html": [
              "<div>\n",
              "<style scoped>\n",
              "    .dataframe tbody tr th:only-of-type {\n",
              "        vertical-align: middle;\n",
              "    }\n",
              "\n",
              "    .dataframe tbody tr th {\n",
              "        vertical-align: top;\n",
              "    }\n",
              "\n",
              "    .dataframe thead th {\n",
              "        text-align: right;\n",
              "    }\n",
              "</style>\n",
              "<table border=\"1\" class=\"dataframe\">\n",
              "  <thead>\n",
              "    <tr style=\"text-align: right;\">\n",
              "      <th>churn</th>\n",
              "      <th>0</th>\n",
              "      <th>1</th>\n",
              "      <th>All</th>\n",
              "    </tr>\n",
              "    <tr>\n",
              "      <th>predict_churn</th>\n",
              "      <th></th>\n",
              "      <th></th>\n",
              "      <th></th>\n",
              "    </tr>\n",
              "  </thead>\n",
              "  <tbody>\n",
              "    <tr>\n",
              "      <th>0</th>\n",
              "      <td>8475</td>\n",
              "      <td>1549</td>\n",
              "      <td>10024</td>\n",
              "    </tr>\n",
              "    <tr>\n",
              "      <th>1</th>\n",
              "      <td>25</td>\n",
              "      <td>78</td>\n",
              "      <td>103</td>\n",
              "    </tr>\n",
              "    <tr>\n",
              "      <th>All</th>\n",
              "      <td>8500</td>\n",
              "      <td>1627</td>\n",
              "      <td>10127</td>\n",
              "    </tr>\n",
              "  </tbody>\n",
              "</table>\n",
              "</div>"
            ],
            "text/plain": [
              "churn             0     1    All\n",
              "predict_churn                   \n",
              "0              8475  1549  10024\n",
              "1                25    78    103\n",
              "All            8500  1627  10127"
            ]
          },
          "metadata": {
            "tags": []
          }
        },
        {
          "output_type": "stream",
          "text": [
            "\n",
            "Recall = \t75.73%\n",
            "Precision = \t4.79%\n",
            "Accuracy = \t1.02%\n",
            "F-measure = \t9.01%\n"
          ],
          "name": "stdout"
        }
      ]
    },
    {
      "cell_type": "code",
      "metadata": {
        "colab": {
          "base_uri": "https://localhost:8080/",
          "height": 258
        },
        "id": "I2ot0kBP3H59",
        "outputId": "abf8e7e9-0895-4803-d48d-0a8a4555c7e0"
      },
      "source": [
        "df_pf = pd.crosstab(df['predict_churn'] & df.female, df.churn, margins=True)\r\n",
        "calc_confusion(df_pf)"
      ],
      "execution_count": null,
      "outputs": [
        {
          "output_type": "display_data",
          "data": {
            "text/html": [
              "<div>\n",
              "<style scoped>\n",
              "    .dataframe tbody tr th:only-of-type {\n",
              "        vertical-align: middle;\n",
              "    }\n",
              "\n",
              "    .dataframe tbody tr th {\n",
              "        vertical-align: top;\n",
              "    }\n",
              "\n",
              "    .dataframe thead th {\n",
              "        text-align: right;\n",
              "    }\n",
              "</style>\n",
              "<table border=\"1\" class=\"dataframe\">\n",
              "  <thead>\n",
              "    <tr style=\"text-align: right;\">\n",
              "      <th>churn</th>\n",
              "      <th>0</th>\n",
              "      <th>1</th>\n",
              "      <th>All</th>\n",
              "    </tr>\n",
              "    <tr>\n",
              "      <th>row_0</th>\n",
              "      <th></th>\n",
              "      <th></th>\n",
              "      <th></th>\n",
              "    </tr>\n",
              "  </thead>\n",
              "  <tbody>\n",
              "    <tr>\n",
              "      <th>0</th>\n",
              "      <td>8492</td>\n",
              "      <td>1583</td>\n",
              "      <td>10075</td>\n",
              "    </tr>\n",
              "    <tr>\n",
              "      <th>1</th>\n",
              "      <td>8</td>\n",
              "      <td>44</td>\n",
              "      <td>52</td>\n",
              "    </tr>\n",
              "    <tr>\n",
              "      <th>All</th>\n",
              "      <td>8500</td>\n",
              "      <td>1627</td>\n",
              "      <td>10127</td>\n",
              "    </tr>\n",
              "  </tbody>\n",
              "</table>\n",
              "</div>"
            ],
            "text/plain": [
              "churn     0     1    All\n",
              "row_0                   \n",
              "0      8492  1583  10075\n",
              "1         8    44     52\n",
              "All    8500  1627  10127"
            ]
          },
          "metadata": {
            "tags": []
          }
        },
        {
          "output_type": "stream",
          "text": [
            "\n",
            "Recall = \t84.62%\n",
            "Precision = \t2.7%\n",
            "Accuracy = \t0.51%\n",
            "F-measure = \t5.23%\n"
          ],
          "name": "stdout"
        }
      ]
    },
    {
      "cell_type": "markdown",
      "metadata": {
        "id": "X0JQVmpqvJyN"
      },
      "source": [
        "# Try all combinations of the 4 columns and gender"
      ]
    },
    {
      "cell_type": "code",
      "metadata": {
        "id": "Jh400YRuvIvK"
      },
      "source": [
        "masks = ['df.contacts_count_12_mon > 4', \r\n",
        "        '(df.total_revolving_bal < 250) | (df.total_revolving_bal > 2500)',\r\n",
        "        'df.total_trans_ct < 100',\r\n",
        "        'df.total_ct_chng_q4_q1 < 1.6',\r\n",
        "        'df.female == 1']\r\n",
        "new_df = pd.DataFrame(df.churn)"
      ],
      "execution_count": null,
      "outputs": []
    },
    {
      "cell_type": "code",
      "metadata": {
        "colab": {
          "base_uri": "https://localhost:8080/"
        },
        "id": "PZhBGxUm3NmW",
        "outputId": "b19332be-15dd-48ef-98fb-778ad1240058"
      },
      "source": [
        "df_confusion = pd.DataFrame(columns=('Recall', 'Precision', 'Accuracy', 'F-measure')) \r\n",
        "for i in range(len(masks)):\r\n",
        "  df.loc[pd.eval(masks[i]), 'temp'] = 'True'\r\n",
        "  df.loc[~pd.eval(masks[i]), 'temp'] = 'False'\r\n",
        "  df_pf = pd.crosstab(df['temp'], df.churn, margins=True)\r\n",
        "  calc_confusion(df_pf, show=False, row=masks[i], new_df=df_confusion)\r\n",
        "  p()\r\n",
        "  new_df['mask' + str(i)] = df.predict_churn\r\n",
        "df.drop('temp', axis=1, inplace=True)  "
      ],
      "execution_count": null,
      "outputs": [
        {
          "output_type": "stream",
          "text": [
            "df.contacts_count_12_mon > 4\n",
            "Recall = \t49.13%\n",
            "Precision = \t6.95%\n",
            "Accuracy = \t2.27%\n",
            "F-measure = \t12.18%\n",
            "\n",
            "(df.total_revolving_bal < 250) | (df.total_revolving_bal > 2500)\n",
            "Recall = \t35.84%\n",
            "Precision = \t66.75%\n",
            "Accuracy = \t29.92%\n",
            "F-measure = \t46.64%\n",
            "\n",
            "df.total_trans_ct < 100\n",
            "Recall = \t17.24%\n",
            "Precision = \t100.0%\n",
            "Accuracy = \t93.22%\n",
            "F-measure = \t29.41%\n",
            "\n",
            "df.total_ct_chng_q4_q1 < 1.6\n",
            "Recall = \t16.15%\n",
            "Precision = \t99.82%\n",
            "Accuracy = \t99.31%\n",
            "F-measure = \t27.8%\n",
            "\n",
            "df.female == 1\n",
            "Recall = \t17.36%\n",
            "Precision = \t57.16%\n",
            "Accuracy = \t52.91%\n",
            "F-measure = \t26.63%\n",
            "\n"
          ],
          "name": "stdout"
        }
      ]
    },
    {
      "cell_type": "code",
      "metadata": {
        "colab": {
          "base_uri": "https://localhost:8080/",
          "height": 422
        },
        "id": "ecQlcM1STKOi",
        "outputId": "b33c6f56-fac3-4ed9-944b-2c213948953b"
      },
      "source": [
        "d(new_df.head())\r\n",
        "df_confusion"
      ],
      "execution_count": null,
      "outputs": [
        {
          "output_type": "display_data",
          "data": {
            "text/html": [
              "<div>\n",
              "<style scoped>\n",
              "    .dataframe tbody tr th:only-of-type {\n",
              "        vertical-align: middle;\n",
              "    }\n",
              "\n",
              "    .dataframe tbody tr th {\n",
              "        vertical-align: top;\n",
              "    }\n",
              "\n",
              "    .dataframe thead th {\n",
              "        text-align: right;\n",
              "    }\n",
              "</style>\n",
              "<table border=\"1\" class=\"dataframe\">\n",
              "  <thead>\n",
              "    <tr style=\"text-align: right;\">\n",
              "      <th></th>\n",
              "      <th>churn</th>\n",
              "      <th>mask0</th>\n",
              "      <th>mask1</th>\n",
              "      <th>mask2</th>\n",
              "      <th>mask3</th>\n",
              "      <th>mask4</th>\n",
              "    </tr>\n",
              "    <tr>\n",
              "      <th>client_num</th>\n",
              "      <th></th>\n",
              "      <th></th>\n",
              "      <th></th>\n",
              "      <th></th>\n",
              "      <th></th>\n",
              "      <th></th>\n",
              "    </tr>\n",
              "  </thead>\n",
              "  <tbody>\n",
              "    <tr>\n",
              "      <th>768805383</th>\n",
              "      <td>0</td>\n",
              "      <td>0</td>\n",
              "      <td>0</td>\n",
              "      <td>0</td>\n",
              "      <td>0</td>\n",
              "      <td>0</td>\n",
              "    </tr>\n",
              "    <tr>\n",
              "      <th>818770008</th>\n",
              "      <td>0</td>\n",
              "      <td>0</td>\n",
              "      <td>0</td>\n",
              "      <td>0</td>\n",
              "      <td>0</td>\n",
              "      <td>0</td>\n",
              "    </tr>\n",
              "    <tr>\n",
              "      <th>713982108</th>\n",
              "      <td>0</td>\n",
              "      <td>0</td>\n",
              "      <td>0</td>\n",
              "      <td>0</td>\n",
              "      <td>0</td>\n",
              "      <td>0</td>\n",
              "    </tr>\n",
              "    <tr>\n",
              "      <th>769911858</th>\n",
              "      <td>0</td>\n",
              "      <td>0</td>\n",
              "      <td>0</td>\n",
              "      <td>0</td>\n",
              "      <td>0</td>\n",
              "      <td>0</td>\n",
              "    </tr>\n",
              "    <tr>\n",
              "      <th>709106358</th>\n",
              "      <td>0</td>\n",
              "      <td>0</td>\n",
              "      <td>0</td>\n",
              "      <td>0</td>\n",
              "      <td>0</td>\n",
              "      <td>0</td>\n",
              "    </tr>\n",
              "  </tbody>\n",
              "</table>\n",
              "</div>"
            ],
            "text/plain": [
              "            churn  mask0  mask1  mask2  mask3  mask4\n",
              "client_num                                          \n",
              "768805383       0      0      0      0      0      0\n",
              "818770008       0      0      0      0      0      0\n",
              "713982108       0      0      0      0      0      0\n",
              "769911858       0      0      0      0      0      0\n",
              "709106358       0      0      0      0      0      0"
            ]
          },
          "metadata": {
            "tags": []
          }
        },
        {
          "output_type": "execute_result",
          "data": {
            "text/html": [
              "<div>\n",
              "<style scoped>\n",
              "    .dataframe tbody tr th:only-of-type {\n",
              "        vertical-align: middle;\n",
              "    }\n",
              "\n",
              "    .dataframe tbody tr th {\n",
              "        vertical-align: top;\n",
              "    }\n",
              "\n",
              "    .dataframe thead th {\n",
              "        text-align: right;\n",
              "    }\n",
              "</style>\n",
              "<table border=\"1\" class=\"dataframe\">\n",
              "  <thead>\n",
              "    <tr style=\"text-align: right;\">\n",
              "      <th></th>\n",
              "      <th>Recall</th>\n",
              "      <th>Precision</th>\n",
              "      <th>Accuracy</th>\n",
              "      <th>F-measure</th>\n",
              "    </tr>\n",
              "  </thead>\n",
              "  <tbody>\n",
              "    <tr>\n",
              "      <th>df.contacts_count_12_mon &gt; 4</th>\n",
              "      <td>49.13</td>\n",
              "      <td>6.95</td>\n",
              "      <td>2.27</td>\n",
              "      <td>12.18</td>\n",
              "    </tr>\n",
              "    <tr>\n",
              "      <th>(df.total_revolving_bal &lt; 250) | (df.total_revolving_bal &gt; 2500)</th>\n",
              "      <td>35.84</td>\n",
              "      <td>66.75</td>\n",
              "      <td>29.92</td>\n",
              "      <td>46.64</td>\n",
              "    </tr>\n",
              "    <tr>\n",
              "      <th>df.total_trans_ct &lt; 100</th>\n",
              "      <td>17.24</td>\n",
              "      <td>100.00</td>\n",
              "      <td>93.22</td>\n",
              "      <td>29.41</td>\n",
              "    </tr>\n",
              "    <tr>\n",
              "      <th>df.total_ct_chng_q4_q1 &lt; 1.6</th>\n",
              "      <td>16.15</td>\n",
              "      <td>99.82</td>\n",
              "      <td>99.31</td>\n",
              "      <td>27.80</td>\n",
              "    </tr>\n",
              "    <tr>\n",
              "      <th>df.female == 1</th>\n",
              "      <td>17.36</td>\n",
              "      <td>57.16</td>\n",
              "      <td>52.91</td>\n",
              "      <td>26.63</td>\n",
              "    </tr>\n",
              "  </tbody>\n",
              "</table>\n",
              "</div>"
            ],
            "text/plain": [
              "                                                    Recall  ...  F-measure\n",
              "df.contacts_count_12_mon > 4                         49.13  ...      12.18\n",
              "(df.total_revolving_bal < 250) | (df.total_revo...   35.84  ...      46.64\n",
              "df.total_trans_ct < 100                              17.24  ...      29.41\n",
              "df.total_ct_chng_q4_q1 < 1.6                         16.15  ...      27.80\n",
              "df.female == 1                                       17.36  ...      26.63\n",
              "\n",
              "[5 rows x 4 columns]"
            ]
          },
          "metadata": {
            "tags": []
          },
          "execution_count": 75
        }
      ]
    },
    {
      "cell_type": "markdown",
      "metadata": {
        "id": "pVjaUEB_gocr"
      },
      "source": [
        "## check all 31 combinations of these 5 conditions"
      ]
    },
    {
      "cell_type": "code",
      "metadata": {
        "colab": {
          "base_uri": "https://localhost:8080/",
          "height": 35
        },
        "id": "n8FhHXR2qLN1",
        "outputId": "59f290d6-d922-481c-8f8b-20d441d048cb"
      },
      "source": [
        "from itertools import product\r\n",
        "mask = list(masks.copy())\r\n",
        "mask = [0,1,2,3,4]\r\n",
        "values = {\r\n",
        "    'a': mask,\r\n",
        "    'b': mask,\r\n",
        "    'c': mask,\r\n",
        "    'd': mask,\r\n",
        "    'e': mask\r\n",
        "}\r\n",
        "case = ['a', 'b', 'c', 'd', 'e']\r\n",
        "coms = product(*[values[c] for c in case])\r\n",
        "new_coms = []\r\n",
        "for c in coms:\r\n",
        "  s = list(set(c))\r\n",
        "  if s not in new_coms:\r\n",
        "    new_coms.append(s)\r\n",
        "s = [] \r\n",
        "#masks[s[0]]\r\n",
        "for sub_s in sorted(new_coms):\r\n",
        "  s0 = ''\r\n",
        "  for i in sub_s:\r\n",
        "    s0 += f'({masks[i]}) & ' \r\n",
        "  s.append(s0[:-3])\r\n",
        "len(s)\r\n",
        "s[1] "
      ],
      "execution_count": null,
      "outputs": [
        {
          "output_type": "execute_result",
          "data": {
            "application/vnd.google.colaboratory.intrinsic+json": {
              "type": "string"
            },
            "text/plain": [
              "'(df.contacts_count_12_mon > 4) & ((df.total_revolving_bal < 250) | (df.total_revolving_bal > 2500))'"
            ]
          },
          "metadata": {
            "tags": []
          },
          "execution_count": 76
        }
      ]
    },
    {
      "cell_type": "code",
      "metadata": {
        "id": "_FwfzG8SbxOf"
      },
      "source": [
        "df_confusion = pd.DataFrame(columns=('Recall', 'Precision', 'Accuracy', 'F-measure')) \r\n",
        "for i in range(len(s)):\r\n",
        "  df.loc[pd.eval(s[i]), 'temp'] = 'True'\r\n",
        "  df.loc[~pd.eval(s[i]), 'temp'] = 'False'\r\n",
        "  df_pf = pd.crosstab(df['temp'], df.churn, margins=True)\r\n",
        "  calc_confusion(df_pf, show=False, row=s[i], new_df=df_confusion, print_results=False)\r\n",
        "  new_df['mask' + str(i)] = df.predict_churn\r\n",
        "df.drop('temp', axis=1, inplace=True)  "
      ],
      "execution_count": null,
      "outputs": []
    },
    {
      "cell_type": "code",
      "metadata": {
        "colab": {
          "base_uri": "https://localhost:8080/",
          "height": 1000
        },
        "id": "JN_E53fFdyyS",
        "outputId": "91c07de1-13c5-491d-b423-e2c256acb532"
      },
      "source": [
        "#d(new_df.head())\r\n",
        "#p(df_confusion.shape)\r\n",
        "df_confusion.sort_values('Recall', axis=0, ascending=False, inplace=True)\r\n",
        "df_confusion['row'] = range(1, len(df_confusion.index) + 1)\r\n",
        "df_confusion"
      ],
      "execution_count": null,
      "outputs": [
        {
          "output_type": "execute_result",
          "data": {
            "text/html": [
              "<div>\n",
              "<style scoped>\n",
              "    .dataframe tbody tr th:only-of-type {\n",
              "        vertical-align: middle;\n",
              "    }\n",
              "\n",
              "    .dataframe tbody tr th {\n",
              "        vertical-align: top;\n",
              "    }\n",
              "\n",
              "    .dataframe thead th {\n",
              "        text-align: right;\n",
              "    }\n",
              "</style>\n",
              "<table border=\"1\" class=\"dataframe\">\n",
              "  <thead>\n",
              "    <tr style=\"text-align: right;\">\n",
              "      <th></th>\n",
              "      <th>Recall</th>\n",
              "      <th>Precision</th>\n",
              "      <th>Accuracy</th>\n",
              "      <th>F-measure</th>\n",
              "      <th>row</th>\n",
              "    </tr>\n",
              "  </thead>\n",
              "  <tbody>\n",
              "    <tr>\n",
              "      <th>(df.contacts_count_12_mon &gt; 4) &amp; ((df.total_revolving_bal &lt; 250) | (df.total_revolving_bal &gt; 2500)) &amp; (df.total_trans_ct &lt; 100) &amp; (df.total_ct_chng_q4_q1 &lt; 1.6) &amp; (df.female == 1)</th>\n",
              "      <td>84.62</td>\n",
              "      <td>2.70</td>\n",
              "      <td>0.51</td>\n",
              "      <td>5.23</td>\n",
              "      <td>1</td>\n",
              "    </tr>\n",
              "    <tr>\n",
              "      <th>(df.contacts_count_12_mon &gt; 4) &amp; ((df.total_revolving_bal &lt; 250) | (df.total_revolving_bal &gt; 2500)) &amp; (df.total_trans_ct &lt; 100) &amp; (df.female == 1)</th>\n",
              "      <td>84.62</td>\n",
              "      <td>2.70</td>\n",
              "      <td>0.51</td>\n",
              "      <td>5.23</td>\n",
              "      <td>2</td>\n",
              "    </tr>\n",
              "    <tr>\n",
              "      <th>(df.contacts_count_12_mon &gt; 4) &amp; ((df.total_revolving_bal &lt; 250) | (df.total_revolving_bal &gt; 2500)) &amp; (df.total_ct_chng_q4_q1 &lt; 1.6) &amp; (df.female == 1)</th>\n",
              "      <td>84.62</td>\n",
              "      <td>2.70</td>\n",
              "      <td>0.51</td>\n",
              "      <td>5.23</td>\n",
              "      <td>3</td>\n",
              "    </tr>\n",
              "    <tr>\n",
              "      <th>(df.contacts_count_12_mon &gt; 4) &amp; ((df.total_revolving_bal &lt; 250) | (df.total_revolving_bal &gt; 2500)) &amp; (df.female == 1)</th>\n",
              "      <td>84.62</td>\n",
              "      <td>2.70</td>\n",
              "      <td>0.51</td>\n",
              "      <td>5.23</td>\n",
              "      <td>4</td>\n",
              "    </tr>\n",
              "    <tr>\n",
              "      <th>(df.contacts_count_12_mon &gt; 4) &amp; ((df.total_revolving_bal &lt; 250) | (df.total_revolving_bal &gt; 2500)) &amp; (df.total_trans_ct &lt; 100)</th>\n",
              "      <td>75.96</td>\n",
              "      <td>4.86</td>\n",
              "      <td>1.03</td>\n",
              "      <td>9.14</td>\n",
              "      <td>5</td>\n",
              "    </tr>\n",
              "    <tr>\n",
              "      <th>(df.contacts_count_12_mon &gt; 4) &amp; ((df.total_revolving_bal &lt; 250) | (df.total_revolving_bal &gt; 2500)) &amp; (df.total_trans_ct &lt; 100) &amp; (df.total_ct_chng_q4_q1 &lt; 1.6)</th>\n",
              "      <td>75.73</td>\n",
              "      <td>4.79</td>\n",
              "      <td>1.02</td>\n",
              "      <td>9.01</td>\n",
              "      <td>6</td>\n",
              "    </tr>\n",
              "    <tr>\n",
              "      <th>(df.contacts_count_12_mon &gt; 4) &amp; ((df.total_revolving_bal &lt; 250) | (df.total_revolving_bal &gt; 2500))</th>\n",
              "      <td>74.53</td>\n",
              "      <td>4.86</td>\n",
              "      <td>1.05</td>\n",
              "      <td>9.12</td>\n",
              "      <td>7</td>\n",
              "    </tr>\n",
              "    <tr>\n",
              "      <th>(df.contacts_count_12_mon &gt; 4) &amp; ((df.total_revolving_bal &lt; 250) | (df.total_revolving_bal &gt; 2500)) &amp; (df.total_ct_chng_q4_q1 &lt; 1.6)</th>\n",
              "      <td>74.29</td>\n",
              "      <td>4.79</td>\n",
              "      <td>1.04</td>\n",
              "      <td>9.00</td>\n",
              "      <td>8</td>\n",
              "    </tr>\n",
              "    <tr>\n",
              "      <th>(df.contacts_count_12_mon &gt; 4) &amp; (df.total_trans_ct &lt; 100) &amp; (df.total_ct_chng_q4_q1 &lt; 1.6) &amp; (df.female == 1)</th>\n",
              "      <td>66.67</td>\n",
              "      <td>3.81</td>\n",
              "      <td>0.92</td>\n",
              "      <td>7.21</td>\n",
              "      <td>9</td>\n",
              "    </tr>\n",
              "    <tr>\n",
              "      <th>(df.contacts_count_12_mon &gt; 4) &amp; (df.total_trans_ct &lt; 100) &amp; (df.female == 1)</th>\n",
              "      <td>66.67</td>\n",
              "      <td>3.81</td>\n",
              "      <td>0.92</td>\n",
              "      <td>7.21</td>\n",
              "      <td>10</td>\n",
              "    </tr>\n",
              "    <tr>\n",
              "      <th>(df.contacts_count_12_mon &gt; 4) &amp; (df.female == 1)</th>\n",
              "      <td>64.58</td>\n",
              "      <td>3.81</td>\n",
              "      <td>0.95</td>\n",
              "      <td>7.20</td>\n",
              "      <td>11</td>\n",
              "    </tr>\n",
              "    <tr>\n",
              "      <th>(df.contacts_count_12_mon &gt; 4) &amp; (df.total_ct_chng_q4_q1 &lt; 1.6) &amp; (df.female == 1)</th>\n",
              "      <td>64.58</td>\n",
              "      <td>3.81</td>\n",
              "      <td>0.95</td>\n",
              "      <td>7.20</td>\n",
              "      <td>12</td>\n",
              "    </tr>\n",
              "    <tr>\n",
              "      <th>(df.contacts_count_12_mon &gt; 4) &amp; (df.total_trans_ct &lt; 100) &amp; (df.total_ct_chng_q4_q1 &lt; 1.6)</th>\n",
              "      <td>51.38</td>\n",
              "      <td>6.88</td>\n",
              "      <td>2.15</td>\n",
              "      <td>12.14</td>\n",
              "      <td>13</td>\n",
              "    </tr>\n",
              "    <tr>\n",
              "      <th>(df.contacts_count_12_mon &gt; 4) &amp; (df.total_trans_ct &lt; 100)</th>\n",
              "      <td>51.36</td>\n",
              "      <td>6.95</td>\n",
              "      <td>2.17</td>\n",
              "      <td>12.24</td>\n",
              "      <td>14</td>\n",
              "    </tr>\n",
              "    <tr>\n",
              "      <th>(df.contacts_count_12_mon &gt; 4)</th>\n",
              "      <td>49.13</td>\n",
              "      <td>6.95</td>\n",
              "      <td>2.27</td>\n",
              "      <td>12.18</td>\n",
              "      <td>15</td>\n",
              "    </tr>\n",
              "    <tr>\n",
              "      <th>(df.contacts_count_12_mon &gt; 4) &amp; (df.total_ct_chng_q4_q1 &lt; 1.6)</th>\n",
              "      <td>49.12</td>\n",
              "      <td>6.88</td>\n",
              "      <td>2.25</td>\n",
              "      <td>12.07</td>\n",
              "      <td>16</td>\n",
              "    </tr>\n",
              "    <tr>\n",
              "      <th>((df.total_revolving_bal &lt; 250) | (df.total_revolving_bal &gt; 2500)) &amp; (df.total_trans_ct &lt; 100) &amp; (df.total_ct_chng_q4_q1 &lt; 1.6) &amp; (df.female == 1)</th>\n",
              "      <td>38.91</td>\n",
              "      <td>38.72</td>\n",
              "      <td>15.99</td>\n",
              "      <td>38.81</td>\n",
              "      <td>17</td>\n",
              "    </tr>\n",
              "    <tr>\n",
              "      <th>((df.total_revolving_bal &lt; 250) | (df.total_revolving_bal &gt; 2500)) &amp; (df.total_trans_ct &lt; 100) &amp; (df.female == 1)</th>\n",
              "      <td>38.85</td>\n",
              "      <td>38.78</td>\n",
              "      <td>16.04</td>\n",
              "      <td>38.81</td>\n",
              "      <td>18</td>\n",
              "    </tr>\n",
              "    <tr>\n",
              "      <th>((df.total_revolving_bal &lt; 250) | (df.total_revolving_bal &gt; 2500)) &amp; (df.total_ct_chng_q4_q1 &lt; 1.6) &amp; (df.female == 1)</th>\n",
              "      <td>37.61</td>\n",
              "      <td>38.72</td>\n",
              "      <td>16.54</td>\n",
              "      <td>38.16</td>\n",
              "      <td>19</td>\n",
              "    </tr>\n",
              "    <tr>\n",
              "      <th>((df.total_revolving_bal &lt; 250) | (df.total_revolving_bal &gt; 2500)) &amp; (df.female == 1)</th>\n",
              "      <td>37.56</td>\n",
              "      <td>38.78</td>\n",
              "      <td>16.59</td>\n",
              "      <td>38.16</td>\n",
              "      <td>20</td>\n",
              "    </tr>\n",
              "    <tr>\n",
              "      <th>((df.total_revolving_bal &lt; 250) | (df.total_revolving_bal &gt; 2500)) &amp; (df.total_trans_ct &lt; 100) &amp; (df.total_ct_chng_q4_q1 &lt; 1.6)</th>\n",
              "      <td>37.50</td>\n",
              "      <td>66.56</td>\n",
              "      <td>28.52</td>\n",
              "      <td>47.97</td>\n",
              "      <td>21</td>\n",
              "    </tr>\n",
              "    <tr>\n",
              "      <th>((df.total_revolving_bal &lt; 250) | (df.total_revolving_bal &gt; 2500)) &amp; (df.total_trans_ct &lt; 100)</th>\n",
              "      <td>37.44</td>\n",
              "      <td>66.75</td>\n",
              "      <td>28.65</td>\n",
              "      <td>47.97</td>\n",
              "      <td>22</td>\n",
              "    </tr>\n",
              "    <tr>\n",
              "      <th>((df.total_revolving_bal &lt; 250) | (df.total_revolving_bal &gt; 2500)) &amp; (df.total_ct_chng_q4_q1 &lt; 1.6)</th>\n",
              "      <td>35.90</td>\n",
              "      <td>66.56</td>\n",
              "      <td>29.79</td>\n",
              "      <td>46.64</td>\n",
              "      <td>23</td>\n",
              "    </tr>\n",
              "    <tr>\n",
              "      <th>((df.total_revolving_bal &lt; 250) | (df.total_revolving_bal &gt; 2500))</th>\n",
              "      <td>35.84</td>\n",
              "      <td>66.75</td>\n",
              "      <td>29.92</td>\n",
              "      <td>46.64</td>\n",
              "      <td>24</td>\n",
              "    </tr>\n",
              "    <tr>\n",
              "      <th>(df.total_trans_ct &lt; 100) &amp; (df.total_ct_chng_q4_q1 &lt; 1.6) &amp; (df.female == 1)</th>\n",
              "      <td>18.36</td>\n",
              "      <td>57.10</td>\n",
              "      <td>49.96</td>\n",
              "      <td>27.79</td>\n",
              "      <td>25</td>\n",
              "    </tr>\n",
              "    <tr>\n",
              "      <th>(df.total_trans_ct &lt; 100) &amp; (df.female == 1)</th>\n",
              "      <td>18.29</td>\n",
              "      <td>57.16</td>\n",
              "      <td>50.20</td>\n",
              "      <td>27.71</td>\n",
              "      <td>26</td>\n",
              "    </tr>\n",
              "    <tr>\n",
              "      <th>(df.total_ct_chng_q4_q1 &lt; 1.6) &amp; (df.female == 1)</th>\n",
              "      <td>17.42</td>\n",
              "      <td>57.10</td>\n",
              "      <td>52.66</td>\n",
              "      <td>26.70</td>\n",
              "      <td>27</td>\n",
              "    </tr>\n",
              "    <tr>\n",
              "      <th>(df.female == 1)</th>\n",
              "      <td>17.36</td>\n",
              "      <td>57.16</td>\n",
              "      <td>52.91</td>\n",
              "      <td>26.63</td>\n",
              "      <td>28</td>\n",
              "    </tr>\n",
              "    <tr>\n",
              "      <th>(df.total_trans_ct &lt; 100) &amp; (df.total_ct_chng_q4_q1 &lt; 1.6)</th>\n",
              "      <td>17.33</td>\n",
              "      <td>99.82</td>\n",
              "      <td>92.52</td>\n",
              "      <td>29.53</td>\n",
              "      <td>29</td>\n",
              "    </tr>\n",
              "    <tr>\n",
              "      <th>(df.total_trans_ct &lt; 100)</th>\n",
              "      <td>17.24</td>\n",
              "      <td>100.00</td>\n",
              "      <td>93.22</td>\n",
              "      <td>29.41</td>\n",
              "      <td>30</td>\n",
              "    </tr>\n",
              "    <tr>\n",
              "      <th>(df.total_ct_chng_q4_q1 &lt; 1.6)</th>\n",
              "      <td>16.15</td>\n",
              "      <td>99.82</td>\n",
              "      <td>99.31</td>\n",
              "      <td>27.80</td>\n",
              "      <td>31</td>\n",
              "    </tr>\n",
              "  </tbody>\n",
              "</table>\n",
              "</div>"
            ],
            "text/plain": [
              "                                                    Recall  ...  row\n",
              "(df.contacts_count_12_mon > 4) & ((df.total_rev...   84.62  ...    1\n",
              "(df.contacts_count_12_mon > 4) & ((df.total_rev...   84.62  ...    2\n",
              "(df.contacts_count_12_mon > 4) & ((df.total_rev...   84.62  ...    3\n",
              "(df.contacts_count_12_mon > 4) & ((df.total_rev...   84.62  ...    4\n",
              "(df.contacts_count_12_mon > 4) & ((df.total_rev...   75.96  ...    5\n",
              "(df.contacts_count_12_mon > 4) & ((df.total_rev...   75.73  ...    6\n",
              "(df.contacts_count_12_mon > 4) & ((df.total_rev...   74.53  ...    7\n",
              "(df.contacts_count_12_mon > 4) & ((df.total_rev...   74.29  ...    8\n",
              "(df.contacts_count_12_mon > 4) & (df.total_tran...   66.67  ...    9\n",
              "(df.contacts_count_12_mon > 4) & (df.total_tran...   66.67  ...   10\n",
              "(df.contacts_count_12_mon > 4) & (df.female == 1)    64.58  ...   11\n",
              "(df.contacts_count_12_mon > 4) & (df.total_ct_c...   64.58  ...   12\n",
              "(df.contacts_count_12_mon > 4) & (df.total_tran...   51.38  ...   13\n",
              "(df.contacts_count_12_mon > 4) & (df.total_tran...   51.36  ...   14\n",
              "(df.contacts_count_12_mon > 4)                       49.13  ...   15\n",
              "(df.contacts_count_12_mon > 4) & (df.total_ct_c...   49.12  ...   16\n",
              "((df.total_revolving_bal < 250) | (df.total_rev...   38.91  ...   17\n",
              "((df.total_revolving_bal < 250) | (df.total_rev...   38.85  ...   18\n",
              "((df.total_revolving_bal < 250) | (df.total_rev...   37.61  ...   19\n",
              "((df.total_revolving_bal < 250) | (df.total_rev...   37.56  ...   20\n",
              "((df.total_revolving_bal < 250) | (df.total_rev...   37.50  ...   21\n",
              "((df.total_revolving_bal < 250) | (df.total_rev...   37.44  ...   22\n",
              "((df.total_revolving_bal < 250) | (df.total_rev...   35.90  ...   23\n",
              "((df.total_revolving_bal < 250) | (df.total_rev...   35.84  ...   24\n",
              "(df.total_trans_ct < 100) & (df.total_ct_chng_q...   18.36  ...   25\n",
              "(df.total_trans_ct < 100) & (df.female == 1)         18.29  ...   26\n",
              "(df.total_ct_chng_q4_q1 < 1.6) & (df.female == 1)    17.42  ...   27\n",
              "(df.female == 1)                                     17.36  ...   28\n",
              "(df.total_trans_ct < 100) & (df.total_ct_chng_q...   17.33  ...   29\n",
              "(df.total_trans_ct < 100)                            17.24  ...   30\n",
              "(df.total_ct_chng_q4_q1 < 1.6)                       16.15  ...   31\n",
              "\n",
              "[31 rows x 5 columns]"
            ]
          },
          "metadata": {
            "tags": []
          },
          "execution_count": 78
        }
      ]
    },
    {
      "cell_type": "code",
      "metadata": {
        "colab": {
          "base_uri": "https://localhost:8080/",
          "height": 497
        },
        "id": "Emb03fHfxkog",
        "outputId": "797a656b-4b0f-407a-dbec-e096c0cde5e1"
      },
      "source": [
        "plt.figure(figsize=(12, 8))\r\n",
        "ax = sns.lineplot(data=df_confusion[df_confusion.columns[:-1]])\r\n",
        "l = range(31)\r\n",
        "  # change the x ticks from the defualt one that is not readable\r\n",
        "ax.set_xticklabels(l)\r\n",
        "plt.xlabel('condition number (row in table')\r\n",
        "plt.ylabel('Percetage')\r\n",
        "plt.show()    # no printout of  comments by matplotlib"
      ],
      "execution_count": null,
      "outputs": [
        {
          "output_type": "display_data",
          "data": {
            "image/png": "[encoded data removed]",
            "text/plain": [
              "<Figure size 864x576 with 1 Axes>"
            ]
          },
          "metadata": {
            "tags": [],
            "needs_background": "light"
          }
        }
      ]
    },
    {
      "cell_type": "markdown",
      "metadata": {
        "id": "OYy9AKpHCBO4"
      },
      "source": [
        "#Inquiries:"
      ]
    },
    {
      "cell_type": "markdown",
      "metadata": {
        "id": "PtT09LxlCIE2"
      },
      "source": [
        "## 1. Credit card type versus Income"
      ]
    },
    {
      "cell_type": "code",
      "metadata": {
        "colab": {
          "base_uri": "https://localhost:8080/",
          "height": 544
        },
        "id": "2HGkDx1Fkicj",
        "outputId": "c2403461-6b4f-43c1-f1c9-dbc143a28580"
      },
      "source": [
        "d(df.groupby(['card','income_category'])['churn'].count())\r\n",
        "df['card'].value_counts()"
      ],
      "execution_count": null,
      "outputs": [
        {
          "output_type": "display_data",
          "data": {
            "text/plain": [
              "card  income_category\n",
              "1     0                  1045\n",
              "      1                  3403\n",
              "      2                  1675\n",
              "      3                  1395\n",
              "      4                  1273\n",
              "      5                   645\n",
              "2     0                    53\n",
              "      1                   130\n",
              "      2                    99\n",
              "      3                   117\n",
              "      4                    96\n",
              "      5                    60\n",
              "3     0                     9\n",
              "      1                    24\n",
              "      2                    15\n",
              "      3                    21\n",
              "      4                    29\n",
              "      5                    18\n",
              "4     0                     5\n",
              "      1                     4\n",
              "      2                     1\n",
              "      3                     2\n",
              "      4                     4\n",
              "      5                     4\n",
              "Name: churn, dtype: int64"
            ]
          },
          "metadata": {
            "tags": []
          }
        },
        {
          "output_type": "execute_result",
          "data": {
            "text/plain": [
              "1    9436\n",
              "2     555\n",
              "3     116\n",
              "4      20\n",
              "Name: card, dtype: int64"
            ]
          },
          "metadata": {
            "tags": []
          },
          "execution_count": 80
        }
      ]
    },
    {
      "cell_type": "code",
      "metadata": {
        "colab": {
          "base_uri": "https://localhost:8080/",
          "height": 388
        },
        "id": "88yhwKfRCzbu",
        "outputId": "257e0dbd-9856-468a-c4b4-eb0053506269"
      },
      "source": [
        "fig = plt.figure(figsize=(10, 6))\r\n",
        "#sns.countplot(x='income_category', hue='card', data=df)\r\n",
        "ax = sns.countplot(hue='income_category', x='card', data=df)\r\n",
        "ax.set_xticklabels(cards[1:])\r\n",
        "plt.legend(incs)\r\n",
        "plt.show()"
      ],
      "execution_count": null,
      "outputs": [
        {
          "output_type": "display_data",
          "data": {
            "image/png": "[encoded data removed]",
            "text/plain": [
              "<Figure size 720x432 with 1 Axes>"
            ]
          },
          "metadata": {
            "tags": [],
            "needs_background": "light"
          }
        }
      ]
    },
    {
      "cell_type": "markdown",
      "metadata": {
        "id": "fIcrlsBOKGWQ"
      },
      "source": [
        "## 2. Credit card type versus age"
      ]
    },
    {
      "cell_type": "code",
      "metadata": {
        "colab": {
          "base_uri": "https://localhost:8080/",
          "height": 388
        },
        "id": "w58o7YcPKn3p",
        "outputId": "525662d1-251e-40b6-9184-e289bc564e06"
      },
      "source": [
        "bins = makebins(df['age'], interval=16, start=20)\r\n",
        "df['age_binned'] = pd.cut(df['age'], bins, include_lowest=False)\r\n",
        "fig = plt.figure(figsize=(10, 6))\r\n",
        "ax = sns.countplot(hue='age_binned', x='card', data=df)\r\n",
        "ax.set_xticklabels(cards[1:])\r\n",
        "plt.legend(loc='upper right')\r\n",
        "plt.show()"
      ],
      "execution_count": null,
      "outputs": [
        {
          "output_type": "display_data",
          "data": {
            "image/png": "[encoded data removed]",
            "text/plain": [
              "<Figure size 720x432 with 1 Axes>"
            ]
          },
          "metadata": {
            "tags": [],
            "needs_background": "light"
          }
        }
      ]
    },
    {
      "cell_type": "markdown",
      "metadata": {
        "id": "N47Q6q8mNLCo"
      },
      "source": [
        "## 3. Credit card type versus gender"
      ]
    },
    {
      "cell_type": "code",
      "metadata": {
        "colab": {
          "base_uri": "https://localhost:8080/",
          "height": 388
        },
        "id": "u8eD4BbENLDg",
        "outputId": "28841049-ca69-4bd6-917d-f881c18f85ff"
      },
      "source": [
        "fig = plt.figure(figsize=(10, 6))\r\n",
        "ax = sns.countplot(hue='female', x='card', data=df)\r\n",
        "ax.set_xticklabels(cards[1:])\r\n",
        "#plt.legend(loc='upper right')\r\n",
        "plt.show()"
      ],
      "execution_count": null,
      "outputs": [
        {
          "output_type": "display_data",
          "data": {
            "image/png": "[encoded data removed]",
            "text/plain": [
              "<Figure size 720x432 with 1 Axes>"
            ]
          },
          "metadata": {
            "tags": [],
            "needs_background": "light"
          }
        }
      ]
    },
    {
      "cell_type": "markdown",
      "metadata": {
        "id": "Ke0iH32MNnjL"
      },
      "source": [
        "## 4. Spending versus gender - females spend more, although their credit limit is lower (see below)"
      ]
    },
    {
      "cell_type": "code",
      "metadata": {
        "colab": {
          "base_uri": "https://localhost:8080/",
          "height": 404
        },
        "id": "onFY6z-QNnjN",
        "outputId": "89db71ce-af12-4ed0-949f-14785183ccf1"
      },
      "source": [
        "bins = makebins(df['total_revolving_bal'], interval=400, start=0)\r\n",
        "df['binned'] = pd.cut(df['total_revolving_bal'], bins, include_lowest=False)\r\n",
        "fig = plt.figure(figsize=(16, 6))\r\n",
        "ax = sns.countplot(hue='binned', x='female', data=df)\r\n",
        "#ax.set_xticklabels(cards[1:])\r\n",
        "#plt.legend(loc='upper right')\r\n",
        "plt.title('Total_revolving_bal ($) versus Gender')\r\n",
        "plt.show()"
      ],
      "execution_count": null,
      "outputs": [
        {
          "output_type": "display_data",
          "data": {
            "image/png": "[encoded data removed]",
            "text/plain": [
              "<Figure size 1152x432 with 1 Axes>"
            ]
          },
          "metadata": {
            "tags": [],
            "needs_background": "light"
          }
        }
      ]
    },
    {
      "cell_type": "code",
      "metadata": {
        "colab": {
          "base_uri": "https://localhost:8080/"
        },
        "id": "ZRj0V8I2OsNn",
        "outputId": "13febf05-4e86-4639-f5a9-c74e108abe3d"
      },
      "source": [
        "df[['binned','female']].value_counts(sort=False)"
      ],
      "execution_count": null,
      "outputs": [
        {
          "output_type": "execute_result",
          "data": {
            "text/plain": [
              "binned            female\n",
              "(0.0, 400.0]      0           37\n",
              "                  1           36\n",
              "(400.0, 800.0]    0          311\n",
              "                  1          363\n",
              "(800.0, 1200.0]   0          691\n",
              "                  1          809\n",
              "(1200.0, 1600.0]  0          974\n",
              "                  1         1015\n",
              "(1600.0, 2000.0]  0          871\n",
              "                  1          885\n",
              "(2000.0, 2400.0]  0          484\n",
              "                  1          489\n",
              "(2400.0, 2800.0]  0          307\n",
              "                  1          385\n",
              "dtype: int64"
            ]
          },
          "metadata": {
            "tags": []
          },
          "execution_count": 85
        }
      ]
    },
    {
      "cell_type": "markdown",
      "metadata": {
        "id": "KvOtTWGvRWMP"
      },
      "source": [
        "## 5. Credit limit versus gender - Credit limit for females is much lower"
      ]
    },
    {
      "cell_type": "code",
      "metadata": {
        "colab": {
          "base_uri": "https://localhost:8080/",
          "height": 404
        },
        "id": "8uQqYw1LRWMy",
        "outputId": "cc6aac23-aad4-4cdb-e66c-855c0bf325de"
      },
      "source": [
        "bins = makebins(df['credit_limit'], interval=10000, start=1200)\r\n",
        "df['binned'] = pd.cut(df['credit_limit'], bins, include_lowest=False)\r\n",
        "fig = plt.figure(figsize=(16, 6))\r\n",
        "ax = sns.countplot(hue='binned', x='female', data=df)\r\n",
        "plt.title('redit_limit ($) versus Gender')\r\n",
        "plt.show()"
      ],
      "execution_count": null,
      "outputs": [
        {
          "output_type": "display_data",
          "data": {
            "image/png": "[encoded data removed]",
            "text/plain": [
              "<Figure size 1152x432 with 1 Axes>"
            ]
          },
          "metadata": {
            "tags": [],
            "needs_background": "light"
          }
        }
      ]
    },
    {
      "cell_type": "code",
      "metadata": {
        "colab": {
          "base_uri": "https://localhost:8080/"
        },
        "id": "EsJFiN4SRWM3",
        "outputId": "07574341-64b4-4290-a01b-05ca2adb2fe9"
      },
      "source": [
        "df[['binned','female']].value_counts(sort=False)"
      ],
      "execution_count": null,
      "outputs": [
        {
          "output_type": "execute_result",
          "data": {
            "text/plain": [
              "binned              female\n",
              "(1200.0, 10900.0]   0         2712\n",
              "                    1         4852\n",
              "(10900.0, 20600.0]  0          969\n",
              "                    1          370\n",
              "(20600.0, 30300.0]  0          496\n",
              "                    1           72\n",
              "(30300.0, 40000.0]  0          592\n",
              "                    1           64\n",
              "dtype: int64"
            ]
          },
          "metadata": {
            "tags": []
          },
          "execution_count": 87
        }
      ]
    },
    {
      "cell_type": "markdown",
      "metadata": {
        "id": "Brp8qhe4TPGP"
      },
      "source": [
        "## 6. Utilization versus gender - Females utilize the card much better than male\r\n",
        "\r\n",
        "Ratio between (credit card spent + money withdrawal)\r\n",
        "\r\n",
        "and (Total available limit for credit card spends + Total money withdrawal limit)\r\n",
        "\r\n",
        "That is because male get credit limit higher than they use\r\n",
        "\r\n",
        "Recommendation: Increase credit limit of females"
      ]
    },
    {
      "cell_type": "code",
      "metadata": {
        "colab": {
          "base_uri": "https://localhost:8080/",
          "height": 404
        },
        "id": "qVWWmAnPTPGy",
        "outputId": "2443b3cd-dd99-4ed2-d091-c21129174ba0"
      },
      "source": [
        "bins = makebins(df['avg_utilization_ratio'], interval=0.2, start=0)\r\n",
        "df['binned'] = pd.cut(df['avg_utilization_ratio'], bins, include_lowest=False)\r\n",
        "fig = plt.figure(figsize=(16, 6))\r\n",
        "ax = sns.countplot(hue='binned', x='female', data=df)\r\n",
        "plt.title('avg_utilization_ratio versus Gender')\r\n",
        "plt.show()"
      ],
      "execution_count": null,
      "outputs": [
        {
          "output_type": "display_data",
          "data": {
            "image/png": "[encoded data removed]",
            "text/plain": [
              "<Figure size 1152x432 with 1 Axes>"
            ]
          },
          "metadata": {
            "tags": [],
            "needs_background": "light"
          }
        }
      ]
    },
    {
      "cell_type": "code",
      "metadata": {
        "colab": {
          "base_uri": "https://localhost:8080/"
        },
        "id": "cChGshJjTPG4",
        "outputId": "60505d28-f499-432b-f947-08f5235efb00"
      },
      "source": [
        "df[['binned','female']].value_counts(sort=False)"
      ],
      "execution_count": null,
      "outputs": [
        {
          "output_type": "execute_result",
          "data": {
            "text/plain": [
              "binned      female\n",
              "(0.0, 0.2]  0         2059\n",
              "            1          817\n",
              "(0.2, 0.4]  0          711\n",
              "            1          854\n",
              "(0.4, 0.6]  0          453\n",
              "            1          961\n",
              "(0.6, 0.8]  0          338\n",
              "            1          997\n",
              "(0.8, 1.0]  0          114\n",
              "            1          353\n",
              "dtype: int64"
            ]
          },
          "metadata": {
            "tags": []
          },
          "execution_count": 89
        }
      ]
    },
    {
      "cell_type": "markdown",
      "metadata": {
        "id": "ybn5g5j8VPos"
      },
      "source": [
        "## 7. Spending versus age - females spend more, although thier credit limit is lwoer (see below)"
      ]
    },
    {
      "cell_type": "code",
      "metadata": {
        "colab": {
          "base_uri": "https://localhost:8080/",
          "height": 405
        },
        "id": "iTb6O7zwVEMi",
        "outputId": "1f07655e-7296-45c8-9226-4978308c0acb"
      },
      "source": [
        "bins = makebins(df['total_revolving_bal'], interval=400, start=0)\r\n",
        "df['binned'] = pd.cut(df['total_revolving_bal'], bins, include_lowest=False)\r\n",
        "fig = plt.figure(figsize=(16, 6))\r\n",
        "ax = sns.countplot(hue='binned', x='age_binned', data=df)\r\n",
        "#ax.set_xticklabels(cards[1:])\r\n",
        "#plt.legend(loc='upper right')\r\n",
        "plt.title('Total_revolving_bal ($) versus age')\r\n",
        "plt.show()"
      ],
      "execution_count": null,
      "outputs": [
        {
          "output_type": "display_data",
          "data": {
            "image/png": "[encoded data removed]",
            "text/plain": [
              "<Figure size 1152x432 with 1 Axes>"
            ]
          },
          "metadata": {
            "tags": [],
            "needs_background": "light"
          }
        }
      ]
    },
    {
      "cell_type": "code",
      "metadata": {
        "colab": {
          "base_uri": "https://localhost:8080/"
        },
        "id": "W4BCiUwKVENH",
        "outputId": "514f765b-7aaf-46b1-8df6-1f9271491365"
      },
      "source": [
        "df[['age_binned','binned']].value_counts(sort=False)"
      ],
      "execution_count": null,
      "outputs": [
        {
          "output_type": "execute_result",
          "data": {
            "text/plain": [
              "age_binned    binned          \n",
              "(20.0, 32.0]  (0.0, 400.0]          1\n",
              "              (400.0, 800.0]       26\n",
              "              (800.0, 1200.0]      70\n",
              "              (1200.0, 1600.0]     94\n",
              "              (1600.0, 2000.0]     83\n",
              "              (2000.0, 2400.0]     38\n",
              "              (2400.0, 2800.0]     29\n",
              "(32.0, 44.0]  (0.0, 400.0]         21\n",
              "              (400.0, 800.0]      236\n",
              "              (800.0, 1200.0]     563\n",
              "              (1200.0, 1600.0]    716\n",
              "              (1600.0, 2000.0]    646\n",
              "              (2000.0, 2400.0]    358\n",
              "              (2400.0, 2800.0]    255\n",
              "(44.0, 56.0]  (0.0, 400.0]         41\n",
              "              (400.0, 800.0]      350\n",
              "              (800.0, 1200.0]     720\n",
              "              (1200.0, 1600.0]    961\n",
              "              (1600.0, 2000.0]    824\n",
              "              (2000.0, 2400.0]    471\n",
              "              (2400.0, 2800.0]    326\n",
              "(56.0, 68.0]  (0.0, 400.0]         10\n",
              "              (400.0, 800.0]       62\n",
              "              (800.0, 1200.0]     146\n",
              "              (1200.0, 1600.0]    217\n",
              "              (1600.0, 2000.0]    203\n",
              "              (2000.0, 2400.0]    106\n",
              "              (2400.0, 2800.0]     82\n",
              "(68.0, 80.0]  (800.0, 1200.0]       1\n",
              "              (1200.0, 1600.0]      1\n",
              "dtype: int64"
            ]
          },
          "metadata": {
            "tags": []
          },
          "execution_count": 91
        }
      ]
    },
    {
      "cell_type": "markdown",
      "metadata": {
        "id": "FEEX6ruu0h6_"
      },
      "source": [
        "# END"
      ]
    }
  ]
}