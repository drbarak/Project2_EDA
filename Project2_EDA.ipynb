{
  "nbformat": 4,
  "nbformat_minor": 0,
  "metadata": {
    "colab": {
      "name": "Project2_EDA.ipynb",
      "provenance": [],
      "collapsed_sections": [],
      "toc_visible": true,
      "authorship_tag": "ABX9TyOolcJ5GbTRzplEgKHGTVfJ",
      "include_colab_link": true
    },
    "kernelspec": {
      "name": "python3",
      "display_name": "Python 3"
    }
  },
  "cells": [
    {
      "cell_type": "markdown",
      "metadata": {
        "id": "view-in-github",
        "colab_type": "text"
      },
      "source": [
        "<a href=\"https://colab.research.google.com/github/drbarak/Project2_EDA/blob/main/Project2_EDA.ipynb\" target=\"_parent\"><img src=\"https://colab.research.google.com/assets/colab-badge.svg\" alt=\"Open In Colab\"/></a>"
      ]
    },
    {
      "cell_type": "markdown",
      "metadata": {
        "id": "EDAB2XTfV4bg"
      },
      "source": [
        "# READ CSV"
      ]
    },
    {
      "cell_type": "code",
      "metadata": {
        "id": "DbYV1ImZq95n"
      },
      "source": [
        "import pandas as pd\r\n",
        "import matplotlib.pyplot as plt\r\n",
        "import seaborn as sns\r\n",
        "\r\n",
        "p = print"
      ],
      "execution_count": 35,
      "outputs": []
    },
    {
      "cell_type": "code",
      "metadata": {
        "colab": {
          "base_uri": "https://localhost:8080/"
        },
        "id": "vzGCfWpDqkuR",
        "outputId": "47ae8cd7-bf97-497f-e82f-ba175553ac8c"
      },
      "source": [
        "try:\r\n",
        "  df = pd.read_csv('BankChurners.csv')\r\n",
        "except:\r\n",
        "  from google.colab import files\r\n",
        "  uploaded = files.upload()\r\n",
        "  df = pd.read_csv('BankChurners.csv')\r\n",
        "  \r\n",
        "df.columns"
      ],
      "execution_count": 36,
      "outputs": [
        {
          "output_type": "execute_result",
          "data": {
            "text/plain": [
              "Index(['CLIENTNUM', 'Attrition_Flag', 'Customer_Age', 'Gender',\n",
              "       'Dependent_count', 'Education_Level', 'Marital_Status',\n",
              "       'Income_Category', 'Card_Category', 'Months_on_book',\n",
              "       'Total_Relationship_Count', 'Months_Inactive_12_mon',\n",
              "       'Contacts_Count_12_mon', 'Credit_Limit', 'Total_Revolving_Bal',\n",
              "       'Avg_Open_To_Buy', 'Total_Amt_Chng_Q4_Q1', 'Total_Trans_Amt',\n",
              "       'Total_Trans_Ct', 'Total_Ct_Chng_Q4_Q1', 'Avg_Utilization_Ratio',\n",
              "       'Naive_Bayes_Classifier_Attrition_Flag_Card_Category_Contacts_Count_12_mon_Dependent_count_Education_Level_Months_Inactive_12_mon_1',\n",
              "       'Naive_Bayes_Classifier_Attrition_Flag_Card_Category_Contacts_Count_12_mon_Dependent_count_Education_Level_Months_Inactive_12_mon_2'],\n",
              "      dtype='object')"
            ]
          },
          "metadata": {
            "tags": []
          },
          "execution_count": 36
        }
      ]
    },
    {
      "cell_type": "markdown",
      "metadata": {
        "id": "B9bW3FhoWc3D"
      },
      "source": [
        "## Drop last 2 columns"
      ]
    },
    {
      "cell_type": "code",
      "metadata": {
        "colab": {
          "base_uri": "https://localhost:8080/"
        },
        "id": "QSElBpWzqrkE",
        "outputId": "4ee90036-7f72-4a5c-8014-62e94551c79b"
      },
      "source": [
        "df.drop(df.columns[-2:], axis=1, inplace=True)\r\n",
        "df.columns"
      ],
      "execution_count": 37,
      "outputs": [
        {
          "output_type": "execute_result",
          "data": {
            "text/plain": [
              "Index(['CLIENTNUM', 'Attrition_Flag', 'Customer_Age', 'Gender',\n",
              "       'Dependent_count', 'Education_Level', 'Marital_Status',\n",
              "       'Income_Category', 'Card_Category', 'Months_on_book',\n",
              "       'Total_Relationship_Count', 'Months_Inactive_12_mon',\n",
              "       'Contacts_Count_12_mon', 'Credit_Limit', 'Total_Revolving_Bal',\n",
              "       'Avg_Open_To_Buy', 'Total_Amt_Chng_Q4_Q1', 'Total_Trans_Amt',\n",
              "       'Total_Trans_Ct', 'Total_Ct_Chng_Q4_Q1', 'Avg_Utilization_Ratio'],\n",
              "      dtype='object')"
            ]
          },
          "metadata": {
            "tags": []
          },
          "execution_count": 37
        }
      ]
    },
    {
      "cell_type": "code",
      "metadata": {
        "id": "no8tqKI2rRZ0"
      },
      "source": [
        "df.rename(columns={'CLIENTNUM': 'Client_num'}, inplace=True)"
      ],
      "execution_count": 38,
      "outputs": []
    },
    {
      "cell_type": "markdown",
      "metadata": {
        "id": "EXl5DhwNWCgt"
      },
      "source": [
        "## change all columns to all lowercase"
      ]
    },
    {
      "cell_type": "code",
      "metadata": {
        "id": "ZB2Sc1jjV-QX"
      },
      "source": [
        "df.columns = df.columns.str.lower()"
      ],
      "execution_count": 39,
      "outputs": []
    },
    {
      "cell_type": "code",
      "metadata": {
        "colab": {
          "base_uri": "https://localhost:8080/"
        },
        "id": "mFEFqsgirVoB",
        "outputId": "db125084-0828-4178-f893-2e80951d5a42"
      },
      "source": [
        "df.info()"
      ],
      "execution_count": 40,
      "outputs": [
        {
          "output_type": "stream",
          "text": [
            "<class 'pandas.core.frame.DataFrame'>\n",
            "RangeIndex: 10127 entries, 0 to 10126\n",
            "Data columns (total 21 columns):\n",
            " #   Column                    Non-Null Count  Dtype  \n",
            "---  ------                    --------------  -----  \n",
            " 0   client_num                10127 non-null  int64  \n",
            " 1   attrition_flag            10127 non-null  object \n",
            " 2   customer_age              10127 non-null  int64  \n",
            " 3   gender                    10127 non-null  object \n",
            " 4   dependent_count           10127 non-null  int64  \n",
            " 5   education_level           10127 non-null  object \n",
            " 6   marital_status            10127 non-null  object \n",
            " 7   income_category           10127 non-null  object \n",
            " 8   card_category             10127 non-null  object \n",
            " 9   months_on_book            10127 non-null  int64  \n",
            " 10  total_relationship_count  10127 non-null  int64  \n",
            " 11  months_inactive_12_mon    10127 non-null  int64  \n",
            " 12  contacts_count_12_mon     10127 non-null  int64  \n",
            " 13  credit_limit              10127 non-null  float64\n",
            " 14  total_revolving_bal       10127 non-null  int64  \n",
            " 15  avg_open_to_buy           10127 non-null  float64\n",
            " 16  total_amt_chng_q4_q1      10127 non-null  float64\n",
            " 17  total_trans_amt           10127 non-null  int64  \n",
            " 18  total_trans_ct            10127 non-null  int64  \n",
            " 19  total_ct_chng_q4_q1       10127 non-null  float64\n",
            " 20  avg_utilization_ratio     10127 non-null  float64\n",
            "dtypes: float64(5), int64(10), object(6)\n",
            "memory usage: 1.6+ MB\n"
          ],
          "name": "stdout"
        }
      ]
    },
    {
      "cell_type": "code",
      "metadata": {
        "colab": {
          "base_uri": "https://localhost:8080/"
        },
        "id": "K1rZ0lwzqaNy",
        "outputId": "66bf9834-fcfb-4aa5-d3b1-cdf7fd86c256"
      },
      "source": [
        "df.client_num.nunique()"
      ],
      "execution_count": 41,
      "outputs": [
        {
          "output_type": "execute_result",
          "data": {
            "text/plain": [
              "10127"
            ]
          },
          "metadata": {
            "tags": []
          },
          "execution_count": 41
        }
      ]
    },
    {
      "cell_type": "markdown",
      "metadata": {
        "id": "cXXgixKiWyX3"
      },
      "source": [
        "## Make client_num index"
      ]
    },
    {
      "cell_type": "code",
      "metadata": {
        "id": "tmaeKaoRsQTV"
      },
      "source": [
        "df.set_index('client_num', inplace=True)"
      ],
      "execution_count": 42,
      "outputs": []
    },
    {
      "cell_type": "code",
      "metadata": {
        "colab": {
          "base_uri": "https://localhost:8080/",
          "height": 335
        },
        "id": "hJ9pf-7HsgHb",
        "outputId": "a9d1dc7f-f8ef-4a64-925e-392e50c92705"
      },
      "source": [
        "df.head()"
      ],
      "execution_count": 43,
      "outputs": [
        {
          "output_type": "execute_result",
          "data": {
            "text/html": [
              "<div>\n",
              "<style scoped>\n",
              "    .dataframe tbody tr th:only-of-type {\n",
              "        vertical-align: middle;\n",
              "    }\n",
              "\n",
              "    .dataframe tbody tr th {\n",
              "        vertical-align: top;\n",
              "    }\n",
              "\n",
              "    .dataframe thead th {\n",
              "        text-align: right;\n",
              "    }\n",
              "</style>\n",
              "<table border=\"1\" class=\"dataframe\">\n",
              "  <thead>\n",
              "    <tr style=\"text-align: right;\">\n",
              "      <th></th>\n",
              "      <th>attrition_flag</th>\n",
              "      <th>customer_age</th>\n",
              "      <th>gender</th>\n",
              "      <th>dependent_count</th>\n",
              "      <th>education_level</th>\n",
              "      <th>marital_status</th>\n",
              "      <th>income_category</th>\n",
              "      <th>card_category</th>\n",
              "      <th>months_on_book</th>\n",
              "      <th>total_relationship_count</th>\n",
              "      <th>months_inactive_12_mon</th>\n",
              "      <th>contacts_count_12_mon</th>\n",
              "      <th>credit_limit</th>\n",
              "      <th>total_revolving_bal</th>\n",
              "      <th>avg_open_to_buy</th>\n",
              "      <th>total_amt_chng_q4_q1</th>\n",
              "      <th>total_trans_amt</th>\n",
              "      <th>total_trans_ct</th>\n",
              "      <th>total_ct_chng_q4_q1</th>\n",
              "      <th>avg_utilization_ratio</th>\n",
              "    </tr>\n",
              "    <tr>\n",
              "      <th>client_num</th>\n",
              "      <th></th>\n",
              "      <th></th>\n",
              "      <th></th>\n",
              "      <th></th>\n",
              "      <th></th>\n",
              "      <th></th>\n",
              "      <th></th>\n",
              "      <th></th>\n",
              "      <th></th>\n",
              "      <th></th>\n",
              "      <th></th>\n",
              "      <th></th>\n",
              "      <th></th>\n",
              "      <th></th>\n",
              "      <th></th>\n",
              "      <th></th>\n",
              "      <th></th>\n",
              "      <th></th>\n",
              "      <th></th>\n",
              "      <th></th>\n",
              "    </tr>\n",
              "  </thead>\n",
              "  <tbody>\n",
              "    <tr>\n",
              "      <th>768805383</th>\n",
              "      <td>Existing Customer</td>\n",
              "      <td>45</td>\n",
              "      <td>M</td>\n",
              "      <td>3</td>\n",
              "      <td>High School</td>\n",
              "      <td>Married</td>\n",
              "      <td>$60K - $80K</td>\n",
              "      <td>Blue</td>\n",
              "      <td>39</td>\n",
              "      <td>5</td>\n",
              "      <td>1</td>\n",
              "      <td>3</td>\n",
              "      <td>12691.0</td>\n",
              "      <td>777</td>\n",
              "      <td>11914.0</td>\n",
              "      <td>1.335</td>\n",
              "      <td>1144</td>\n",
              "      <td>42</td>\n",
              "      <td>1.625</td>\n",
              "      <td>0.061</td>\n",
              "    </tr>\n",
              "    <tr>\n",
              "      <th>818770008</th>\n",
              "      <td>Existing Customer</td>\n",
              "      <td>49</td>\n",
              "      <td>F</td>\n",
              "      <td>5</td>\n",
              "      <td>Graduate</td>\n",
              "      <td>Single</td>\n",
              "      <td>Less than $40K</td>\n",
              "      <td>Blue</td>\n",
              "      <td>44</td>\n",
              "      <td>6</td>\n",
              "      <td>1</td>\n",
              "      <td>2</td>\n",
              "      <td>8256.0</td>\n",
              "      <td>864</td>\n",
              "      <td>7392.0</td>\n",
              "      <td>1.541</td>\n",
              "      <td>1291</td>\n",
              "      <td>33</td>\n",
              "      <td>3.714</td>\n",
              "      <td>0.105</td>\n",
              "    </tr>\n",
              "    <tr>\n",
              "      <th>713982108</th>\n",
              "      <td>Existing Customer</td>\n",
              "      <td>51</td>\n",
              "      <td>M</td>\n",
              "      <td>3</td>\n",
              "      <td>Graduate</td>\n",
              "      <td>Married</td>\n",
              "      <td>$80K - $120K</td>\n",
              "      <td>Blue</td>\n",
              "      <td>36</td>\n",
              "      <td>4</td>\n",
              "      <td>1</td>\n",
              "      <td>0</td>\n",
              "      <td>3418.0</td>\n",
              "      <td>0</td>\n",
              "      <td>3418.0</td>\n",
              "      <td>2.594</td>\n",
              "      <td>1887</td>\n",
              "      <td>20</td>\n",
              "      <td>2.333</td>\n",
              "      <td>0.000</td>\n",
              "    </tr>\n",
              "    <tr>\n",
              "      <th>769911858</th>\n",
              "      <td>Existing Customer</td>\n",
              "      <td>40</td>\n",
              "      <td>F</td>\n",
              "      <td>4</td>\n",
              "      <td>High School</td>\n",
              "      <td>Unknown</td>\n",
              "      <td>Less than $40K</td>\n",
              "      <td>Blue</td>\n",
              "      <td>34</td>\n",
              "      <td>3</td>\n",
              "      <td>4</td>\n",
              "      <td>1</td>\n",
              "      <td>3313.0</td>\n",
              "      <td>2517</td>\n",
              "      <td>796.0</td>\n",
              "      <td>1.405</td>\n",
              "      <td>1171</td>\n",
              "      <td>20</td>\n",
              "      <td>2.333</td>\n",
              "      <td>0.760</td>\n",
              "    </tr>\n",
              "    <tr>\n",
              "      <th>709106358</th>\n",
              "      <td>Existing Customer</td>\n",
              "      <td>40</td>\n",
              "      <td>M</td>\n",
              "      <td>3</td>\n",
              "      <td>Uneducated</td>\n",
              "      <td>Married</td>\n",
              "      <td>$60K - $80K</td>\n",
              "      <td>Blue</td>\n",
              "      <td>21</td>\n",
              "      <td>5</td>\n",
              "      <td>1</td>\n",
              "      <td>0</td>\n",
              "      <td>4716.0</td>\n",
              "      <td>0</td>\n",
              "      <td>4716.0</td>\n",
              "      <td>2.175</td>\n",
              "      <td>816</td>\n",
              "      <td>28</td>\n",
              "      <td>2.500</td>\n",
              "      <td>0.000</td>\n",
              "    </tr>\n",
              "  </tbody>\n",
              "</table>\n",
              "</div>"
            ],
            "text/plain": [
              "               attrition_flag  ...  avg_utilization_ratio\n",
              "client_num                     ...                       \n",
              "768805383   Existing Customer  ...                  0.061\n",
              "818770008   Existing Customer  ...                  0.105\n",
              "713982108   Existing Customer  ...                  0.000\n",
              "769911858   Existing Customer  ...                  0.760\n",
              "709106358   Existing Customer  ...                  0.000\n",
              "\n",
              "[5 rows x 20 columns]"
            ]
          },
          "metadata": {
            "tags": []
          },
          "execution_count": 43
        }
      ]
    },
    {
      "cell_type": "code",
      "metadata": {
        "colab": {
          "base_uri": "https://localhost:8080/"
        },
        "id": "_nBQIDwvsp9l",
        "outputId": "2e923452-3c37-4ff6-ec6b-ca242a906c0a"
      },
      "source": [
        "df.education_level.value_counts()"
      ],
      "execution_count": 44,
      "outputs": [
        {
          "output_type": "execute_result",
          "data": {
            "text/plain": [
              "Graduate         3128\n",
              "High School      2013\n",
              "Unknown          1519\n",
              "Uneducated       1487\n",
              "College          1013\n",
              "Post-Graduate     516\n",
              "Doctorate         451\n",
              "Name: education_level, dtype: int64"
            ]
          },
          "metadata": {
            "tags": []
          },
          "execution_count": 44
        }
      ]
    },
    {
      "cell_type": "markdown",
      "metadata": {
        "id": "e3M2G_iUtDcy"
      },
      "source": [
        "# There are 1519 unknown education. What do we do with it"
      ]
    },
    {
      "cell_type": "markdown",
      "metadata": {
        "id": "iE1_Sk41XJup"
      },
      "source": [
        "## Value_counts for all fields"
      ]
    },
    {
      "cell_type": "code",
      "metadata": {
        "colab": {
          "base_uri": "https://localhost:8080/"
        },
        "id": "0rZrSfFntHUt",
        "outputId": "b237beb3-b9bd-43ea-f262-23e126445c69"
      },
      "source": [
        "for c in df.columns:\r\n",
        "  p(df[[c]].value_counts())\r\n",
        "  print()"
      ],
      "execution_count": 45,
      "outputs": [
        {
          "output_type": "stream",
          "text": [
            "attrition_flag   \n",
            "Existing Customer    8500\n",
            "Attrited Customer    1627\n",
            "dtype: int64\n",
            "\n",
            "customer_age\n",
            "44              500\n",
            "49              495\n",
            "46              490\n",
            "45              486\n",
            "47              479\n",
            "43              473\n",
            "48              472\n",
            "50              452\n",
            "42              426\n",
            "51              398\n",
            "53              387\n",
            "41              379\n",
            "52              376\n",
            "40              361\n",
            "39              333\n",
            "54              307\n",
            "38              303\n",
            "55              279\n",
            "56              262\n",
            "37              260\n",
            "57              223\n",
            "36              221\n",
            "35              184\n",
            "58              157\n",
            "59              157\n",
            "34              146\n",
            "60              127\n",
            "33              127\n",
            "32              106\n",
            "65              101\n",
            "62               93\n",
            "61               93\n",
            "31               91\n",
            "26               78\n",
            "30               70\n",
            "63               65\n",
            "29               56\n",
            "64               43\n",
            "27               32\n",
            "28               29\n",
            "67                4\n",
            "66                2\n",
            "68                2\n",
            "70                1\n",
            "73                1\n",
            "dtype: int64\n",
            "\n",
            "gender\n",
            "F         5358\n",
            "M         4769\n",
            "dtype: int64\n",
            "\n",
            "dependent_count\n",
            "3                  2732\n",
            "2                  2655\n",
            "1                  1838\n",
            "4                  1574\n",
            "0                   904\n",
            "5                   424\n",
            "dtype: int64\n",
            "\n",
            "education_level\n",
            "Graduate           3128\n",
            "High School        2013\n",
            "Unknown            1519\n",
            "Uneducated         1487\n",
            "College            1013\n",
            "Post-Graduate       516\n",
            "Doctorate           451\n",
            "dtype: int64\n",
            "\n",
            "marital_status\n",
            "Married           4687\n",
            "Single            3943\n",
            "Unknown            749\n",
            "Divorced           748\n",
            "dtype: int64\n",
            "\n",
            "income_category\n",
            "Less than $40K     3561\n",
            "$40K - $60K        1790\n",
            "$80K - $120K       1535\n",
            "$60K - $80K        1402\n",
            "Unknown            1112\n",
            "$120K +             727\n",
            "dtype: int64\n",
            "\n",
            "card_category\n",
            "Blue             9436\n",
            "Silver            555\n",
            "Gold              116\n",
            "Platinum           20\n",
            "dtype: int64\n",
            "\n",
            "months_on_book\n",
            "36                2463\n",
            "37                 358\n",
            "34                 353\n",
            "38                 347\n",
            "39                 341\n",
            "40                 333\n",
            "31                 318\n",
            "35                 317\n",
            "33                 305\n",
            "30                 300\n",
            "41                 297\n",
            "32                 289\n",
            "28                 275\n",
            "43                 273\n",
            "42                 271\n",
            "29                 241\n",
            "44                 230\n",
            "45                 227\n",
            "27                 206\n",
            "46                 197\n",
            "26                 186\n",
            "47                 171\n",
            "25                 165\n",
            "48                 162\n",
            "24                 160\n",
            "49                 141\n",
            "23                 116\n",
            "22                 105\n",
            "56                 103\n",
            "50                  96\n",
            "21                  83\n",
            "51                  80\n",
            "53                  78\n",
            "20                  74\n",
            "13                  70\n",
            "19                  63\n",
            "52                  62\n",
            "18                  58\n",
            "54                  53\n",
            "55                  42\n",
            "17                  39\n",
            "15                  34\n",
            "16                  29\n",
            "14                  16\n",
            "dtype: int64\n",
            "\n",
            "total_relationship_count\n",
            "3                           2305\n",
            "4                           1912\n",
            "5                           1891\n",
            "6                           1866\n",
            "2                           1243\n",
            "1                            910\n",
            "dtype: int64\n",
            "\n",
            "months_inactive_12_mon\n",
            "3                         3846\n",
            "2                         3282\n",
            "1                         2233\n",
            "4                          435\n",
            "5                          178\n",
            "6                          124\n",
            "0                           29\n",
            "dtype: int64\n",
            "\n",
            "contacts_count_12_mon\n",
            "3                        3380\n",
            "2                        3227\n",
            "1                        1499\n",
            "4                        1392\n",
            "0                         399\n",
            "5                         176\n",
            "6                          54\n",
            "dtype: int64\n",
            "\n",
            "credit_limit\n",
            "34516.0         508\n",
            "1438.3          507\n",
            "15987.0          18\n",
            "9959.0           18\n",
            "23981.0          12\n",
            "               ... \n",
            "10130.0           1\n",
            "10133.0           1\n",
            "10136.0           1\n",
            "10144.0           1\n",
            "6511.0            1\n",
            "Length: 6205, dtype: int64\n",
            "\n",
            "total_revolving_bal\n",
            "0                      2470\n",
            "2517                    508\n",
            "1965                     12\n",
            "1480                     12\n",
            "1664                     11\n",
            "                       ... \n",
            "1712                      1\n",
            "1756                      1\n",
            "1757                      1\n",
            "1768                      1\n",
            "1447                      1\n",
            "Length: 1974, dtype: int64\n",
            "\n",
            "avg_open_to_buy\n",
            "1438.3             324\n",
            "34516.0             98\n",
            "31999.0             26\n",
            "787.0                8\n",
            "713.0                7\n",
            "                  ... \n",
            "9637.0               1\n",
            "9641.0               1\n",
            "9661.0               1\n",
            "9663.0               1\n",
            "3.0                  1\n",
            "Length: 6813, dtype: int64\n",
            "\n",
            "total_amt_chng_q4_q1\n",
            "0.791                   36\n",
            "0.712                   34\n",
            "0.743                   34\n",
            "0.735                   33\n",
            "0.718                   33\n",
            "                        ..\n",
            "1.458                    1\n",
            "1.456                    1\n",
            "1.449                    1\n",
            "1.441                    1\n",
            "3.397                    1\n",
            "Length: 1158, dtype: int64\n",
            "\n",
            "total_trans_amt\n",
            "4253               11\n",
            "4509               11\n",
            "2229               10\n",
            "4518               10\n",
            "4498                9\n",
            "                   ..\n",
            "5425                1\n",
            "5421                1\n",
            "5418                1\n",
            "5413                1\n",
            "510                 1\n",
            "Length: 5033, dtype: int64\n",
            "\n",
            "total_trans_ct\n",
            "81                208\n",
            "75                203\n",
            "71                203\n",
            "69                202\n",
            "82                202\n",
            "                 ... \n",
            "11                  2\n",
            "138                 1\n",
            "132                 1\n",
            "134                 1\n",
            "139                 1\n",
            "Length: 126, dtype: int64\n",
            "\n",
            "total_ct_chng_q4_q1\n",
            "0.667                  171\n",
            "1.000                  166\n",
            "0.500                  161\n",
            "0.750                  156\n",
            "0.600                  113\n",
            "                      ... \n",
            "1.476                    1\n",
            "1.478                    1\n",
            "0.434                    1\n",
            "1.480                    1\n",
            "3.714                    1\n",
            "Length: 830, dtype: int64\n",
            "\n",
            "avg_utilization_ratio\n",
            "0.000                    2470\n",
            "0.073                      44\n",
            "0.057                      33\n",
            "0.048                      32\n",
            "0.060                      30\n",
            "                         ... \n",
            "0.921                       1\n",
            "0.920                       1\n",
            "0.918                       1\n",
            "0.916                       1\n",
            "0.999                       1\n",
            "Length: 964, dtype: int64\n",
            "\n"
          ],
          "name": "stdout"
        }
      ]
    },
    {
      "cell_type": "markdown",
      "metadata": {
        "id": "WRoO8JulyxC2"
      },
      "source": [
        "# Avg_Utilization_Ratio \r\n",
        "It is the ratio of (credit card spent + money withdrawal)/(Total available limit for credit card spends + Total money withdrawal limit)"
      ]
    },
    {
      "cell_type": "markdown",
      "metadata": {
        "id": "bO8_aUhv8h2p"
      },
      "source": [
        "https://leaps.analyttica.com/sample_cases/11"
      ]
    },
    {
      "cell_type": "markdown",
      "metadata": {
        "id": "pEtlyW3L44Vc"
      },
      "source": [
        "total_Relationship_Count\tNum\tTotal no. of products held by the customer"
      ]
    },
    {
      "cell_type": "markdown",
      "metadata": {
        "id": "kBtIu1Ua6QHt"
      },
      "source": [
        "Total_Revolving_Bal\tNum\tTotal Revolving Balance on the Credit Card"
      ]
    },
    {
      "cell_type": "markdown",
      "metadata": {
        "id": "4r4fSXQI8UQi"
      },
      "source": [
        "Looking at the distribution plot of the Months on book there is a weird concentration in 36 months, does any one know a reason for this?"
      ]
    },
    {
      "cell_type": "markdown",
      "metadata": {
        "id": "CFM-npJy8W9p"
      },
      "source": [
        "# Is there a relation between 0 for total_revolving_balance and attrition or months_on_book"
      ]
    },
    {
      "cell_type": "markdown",
      "metadata": {
        "id": "X9exsKrn9Uqk"
      },
      "source": [
        "Is there a relation between non usage of the card to attrition"
      ]
    },
    {
      "cell_type": "markdown",
      "metadata": {
        "id": "pnb2BBwF-jTR"
      },
      "source": [
        "## Change column Attrition_Flag to 'exists' with 1 for yes and 0 for no (left the card company)"
      ]
    },
    {
      "cell_type": "code",
      "metadata": {
        "colab": {
          "base_uri": "https://localhost:8080/"
        },
        "id": "Gc8hUrS9YChD",
        "outputId": "c2769d35-f7f1-480e-d0bd-68c6a16333cc"
      },
      "source": [
        "df.rename(columns={'attrition_flag': 'exists'}, inplace=True)\r\n",
        "df.columns"
      ],
      "execution_count": 46,
      "outputs": [
        {
          "output_type": "execute_result",
          "data": {
            "text/plain": [
              "Index(['exists', 'customer_age', 'gender', 'dependent_count',\n",
              "       'education_level', 'marital_status', 'income_category', 'card_category',\n",
              "       'months_on_book', 'total_relationship_count', 'months_inactive_12_mon',\n",
              "       'contacts_count_12_mon', 'credit_limit', 'total_revolving_bal',\n",
              "       'avg_open_to_buy', 'total_amt_chng_q4_q1', 'total_trans_amt',\n",
              "       'total_trans_ct', 'total_ct_chng_q4_q1', 'avg_utilization_ratio'],\n",
              "      dtype='object')"
            ]
          },
          "metadata": {
            "tags": []
          },
          "execution_count": 46
        }
      ]
    },
    {
      "cell_type": "code",
      "metadata": {
        "colab": {
          "base_uri": "https://localhost:8080/"
        },
        "id": "cYCAoAWbYHxr",
        "outputId": "572ffd25-dd64-4990-9456-ed67bfb03ab0"
      },
      "source": [
        "df.exists = df['exists'].apply(lambda x: 1 if x == 'Existing Customer' else 0)\r\n",
        "df.exists.value_counts()"
      ],
      "execution_count": 47,
      "outputs": [
        {
          "output_type": "execute_result",
          "data": {
            "text/plain": [
              "1    8500\n",
              "0    1627\n",
              "Name: exists, dtype: int64"
            ]
          },
          "metadata": {
            "tags": []
          },
          "execution_count": 47
        }
      ]
    },
    {
      "cell_type": "markdown",
      "metadata": {
        "id": "3Pt2Cx5f9K1f"
      },
      "source": [
        "## Change column Gender to 'female' with 1 for yes and 0 for no"
      ]
    },
    {
      "cell_type": "code",
      "metadata": {
        "colab": {
          "base_uri": "https://localhost:8080/"
        },
        "id": "PSPCrhS9YR52",
        "outputId": "68bad46b-f242-46c9-c8fb-100625d2fbd4"
      },
      "source": [
        "df.rename(columns={'gender': 'female'}, inplace=True)\r\n",
        "df.female = df['female'].apply(lambda x: 1 if x == 'F' else 0)\r\n",
        "df.female.value_counts()"
      ],
      "execution_count": 48,
      "outputs": [
        {
          "output_type": "execute_result",
          "data": {
            "text/plain": [
              "1    5358\n",
              "0    4769\n",
              "Name: female, dtype: int64"
            ]
          },
          "metadata": {
            "tags": []
          },
          "execution_count": 48
        }
      ]
    },
    {
      "cell_type": "markdown",
      "metadata": {
        "id": "WmXhG_u7YfyA"
      },
      "source": [
        "## Change column customer_age to 'age' "
      ]
    },
    {
      "cell_type": "code",
      "metadata": {
        "colab": {
          "base_uri": "https://localhost:8080/"
        },
        "id": "lZ2g8Ag9YcJh",
        "outputId": "40ae91a0-ec08-4115-f106-c72280887e3a"
      },
      "source": [
        "df.rename(columns={'customer_age': 'age'}, inplace=True)\r\n",
        "df.columns"
      ],
      "execution_count": 49,
      "outputs": [
        {
          "output_type": "execute_result",
          "data": {
            "text/plain": [
              "Index(['exists', 'age', 'female', 'dependent_count', 'education_level',\n",
              "       'marital_status', 'income_category', 'card_category', 'months_on_book',\n",
              "       'total_relationship_count', 'months_inactive_12_mon',\n",
              "       'contacts_count_12_mon', 'credit_limit', 'total_revolving_bal',\n",
              "       'avg_open_to_buy', 'total_amt_chng_q4_q1', 'total_trans_amt',\n",
              "       'total_trans_ct', 'total_ct_chng_q4_q1', 'avg_utilization_ratio'],\n",
              "      dtype='object')"
            ]
          },
          "metadata": {
            "tags": []
          },
          "execution_count": 49
        }
      ]
    },
    {
      "cell_type": "markdown",
      "metadata": {
        "id": "K928SEa5YpXO"
      },
      "source": [
        "## Change column education_level to 'education' and numeric as per table below"
      ]
    },
    {
      "cell_type": "code",
      "metadata": {
        "colab": {
          "base_uri": "https://localhost:8080/"
        },
        "id": "ABs8KwYdYsHL",
        "outputId": "c73b1ec1-fc1f-4243-963c-ccab156c60a1"
      },
      "source": [
        "eds = ['Unknown', 'Uneducated', 'High School', 'College', 'Graduate', 'Post-Graduate','Doctorate']\r\n",
        "df.rename(columns={'education_level': 'education'}, inplace=True)\r\n",
        "df.education = df['education'].apply(lambda x: eds.index(x))\r\n",
        "df.education.value_counts()"
      ],
      "execution_count": 50,
      "outputs": [
        {
          "output_type": "execute_result",
          "data": {
            "text/plain": [
              "4    3128\n",
              "2    2013\n",
              "0    1519\n",
              "1    1487\n",
              "3    1013\n",
              "5     516\n",
              "6     451\n",
              "Name: education, dtype: int64"
            ]
          },
          "metadata": {
            "tags": []
          },
          "execution_count": 50
        }
      ]
    },
    {
      "cell_type": "markdown",
      "metadata": {
        "id": "tVQiq7smY4b2"
      },
      "source": [
        "\r\n",
        "```\r\n",
        "education_level\r\n",
        "Graduate           3128\r\n",
        "High School        2013\r\n",
        "Unknown            1519\r\n",
        "Uneducated         1487\r\n",
        "College            1013\r\n",
        "Post-Graduate       516\r\n",
        "Doctorate           451\r\n",
        "```\r\n",
        "\r\n",
        "\r\n"
      ]
    },
    {
      "cell_type": "markdown",
      "metadata": {
        "id": "5Dam1hflZgkG"
      },
      "source": [
        "## Change column marital_status to numeric as per table below"
      ]
    },
    {
      "cell_type": "markdown",
      "metadata": {
        "id": "xnymrMgxZl63"
      },
      "source": [
        "\r\n",
        "\r\n",
        "```\r\n",
        "marital_status\r\n",
        "Married           4687\r\n",
        "Single            3943\r\n",
        "Unknown            749\r\n",
        "Divorced           748\r\n",
        "\r\n",
        "marital_status\r\n",
        "Married           2\r\n",
        "Single            1\r\n",
        "Unknown            0\r\n",
        "Divorced           3\r\n",
        "```\r\n",
        "\r\n"
      ]
    },
    {
      "cell_type": "code",
      "metadata": {
        "colab": {
          "base_uri": "https://localhost:8080/"
        },
        "id": "Por7b4ObY6t9",
        "outputId": "38a1915f-ee0d-4b7a-abb3-16a31cf0c197"
      },
      "source": [
        "maritals = ['Unknown', 'Single', 'Married', 'Divorced']\r\n",
        "df.marital_status = df['marital_status'].apply(lambda x: maritals.index(x))\r\n",
        "df.marital_status.value_counts()"
      ],
      "execution_count": 51,
      "outputs": [
        {
          "output_type": "execute_result",
          "data": {
            "text/plain": [
              "2    4687\n",
              "1    3943\n",
              "0     749\n",
              "3     748\n",
              "Name: marital_status, dtype: int64"
            ]
          },
          "metadata": {
            "tags": []
          },
          "execution_count": 51
        }
      ]
    },
    {
      "cell_type": "markdown",
      "metadata": {
        "id": "nsuzGZICaIA2"
      },
      "source": [
        "## Change column income_category to numeric as per table below"
      ]
    },
    {
      "cell_type": "markdown",
      "metadata": {
        "id": "Jchv7nDxaNtD"
      },
      "source": [
        "\r\n",
        "\r\n",
        "```\r\n",
        "income_category\r\n",
        "Less than $40K     3561\r\n",
        "$40K - $60K        1790\r\n",
        "$80K - $120K       1535\r\n",
        "$60K - $80K        1402\r\n",
        "Unknown            1112\r\n",
        "$120K +             727\r\n",
        "```\r\n",
        "\r\n"
      ]
    },
    {
      "cell_type": "code",
      "metadata": {
        "colab": {
          "base_uri": "https://localhost:8080/"
        },
        "id": "YoygVPuNaJdV",
        "outputId": "10e815bf-9b03-48b9-8615-7c739c26a1ed"
      },
      "source": [
        "incs = ['Unknown','Less than $40K', '$40K - $60K', '$80K - $120K', '$60K - $80K', '$120K +']\r\n",
        "df.income_category = df['income_category'].apply(lambda x: incs.index(x))\r\n",
        "df.income_category.value_counts()"
      ],
      "execution_count": 52,
      "outputs": [
        {
          "output_type": "execute_result",
          "data": {
            "text/plain": [
              "1    3561\n",
              "2    1790\n",
              "3    1535\n",
              "4    1402\n",
              "0    1112\n",
              "5     727\n",
              "Name: income_category, dtype: int64"
            ]
          },
          "metadata": {
            "tags": []
          },
          "execution_count": 52
        }
      ]
    },
    {
      "cell_type": "markdown",
      "metadata": {
        "id": "MpyLe2v_aUsD"
      },
      "source": [
        "## Change card_category to 'card' with numeric as per table below"
      ]
    },
    {
      "cell_type": "markdown",
      "metadata": {
        "id": "KbhT8SWeaYg3"
      },
      "source": [
        "\r\n",
        "\r\n",
        "```\r\n",
        "card_category\r\n",
        "Blue             9436\r\n",
        "Silver            555\r\n",
        "Gold              116\r\n",
        "Platinum           20\r\n",
        "```\r\n",
        "\r\n"
      ]
    },
    {
      "cell_type": "code",
      "metadata": {
        "colab": {
          "base_uri": "https://localhost:8080/"
        },
        "id": "e0tMYPSfac8c",
        "outputId": "c01c3492-995c-431d-8f68-c8e83905307b"
      },
      "source": [
        "cards = ['', 'Blue', 'Silver', 'Gold', 'Platinum']\r\n",
        "df.rename(columns={'card_category': 'card'}, inplace=True)\r\n",
        "df.card = df['card'].apply(lambda x: cards.index(x))\r\n",
        "df.card.value_counts()"
      ],
      "execution_count": 53,
      "outputs": [
        {
          "output_type": "execute_result",
          "data": {
            "text/plain": [
              "1    9436\n",
              "2     555\n",
              "3     116\n",
              "4      20\n",
              "Name: card, dtype: int64"
            ]
          },
          "metadata": {
            "tags": []
          },
          "execution_count": 53
        }
      ]
    },
    {
      "cell_type": "markdown",
      "metadata": {
        "id": "EpAovaeeajBW"
      },
      "source": [
        "## Verify all fields are numeric"
      ]
    },
    {
      "cell_type": "code",
      "metadata": {
        "colab": {
          "base_uri": "https://localhost:8080/"
        },
        "id": "DGGxPCAQakZ6",
        "outputId": "c4419228-014c-4c78-e4f2-39b0348ed719"
      },
      "source": [
        "df.info()"
      ],
      "execution_count": 54,
      "outputs": [
        {
          "output_type": "stream",
          "text": [
            "<class 'pandas.core.frame.DataFrame'>\n",
            "Int64Index: 10127 entries, 768805383 to 714337233\n",
            "Data columns (total 20 columns):\n",
            " #   Column                    Non-Null Count  Dtype  \n",
            "---  ------                    --------------  -----  \n",
            " 0   exists                    10127 non-null  int64  \n",
            " 1   age                       10127 non-null  int64  \n",
            " 2   female                    10127 non-null  int64  \n",
            " 3   dependent_count           10127 non-null  int64  \n",
            " 4   education                 10127 non-null  int64  \n",
            " 5   marital_status            10127 non-null  int64  \n",
            " 6   income_category           10127 non-null  int64  \n",
            " 7   card                      10127 non-null  int64  \n",
            " 8   months_on_book            10127 non-null  int64  \n",
            " 9   total_relationship_count  10127 non-null  int64  \n",
            " 10  months_inactive_12_mon    10127 non-null  int64  \n",
            " 11  contacts_count_12_mon     10127 non-null  int64  \n",
            " 12  credit_limit              10127 non-null  float64\n",
            " 13  total_revolving_bal       10127 non-null  int64  \n",
            " 14  avg_open_to_buy           10127 non-null  float64\n",
            " 15  total_amt_chng_q4_q1      10127 non-null  float64\n",
            " 16  total_trans_amt           10127 non-null  int64  \n",
            " 17  total_trans_ct            10127 non-null  int64  \n",
            " 18  total_ct_chng_q4_q1       10127 non-null  float64\n",
            " 19  avg_utilization_ratio     10127 non-null  float64\n",
            "dtypes: float64(5), int64(15)\n",
            "memory usage: 1.6 MB\n"
          ],
          "name": "stdout"
        }
      ]
    },
    {
      "cell_type": "markdown",
      "metadata": {
        "id": "R_5FpFzBUc71"
      },
      "source": [
        "# Plot pair relations of all columns\r\n",
        "\r\n",
        "Each plot is too small - need to limit it to few pairs"
      ]
    },
    {
      "cell_type": "code",
      "metadata": {
        "colab": {
          "base_uri": "https://localhost:8080/",
          "height": 392
        },
        "id": "UVJJZQHSUttC",
        "outputId": "e236def7-7020-45dd-a1b4-c09436763562"
      },
      "source": [
        "sns.pairplot(data=df, kind='kde', vars=['exists','age'])"
      ],
      "execution_count": 62,
      "outputs": [
        {
          "output_type": "execute_result",
          "data": {
            "text/plain": [
              "<seaborn.axisgrid.PairGrid at 0x7f91cc32c5f8>"
            ]
          },
          "metadata": {
            "tags": []
          },
          "execution_count": 62
        },
        {
          "output_type": "display_data",
          "data": {
            "image/png": "[encoded data removed]",
            "text/plain": [
              "<Figure size 360x360 with 6 Axes>"
            ]
          },
          "metadata": {
            "tags": [],
            "needs_background": "light"
          }
        }
      ]
    },
    {
      "cell_type": "code",
      "metadata": {
        "colab": {
          "base_uri": "https://localhost:8080/",
          "height": 354
        },
        "id": "ai849b0da49x",
        "outputId": "1bdf6539-e18b-433f-932a-9d84a4168539"
      },
      "source": [
        "sns.countplot('exists',hue='education',data=df)"
      ],
      "execution_count": 59,
      "outputs": [
        {
          "output_type": "stream",
          "text": [
            "/usr/local/lib/python3.6/dist-packages/seaborn/_decorators.py:43: FutureWarning: Pass the following variable as a keyword arg: x. From version 0.12, the only valid positional argument will be `data`, and passing other arguments without an explicit keyword will result in an error or misinterpretation.\n",
            "  FutureWarning\n"
          ],
          "name": "stderr"
        },
        {
          "output_type": "execute_result",
          "data": {
            "text/plain": [
              "<matplotlib.axes._subplots.AxesSubplot at 0x7f91cc82a630>"
            ]
          },
          "metadata": {
            "tags": []
          },
          "execution_count": 59
        },
        {
          "output_type": "display_data",
          "data": {
            "image/png": "[encoded data removed]",
            "text/plain": [
              "<Figure size 432x288 with 1 Axes>"
            ]
          },
          "metadata": {
            "tags": [],
            "needs_background": "light"
          }
        }
      ]
    }
  ]
}