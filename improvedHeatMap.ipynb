{
  "nbformat": 4,
  "nbformat_minor": 0,
  "metadata": {
    "colab": {
      "name": "improvedHeatMap.ipynb",
      "provenance": [],
      "collapsed_sections": [],
      "toc_visible": true,
      "authorship_tag": "ABX9TyOHuWX0Vs+nWSmGjrF16mHF",
      "include_colab_link": true
    },
    "kernelspec": {
      "name": "python3",
      "display_name": "Python 3"
    }
  },
  "cells": [
    {
      "cell_type": "markdown",
      "metadata": {
        "id": "view-in-github",
        "colab_type": "text"
      },
      "source": [
        "<a href=\"https://colab.research.google.com/github/drbarak/Project2_EDA/blob/main/improvedHeatMap.ipynb\" target=\"_parent\"><img src=\"https://colab.research.google.com/assets/colab-badge.svg\" alt=\"Open In Colab\"/></a>"
      ]
    },
    {
      "cell_type": "markdown",
      "metadata": {
        "id": "svAi0MIRvTkv"
      },
      "source": [
        "# Developed based on the \"better heatmap\" from\r\n",
        "\r\n",
        "SOURCE: https://towardsdatascience.com/better-heatmaps-and-correlation-matrix-plots-in-python-41445d0f2bec\r\n",
        "\r\n",
        "See also my notebook \"HeatCorrelationBetter\"\r\n",
        "\r\n"
      ]
    },
    {
      "cell_type": "code",
      "metadata": {
        "id": "mLXdEnw5vDCF"
      },
      "source": [
        "n_colors = 256 # Use 256 colors for the diverging color palette\r\n",
        "color_min, color_max = [-1, 1] # Range of values that will be mapped to the palette, i.e. min and max possible correlation\r\n",
        "palette = sns.diverging_palette(20, 220, n=n_colors) # Create the palette\r\n",
        "\r\n",
        "def value_to_color(val):\r\n",
        "    # step 4 - add colors\r\n",
        "\r\n",
        "    val_position = float((val - color_min)) / (color_max - color_min) # position of value in the input range, relative to the length of the input range\r\n",
        "    ind = int(val_position * (n_colors - 1)) # target index in the color palette\r\n",
        "    return palette[ind]\r\n",
        "\r\n",
        "def heatmap(x, y, size, color):\r\n",
        "    # Step 1\r\n",
        "    n = np.sqrt(len(x))\r\n",
        "    fig = plt.figure(figsize=(max(4, n), max(4, n / 2)))\r\n",
        "    #ax = fig.gca()\r\n",
        "\r\n",
        "    plot_grid = plt.GridSpec(1, 15, hspace=0.2, wspace=0.1) # Setup a 1x15 grid\r\n",
        "    ax = plt.subplot(plot_grid[:,:-1]) # Use the leftmost 14 columns of the grid for the main plot\r\n",
        "\r\n",
        "    # Mapping from column names to integer coordinates\r\n",
        "    x_labels = [v for v in sorted(x.unique())]\r\n",
        "    y_labels = [v for v in sorted(y.unique())]\r\n",
        "\r\n",
        "    x_to_num = {p[1]:p[0] for p in enumerate(x_labels)} \r\n",
        "    y_to_num = {p[1]:p[0] for p in enumerate(y_labels)} \r\n",
        "    \r\n",
        "    size_scale = 500\r\n",
        "    ax.scatter(\r\n",
        "        x=x.map(x_to_num), # Use mapping for x\r\n",
        "        y=y.map(y_to_num), # Use mapping for y\r\n",
        "        s=size * size_scale, # Vector of square sizes, proportional to size parameter\r\n",
        "        c=color.apply(value_to_color), # Vector of square color values, mapped to color palette\r\n",
        "        marker='s' # Use square as scatterplot marker\r\n",
        "    )\r\n",
        "    \r\n",
        "    # Show column labels on the axes\r\n",
        "    ax.set_xticks([x_to_num[v] for v in x_labels])\r\n",
        "    ax.set_xticklabels(x_labels, rotation=45, horizontalalignment='right')\r\n",
        "    ax.set_yticks([y_to_num[v] for v in y_labels])\r\n",
        "    ax.set_yticklabels(y_labels)\r\n",
        "\r\n",
        "    # Step 2\r\n",
        "    ax.grid(False, 'major')\r\n",
        "    ax.grid(True, 'minor')\r\n",
        "    ax.set_xticks([t + 0.5 for t in ax.get_xticks()], minor=True)\r\n",
        "    ax.set_yticks([t + 0.5 for t in ax.get_yticks()], minor=True)\r\n",
        "\r\n",
        "    # Step 3\r\n",
        "    ax.set_xlim([-0.5, max([v for v in x_to_num.values()]) + 0.5]) \r\n",
        "    ax.set_ylim([-0.5, max([v for v in y_to_num.values()]) + 0.5])\r\n",
        "\r\n",
        "    # Step 5\r\n",
        "    # Add color legend on the right side of the plot\r\n",
        "    ax = plt.subplot(plot_grid[:,-1]) # Use the rightmost column of the plot\r\n",
        "\r\n",
        "    col_x = [0]*len(palette) # Fixed x coordinate for the bars\r\n",
        "    bar_y=np.linspace(color_min, color_max, n_colors) # y coordinates for each of the n_colors bars\r\n",
        "\r\n",
        "    bar_height = bar_y[1] - bar_y[0]\r\n",
        "    ax.barh(\r\n",
        "        y=bar_y,\r\n",
        "        width=[5]*len(palette), # Make bars 5 units wide\r\n",
        "        left=col_x, # Make bars start at 0\r\n",
        "        height=bar_height,\r\n",
        "        color=palette,\r\n",
        "        linewidth=0\r\n",
        "    )\r\n",
        "    ax.set_xlim(1, 2) # Bars are going from 0 to 5, so lets crop the plot somewhere in the middle\r\n",
        "    ax.grid(False) # Hide grid\r\n",
        "    ax.set_facecolor('white') # Make background white\r\n",
        "    ax.set_xticks([]) # Remove horizontal ticks\r\n",
        "    ax.set_yticks(np.linspace(min(bar_y), max(bar_y), 3)) # Show vertical ticks for min, middle and max\r\n",
        "    ax.yaxis.tick_right() # Show vertical ticks on the right "
      ],
      "execution_count": null,
      "outputs": []
    },
    {
      "cell_type": "code",
      "metadata": {
        "id": "tcth6o7Iw-Xk"
      },
      "source": [
        "def clear_corr(df, clear, display_table=True):\r\n",
        "  clear_opt = 0\r\n",
        "  clear_opts = ['diagonal', 'upperleft', 'lowerleft', 'upperleftdiagonal', 'lowerleftdiagonal',\r\n",
        "                'upperright', 'lowerright', 'upperrightdiagonal', 'lowerrightdiagonal',\r\n",
        "                'diagonalleft','diagonalright']\r\n",
        "  if clear and clear.lower() in clear_opts:\r\n",
        "    clear_opt = clear_opts.index(clear.lower()) + 1\r\n",
        "\r\n",
        "  #corr = df[df.columns].corr()  # n columns makes n * n correlations values\r\n",
        "  corr = df.corr()\r\n",
        "  if clear_opt:\r\n",
        "    corr = corr[sorted(df.columns, reverse=True)]\r\n",
        "    corr = corr.loc[sorted(df.columns, reverse=False)]\r\n",
        "    n = len(corr.columns)\r\n",
        "    diag = 0 if clear_opt in [1,4,3,8,9,10,11] else 1\r\n",
        "    for i in range(n):\r\n",
        "      if clear_opt in [10]:    # diagonalleft\r\n",
        "        corr.iloc[i, i + diag] = 0\r\n",
        "      elif clear_opt in [6,8]:  # upperright, upperrightdiagonal \r\n",
        "        corr.iloc[i, i + diag:n] = 0\r\n",
        "      elif clear_opt in [3,5]:  # lowerleft, lowerleftdiagonal\r\n",
        "        corr.iloc[i, 0:i + diag] = 0\r\n",
        "      elif clear_opt in [2,4]:  # upperleft, upperleftdiagonal\r\n",
        "        corr.iloc[i, 0: n - i - diag] = 0\r\n",
        "      elif clear_opt in [1, 11]:  # diagonal, diagonalright\r\n",
        "        corr.iloc[i, n - i - 1] = 0\r\n",
        "      elif clear_opt in [7,9]:  # lowerright, lowerrightdiagonal\r\n",
        "        corr.iloc[i, n - i + diag - 1: n] = 0\r\n",
        "  if display_table:\r\n",
        "    display(corr.head())\r\n",
        "  return corr"
      ],
      "execution_count": null,
      "outputs": []
    },
    {
      "cell_type": "code",
      "metadata": {
        "id": "4QidvG0XxEM8"
      },
      "source": [
        "def display_corr(df, clear=None, display_table=True):\r\n",
        "  # first remove all non numeric columns\r\n",
        "  s = df.dtypes[df.dtypes != 'int64'][df.dtypes != 'float64']\r\n",
        "  corr = df\r\n",
        "  for c in s.index:\r\n",
        "    corr = corr.drop(c, axis=1)\r\n",
        "  corr = clear_corr(corr, clear, display_table)\r\n",
        "  corr = pd.melt(corr.reset_index(), id_vars='index') # Unpivot the dataframe, so we can get pair of arrays for x and y\r\n",
        "  corr.columns = ['x', 'y', 'value']\r\n",
        "  heatmap(x=corr['x'], y=corr['y'], size=corr['value'].abs(), color=corr.value)    corr = clear_corr(df, clear)"
      ],
      "execution_count": null,
      "outputs": []
    }
  ]
}